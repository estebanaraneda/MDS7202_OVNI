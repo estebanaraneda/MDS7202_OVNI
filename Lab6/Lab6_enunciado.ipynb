{
 "cells": [
  {
   "cell_type": "markdown",
   "metadata": {
    "cell_id": "b5c0d2440b3e4995a794ded565213150",
    "deepnote_cell_type": "markdown",
    "id": "_Mql1uRoI5v5"
   },
   "source": [
    "<h1><center>Laboratorio 6: Optimización de modelos 🧪</center></h1>\n",
    "\n",
    "<center><strong>MDS7202: Laboratorio de Programación Científica para Ciencia de Datos - Primavera 2025</strong></center>"
   ]
  },
  {
   "cell_type": "markdown",
   "metadata": {
    "cell_id": "bfb94b9656f145ad83e81b75d218cb70",
    "deepnote_cell_type": "markdown",
    "id": "FAPGIlEAI5v8"
   },
   "source": [
    "### Cuerpo Docente:\n",
    "\n",
    "- Profesores: Diego Cortez, Gabriel Iturra\n",
    "- Auxiliares: Melanie Peña, Valentina Rojas\n",
    "- Ayudantes: Nicolás Cabello, Cristopher Urbina"
   ]
  },
  {
   "cell_type": "markdown",
   "metadata": {
    "cell_id": "b1b537fdd27c43909a49d3476ce64d91",
    "deepnote_cell_type": "markdown",
    "id": "8NozgbkZI5v9"
   },
   "source": [
    "### Equipo: SUPER IMPORTANTE - notebooks sin nombre no serán revisados\n",
    "\n",
    "- Nombre de alumno 1: Esteban Araneda\n",
    "- Nombre de alumno 2: Ignacio Reyes\n",
    "\n",
    "\n",
    "Reglas:\n",
    "\n",
    "- **Grupos de 2 personas**\n",
    "- Fecha de entrega: Entregas Martes a las 23:59.\n",
    "- Instrucciones del lab el viernes a las 16:15 en formato online. Asistencia no es obligatoria, pero se recomienda **fuertemente** asistir.\n",
    "- <u>Prohibidas las copias</u>. Cualquier intento de copia será debidamente penalizado con el reglamento de la escuela.\n",
    "- Tienen que subir el laboratorio a u-cursos y a su repositorio de github. Labs que no estén en u-cursos no serán revisados. Recuerden que el repositorio también tiene nota.\n",
    "- Cualquier duda fuera del horario de clases al foro. Mensajes al equipo docente serán respondidos por este medio.\n",
    "- Pueden usar cualquier material del curso que estimen conveniente."
   ]
  },
  {
   "cell_type": "markdown",
   "metadata": {
    "id": "e8qWRbJkcwP9"
   },
   "source": [
    "### **Link de repositorio de GitHub:** [Repositorio grupo OVNI](https://github.com/estebanaraneda/MDS7202_OVNI)"
   ]
  },
  {
   "cell_type": "markdown",
   "metadata": {
    "cell_id": "b7dbdd30ab544cb8a8afe00648a586ae",
    "deepnote_cell_type": "markdown",
    "id": "vHU9DI6wI5v9"
   },
   "source": [
    "### Temas a tratar\n",
    "\n",
    "- Predicción de demanda usando `xgboost`\n",
    "- Búsqueda del modelo óptimo de clasificación usando `optuna`\n",
    "- Uso de pipelines.\n",
    "\n",
    "\n",
    "### Reglas:\n",
    "\n",
    "- **Grupos de 2 personas**\n",
    "- Fecha de entrega: 6 días de plazo con descuento de 1 punto por día. Entregas Martes a las 23:59.\n",
    "- Instrucciones del lab el viernes a las 16:15 en formato online. Asistencia no es obligatoria, pero se recomienda fuertemente asistir.\n",
    "- <u>Prohibidas las copias</u>. Cualquier intento de copia será debidamente penalizado con el reglamento de la escuela.\n",
    "- Tienen que subir el laboratorio a u-cursos y a su repositorio de github. Labs que no estén en u-cursos no serán revisados. Recuerden que el repositorio también tiene nota.\n",
    "- Cualquier duda fuera del horario de clases al foro. Mensajes al equipo docente serán respondidos por este medio.\n",
    "- Pueden usar cualquier material del curso que estimen conveniente.\n",
    "\n",
    "El laboratorio deberá ser desarrollado sin el uso indiscriminado de iteradores nativos de python (aka \"for\", \"while\"). La idea es que aprendan a exprimir al máximo las funciones optimizadas que nos entrega `pandas`, las cuales vale mencionar, son bastante más eficientes que los iteradores nativos sobre DataFrames."
   ]
  },
  {
   "cell_type": "markdown",
   "metadata": {
    "cell_id": "f1c73babb7f74af588a4fa6ae14829e0",
    "deepnote_cell_type": "markdown",
    "id": "U_-sNOuOI5v9"
   },
   "source": [
    "# Importamos librerias útiles"
   ]
  },
  {
   "cell_type": "code",
   "execution_count": 1,
   "metadata": {
    "cell_id": "51afe4d2df42442b9e5402ffece60ead",
    "deepnote_cell_type": "code",
    "deepnote_to_be_reexecuted": false,
    "execution_millis": 4957,
    "execution_start": 1699544354044,
    "id": "ekHbM85NI5v9",
    "source_hash": null
   },
   "outputs": [],
   "source": [
    "#!pip install -qq xgboost optuna"
   ]
  },
  {
   "cell_type": "code",
   "execution_count": 2,
   "metadata": {},
   "outputs": [
    {
     "name": "stdout",
     "output_type": "stream",
     "text": [
      "Requirement already satisfied: xgboost==2.0.3 in c:\\users\\esteb\\appdata\\local\\programs\\python\\python311\\lib\\site-packages (2.0.3)\n",
      "Requirement already satisfied: numpy in c:\\users\\esteb\\appdata\\local\\programs\\python\\python311\\lib\\site-packages (from xgboost==2.0.3) (1.25.2)\n",
      "Requirement already satisfied: scipy in c:\\users\\esteb\\appdata\\local\\programs\\python\\python311\\lib\\site-packages (from xgboost==2.0.3) (1.11.4)\n"
     ]
    },
    {
     "name": "stderr",
     "output_type": "stream",
     "text": [
      "\n",
      "[notice] A new release of pip is available: 24.0 -> 25.2\n",
      "[notice] To update, run: python.exe -m pip install --upgrade pip\n"
     ]
    }
   ],
   "source": [
    "!pip install xgboost==2.0.3"
   ]
  },
  {
   "cell_type": "markdown",
   "metadata": {
    "id": "y6hJXpLCSspz"
   },
   "source": [
    "# El emprendimiento de Fiu"
   ]
  },
  {
   "cell_type": "markdown",
   "metadata": {
    "cell_id": "44d227389a734ac59189c5e0005bc68a",
    "deepnote_cell_type": "markdown",
    "id": "b0bDalAOI5v-"
   },
   "source": [
    "Tras liderar de manera exitosa la implementación de un proyecto de ciencia de datos para caracterizar los datos generados en Santiago 2023, el misterioso corpóreo **Fiu** se anima y decide levantar su propio negocio de consultoría en machine learning. Tras varias e intensas negociaciones, Fiu logra encontrar su *primera chamba*: predecir la demanda (cantidad de venta) de una famosa productora de bebidas de calibre mundial. Al ver el gran potencial y talento que usted ha demostrado en el campo de la ciencia de datos, Fiu lo contrata como data scientist para que forme parte de su nuevo emprendimiento.\n",
    "\n",
    "Para este laboratorio deben trabajar con los datos `sales.csv` subidos a u-cursos, el cual contiene una muestra de ventas de la empresa para diferentes productos en un determinado tiempo.\n",
    "\n",
    "Para comenzar, cargue el dataset señalado y visualice a través de un `.head` los atributos que posee el dataset.\n",
    "\n",
    "<i><p align=\"center\">Fiu siendo felicitado por su excelente desempeño en el proyecto de caracterización de datos</p></i>\n",
    "<p align=\"center\">\n",
    "  <img src=\"https://media-front.elmostrador.cl/2023/09/A_UNO_1506411_2440e.jpg\">\n",
    "</p>"
   ]
  },
  {
   "cell_type": "code",
   "execution_count": 3,
   "metadata": {
    "cell_id": "2f9c82d204b14515ad27ae07e0b77702",
    "deepnote_cell_type": "code",
    "deepnote_to_be_reexecuted": false,
    "execution_millis": 92,
    "execution_start": 1699544359006,
    "id": "QvMPOqHuI5v-",
    "source_hash": null
   },
   "outputs": [
    {
     "data": {
      "application/vnd.microsoft.datawrangler.viewer.v0+json": {
       "columns": [
        {
         "name": "index",
         "rawType": "int64",
         "type": "integer"
        },
        {
         "name": "id",
         "rawType": "int64",
         "type": "integer"
        },
        {
         "name": "date",
         "rawType": "object",
         "type": "string"
        },
        {
         "name": "city",
         "rawType": "object",
         "type": "string"
        },
        {
         "name": "lat",
         "rawType": "float64",
         "type": "float"
        },
        {
         "name": "long",
         "rawType": "float64",
         "type": "float"
        },
        {
         "name": "pop",
         "rawType": "int64",
         "type": "integer"
        },
        {
         "name": "shop",
         "rawType": "object",
         "type": "string"
        },
        {
         "name": "brand",
         "rawType": "object",
         "type": "string"
        },
        {
         "name": "container",
         "rawType": "object",
         "type": "string"
        },
        {
         "name": "capacity",
         "rawType": "object",
         "type": "string"
        },
        {
         "name": "price",
         "rawType": "float64",
         "type": "float"
        },
        {
         "name": "quantity",
         "rawType": "int64",
         "type": "integer"
        }
       ],
       "ref": "d9f46f50-2c50-4567-a0eb-b8494b2924d4",
       "rows": [
        [
         "0",
         "0",
         "31/01/12",
         "Athens",
         "37.97945",
         "23.71622",
         "672130",
         "shop_1",
         "kinder-cola",
         "glass",
         "500ml",
         "0.96",
         "13280"
        ],
        [
         "1",
         "1",
         "31/01/12",
         "Athens",
         "37.97945",
         "23.71622",
         "672130",
         "shop_1",
         "kinder-cola",
         "plastic",
         "1.5lt",
         "2.86",
         "6727"
        ],
        [
         "2",
         "2",
         "31/01/12",
         "Athens",
         "37.97945",
         "23.71622",
         "672130",
         "shop_1",
         "kinder-cola",
         "can",
         "330ml",
         "0.87",
         "9848"
        ],
        [
         "3",
         "3",
         "31/01/12",
         "Athens",
         "37.97945",
         "23.71622",
         "672130",
         "shop_1",
         "adult-cola",
         "glass",
         "500ml",
         "1.0",
         "20050"
        ],
        [
         "4",
         "4",
         "31/01/12",
         "Athens",
         "37.97945",
         "23.71622",
         "672130",
         "shop_1",
         "adult-cola",
         "can",
         "330ml",
         "0.39",
         "25696"
        ]
       ],
       "shape": {
        "columns": 12,
        "rows": 5
       }
      },
      "text/html": [
       "<div>\n",
       "<style scoped>\n",
       "    .dataframe tbody tr th:only-of-type {\n",
       "        vertical-align: middle;\n",
       "    }\n",
       "\n",
       "    .dataframe tbody tr th {\n",
       "        vertical-align: top;\n",
       "    }\n",
       "\n",
       "    .dataframe thead th {\n",
       "        text-align: right;\n",
       "    }\n",
       "</style>\n",
       "<table border=\"1\" class=\"dataframe\">\n",
       "  <thead>\n",
       "    <tr style=\"text-align: right;\">\n",
       "      <th></th>\n",
       "      <th>id</th>\n",
       "      <th>date</th>\n",
       "      <th>city</th>\n",
       "      <th>lat</th>\n",
       "      <th>long</th>\n",
       "      <th>pop</th>\n",
       "      <th>shop</th>\n",
       "      <th>brand</th>\n",
       "      <th>container</th>\n",
       "      <th>capacity</th>\n",
       "      <th>price</th>\n",
       "      <th>quantity</th>\n",
       "    </tr>\n",
       "  </thead>\n",
       "  <tbody>\n",
       "    <tr>\n",
       "      <th>0</th>\n",
       "      <td>0</td>\n",
       "      <td>31/01/12</td>\n",
       "      <td>Athens</td>\n",
       "      <td>37.97945</td>\n",
       "      <td>23.71622</td>\n",
       "      <td>672130</td>\n",
       "      <td>shop_1</td>\n",
       "      <td>kinder-cola</td>\n",
       "      <td>glass</td>\n",
       "      <td>500ml</td>\n",
       "      <td>0.96</td>\n",
       "      <td>13280</td>\n",
       "    </tr>\n",
       "    <tr>\n",
       "      <th>1</th>\n",
       "      <td>1</td>\n",
       "      <td>31/01/12</td>\n",
       "      <td>Athens</td>\n",
       "      <td>37.97945</td>\n",
       "      <td>23.71622</td>\n",
       "      <td>672130</td>\n",
       "      <td>shop_1</td>\n",
       "      <td>kinder-cola</td>\n",
       "      <td>plastic</td>\n",
       "      <td>1.5lt</td>\n",
       "      <td>2.86</td>\n",
       "      <td>6727</td>\n",
       "    </tr>\n",
       "    <tr>\n",
       "      <th>2</th>\n",
       "      <td>2</td>\n",
       "      <td>31/01/12</td>\n",
       "      <td>Athens</td>\n",
       "      <td>37.97945</td>\n",
       "      <td>23.71622</td>\n",
       "      <td>672130</td>\n",
       "      <td>shop_1</td>\n",
       "      <td>kinder-cola</td>\n",
       "      <td>can</td>\n",
       "      <td>330ml</td>\n",
       "      <td>0.87</td>\n",
       "      <td>9848</td>\n",
       "    </tr>\n",
       "    <tr>\n",
       "      <th>3</th>\n",
       "      <td>3</td>\n",
       "      <td>31/01/12</td>\n",
       "      <td>Athens</td>\n",
       "      <td>37.97945</td>\n",
       "      <td>23.71622</td>\n",
       "      <td>672130</td>\n",
       "      <td>shop_1</td>\n",
       "      <td>adult-cola</td>\n",
       "      <td>glass</td>\n",
       "      <td>500ml</td>\n",
       "      <td>1.00</td>\n",
       "      <td>20050</td>\n",
       "    </tr>\n",
       "    <tr>\n",
       "      <th>4</th>\n",
       "      <td>4</td>\n",
       "      <td>31/01/12</td>\n",
       "      <td>Athens</td>\n",
       "      <td>37.97945</td>\n",
       "      <td>23.71622</td>\n",
       "      <td>672130</td>\n",
       "      <td>shop_1</td>\n",
       "      <td>adult-cola</td>\n",
       "      <td>can</td>\n",
       "      <td>330ml</td>\n",
       "      <td>0.39</td>\n",
       "      <td>25696</td>\n",
       "    </tr>\n",
       "  </tbody>\n",
       "</table>\n",
       "</div>"
      ],
      "text/plain": [
       "   id      date    city       lat      long     pop    shop        brand  \\\n",
       "0   0  31/01/12  Athens  37.97945  23.71622  672130  shop_1  kinder-cola   \n",
       "1   1  31/01/12  Athens  37.97945  23.71622  672130  shop_1  kinder-cola   \n",
       "2   2  31/01/12  Athens  37.97945  23.71622  672130  shop_1  kinder-cola   \n",
       "3   3  31/01/12  Athens  37.97945  23.71622  672130  shop_1   adult-cola   \n",
       "4   4  31/01/12  Athens  37.97945  23.71622  672130  shop_1   adult-cola   \n",
       "\n",
       "  container capacity  price  quantity  \n",
       "0     glass    500ml   0.96     13280  \n",
       "1   plastic    1.5lt   2.86      6727  \n",
       "2       can    330ml   0.87      9848  \n",
       "3     glass    500ml   1.00     20050  \n",
       "4       can    330ml   0.39     25696  "
      ]
     },
     "execution_count": 3,
     "metadata": {},
     "output_type": "execute_result"
    }
   ],
   "source": [
    "import pandas as pd\n",
    "import numpy as np\n",
    "from datetime import datetime\n",
    "\n",
    "df = pd.read_csv(\"sales.csv\", sep=\",\")\n",
    "\n",
    "df.head()"
   ]
  },
  {
   "cell_type": "markdown",
   "metadata": {
    "cell_id": "b50db6f2cb804932ae3f9e5748a6ea61",
    "deepnote_cell_type": "markdown",
    "id": "pk4ru76pI5v_"
   },
   "source": [
    "## 1 Generando un Baseline (5 puntos)\n",
    "\n",
    "<p align=\"center\">\n",
    "  <img src=\"https://media.tenor.com/O-lan6TkadUAAAAC/what-i-wnna-do-after-a-baseline.gif\">\n",
    "</p>\n",
    "\n",
    "Antes de entrenar un algoritmo, usted recuerda los apuntes de su magíster en ciencia de datos y recuerda que debe seguir una serie de *buenas prácticas* para entrenar correcta y debidamente su modelo. Después de un par de vueltas, llega a las siguientes tareas:\n",
    "\n",
    "1. Separe los datos en conjuntos de train (70%), validation (20%) y test (10%). Fije una semilla para controlar la aleatoriedad. [0.5 puntos]\n",
    "2. Implemente un `FunctionTransformer` para extraer el día, mes y año de la variable `date`. Guarde estas variables en el formato categorical de pandas. [1 punto]\n",
    "3. Implemente un `ColumnTransformer` para procesar de manera adecuada los datos numéricos y categóricos. Use `OneHotEncoder` para las variables categóricas. `Nota:` Utilice el método `.set_output(transform='pandas')` para obtener un DataFrame como salida del `ColumnTransformer` [1 punto]\n",
    "4. Guarde los pasos anteriores en un `Pipeline`, dejando como último paso el regresor `DummyRegressor` para generar predicciones en base a promedios. [0.5 punto]\n",
    "5. Entrene el pipeline anterior y reporte la métrica `mean_absolute_error` sobre los datos de validación. ¿Cómo se interpreta esta métrica para el contexto del negocio? [0.5 puntos]\n",
    "6. Finalmente, vuelva a entrenar el `Pipeline` pero esta vez usando `XGBRegressor` como modelo **utilizando los parámetros por default**. ¿Cómo cambia el MAE al implementar este algoritmo? ¿Es mejor o peor que el `DummyRegressor`? [1 punto]\n",
    "7. Guarde ambos modelos en un archivo .pkl (uno cada uno) [0.5 puntos]"
   ]
  },
  {
   "cell_type": "code",
   "execution_count": 4,
   "metadata": {
    "cell_id": "1482c992d9494e5582b23dbd3431dbfd",
    "deepnote_cell_type": "code",
    "id": "sfnN7HubI5v_"
   },
   "outputs": [],
   "source": [
    "from sklearn import set_config\n",
    "set_config(transform_output=\"pandas\")\n",
    "\n",
    "# Inserte su código acá\n",
    "from sklearn.model_selection import train_test_split\n",
    "from sklearn.preprocessing import FunctionTransformer"
   ]
  },
  {
   "cell_type": "code",
   "execution_count": 5,
   "metadata": {},
   "outputs": [],
   "source": [
    "# Separamos en train, validation y test\n",
    "# 0.7, 0.2, 0.1\n",
    "\n",
    "X, y = df.drop(columns=[\"quantity\"]), df[\"quantity\"]\n",
    "\n",
    "X_train, X_temp, y_train, y_temp = train_test_split(X, y, test_size=0.3, random_state=42)\n",
    "X_val, X_test, y_val, y_test = train_test_split(X_temp, y_temp, test_size=1/3, random_state=42)"
   ]
  },
  {
   "cell_type": "code",
   "execution_count": 6,
   "metadata": {},
   "outputs": [],
   "source": [
    "# 2. Implemente un `FunctionTransformer` para extraer el día, mes y año de la variable `date`.\n",
    "# Guarde estas variables en el formato categorical de pandas. [1 punto]\n",
    "\n",
    "def datetransform(df):\n",
    "    df = df.copy()\n",
    "    df[\"date\"] = df[\"date\"].str.split(\"/\")\n",
    "    df[\"day\"] = df[\"date\"].apply(lambda x: int(x[0])).astype(\"category\")\n",
    "    df[\"month\"] = df[\"date\"].apply(lambda x: int(x[1])).astype(\"category\")\n",
    "    df[\"year\"] = df[\"date\"].apply(lambda x: int(x[2]) + 2000).astype(\"category\")\n",
    "    return df.drop(columns=[\"date\"])\n",
    "\n",
    "# Creammos el transformer\n",
    "date_transformer = FunctionTransformer(datetransform)"
   ]
  },
  {
   "cell_type": "code",
   "execution_count": 7,
   "metadata": {},
   "outputs": [],
   "source": [
    "# 3. Implemente un `ColumnTransformer` para procesar de manera adecuada los datos numéricos y categóricos. \n",
    "# Use `OneHotEncoder` para las variables categóricas. `Nota:` Utilice el método `.set_output(transform='pandas')` \n",
    "# para obtener un DataFrame como salida del `ColumnTransformer` [1 punto]\n",
    "\n",
    "from sklearn.compose import ColumnTransformer\n",
    "from sklearn.preprocessing import OneHotEncoder, StandardScaler\n",
    "\n",
    "# Identificamos las columnas numéricas y categóricas\n",
    "numerical_columns = [col for col in X_train.columns if pd.api.types.is_numeric_dtype(X_train[col])]\n",
    "temporal_columns = [\"day\", \"month\", \"year\"]\n",
    "old_numerical_column = [\"date\"]\n",
    "\n",
    "categorical_columns = [col for col in X_train.columns if col not in numerical_columns + old_numerical_column]\n",
    "categorical_columns += temporal_columns\n",
    "# Creamos el ColumnTransformer\n",
    "preprocessor = ColumnTransformer(\n",
    "    transformers=[\n",
    "        (\"num\", StandardScaler(), numerical_columns),\n",
    "        (\"cat\", OneHotEncoder(sparse_output=False), categorical_columns),\n",
    "    ]\n",
    ").set_output(transform=\"pandas\")"
   ]
  },
  {
   "cell_type": "code",
   "execution_count": 8,
   "metadata": {},
   "outputs": [],
   "source": [
    "# 4. Guarde los pasos anteriores en un `Pipeline`, dejando como último paso el regresor `DummyRegressor` \n",
    "# para generar predicciones en base a promedios. [0.5 punto]\n",
    "\n",
    "from sklearn.pipeline import Pipeline\n",
    "from sklearn.dummy import DummyRegressor\n",
    "\n",
    "# Creamos el Pipeline\n",
    "model = Pipeline(steps=[\n",
    "    (\"date_transformer\", date_transformer),\n",
    "    (\"preprocessor\", preprocessor),\n",
    "    (\"regressor\", DummyRegressor(strategy=\"mean\")),\n",
    "])"
   ]
  },
  {
   "cell_type": "code",
   "execution_count": 9,
   "metadata": {},
   "outputs": [
    {
     "name": "stdout",
     "output_type": "stream",
     "text": [
      "Mean Absolute Error: 13298.50\n"
     ]
    }
   ],
   "source": [
    "# 5. Entrene el pipeline anterior y reporte la métrica `mean_absolute_error` sobre los datos de validación. \n",
    "# ¿Cómo se interpreta esta métrica para el contexto del negocio? [0.5 puntos]\n",
    "\n",
    "from sklearn.metrics import mean_absolute_error\n",
    "\n",
    "# Entrenamos el modelo\n",
    "model.fit(X_train, y_train)\n",
    "\n",
    "# Realizamos las predicciones\n",
    "y_pred = model.predict(X_val)\n",
    "\n",
    "# Calculamos la métrica\n",
    "mae_bl = mean_absolute_error(y_val, y_pred)\n",
    "\n",
    "# El MAE nos indica que, en promedio, nuestras predicciones se desvían del valor real en aproximadamente x unidades.\n",
    "print(f\"Mean Absolute Error: {mae_bl:.2f}\")"
   ]
  },
  {
   "cell_type": "code",
   "execution_count": 10,
   "metadata": {},
   "outputs": [
    {
     "name": "stdout",
     "output_type": "stream",
     "text": [
      "Mean Absolute Error: 2411.86\n"
     ]
    }
   ],
   "source": [
    "# 6. Finalmente, vuelva a entrenar el `Pipeline` pero esta vez usando `XGBRegressor` como modelo **utilizando los parámetros por default**. \n",
    "# ¿Cómo cambia el MAE al implementar este algoritmo? ¿Es mejor o peor que el `DummyRegressor`? [1 punto]\n",
    "\n",
    "from xgboost import XGBRegressor\n",
    "\n",
    "# Creamos el Pipeline\n",
    "xgb_model = Pipeline(steps=[\n",
    "    (\"date_transformer\", date_transformer),\n",
    "    (\"preprocessor\", preprocessor),\n",
    "    (\"regressor\", XGBRegressor()),\n",
    "])\n",
    "\n",
    "# Entrenamos el modelo\n",
    "xgb_model.fit(X_train, y_train)\n",
    "\n",
    "# Realizamos las predicciones\n",
    "y_pred = xgb_model.predict(X_val)\n",
    "\n",
    "# Calculamos la métrica\n",
    "mae = mean_absolute_error(y_val, y_pred)\n",
    "\n",
    "# El MAE nos indica que, en promedio, nuestras predicciones se desvían del valor real en aproximadamente x unidades.\n",
    "print(f\"Mean Absolute Error: {mae:.2f}\")\n",
    "\n",
    "# El MAE con XGBRegressor es mejor que con DummyRegressor, lo que indica que el modelo es capaz de capturar patrones en los datos y hacer predicciones más precisas."
   ]
  },
  {
   "cell_type": "code",
   "execution_count": 11,
   "metadata": {},
   "outputs": [
    {
     "data": {
      "text/plain": [
       "['xgb_model.pkl']"
      ]
     },
     "execution_count": 11,
     "metadata": {},
     "output_type": "execute_result"
    }
   ],
   "source": [
    "# 7. Guarde ambos modelos en un archivo .pkl (uno cada uno) [0.5 puntos]\n",
    "import joblib\n",
    "\n",
    "joblib.dump(model, \"dummy_model.pkl\")\n",
    "joblib.dump(xgb_model, \"xgb_model.pkl\")"
   ]
  },
  {
   "cell_type": "markdown",
   "metadata": {
    "cell_id": "7e17e46063774ec28226fe300d42ffe0",
    "deepnote_cell_type": "markdown",
    "id": "wnyMINdKI5v_"
   },
   "source": [
    "## 2. Forzando relaciones entre parámetros con XGBoost (10 puntos)\n",
    "\n",
    "<p align=\"center\">\n",
    "  <img src=\"https://64.media.tumblr.com/14cc45f9610a6ee341a45fd0d68f4dde/20d11b36022bca7b-bf/s640x960/67ab1db12ff73a530f649ac455c000945d99c0d6.gif\">\n",
    "</p>\n",
    "\n",
    "Un colega aficionado a la economía le *sopla* que la demanda guarda una relación inversa con el precio del producto. Motivado para impresionar al querido corpóreo, se propone hacer uso de esta información para mejorar su modelo realizando las siguientes tareas:\n",
    "\n",
    "1. Vuelva a entrenar el `Pipeline` con `XGBRegressor`, pero esta vez forzando una relación monótona negativa entre el precio y la cantidad. Para aplicar esta restricción apóyese en la siguiente <a href = https://xgboost.readthedocs.io/en/stable/tutorials/monotonic.html>documentación</a>. [6 puntos]\n",
    "\n",
    ">Hint 1: Para implementar el constraint se le sugiere hacerlo especificando el nombre de la variable. De ser así, probablemente le sea útil **mantener el formato de pandas** antes del step de entrenamiento.\n",
    "\n",
    ">Hint 2: Puede obtener el nombre de las columnas en el paso anterior al modelo regresor mediante el método `.get_feature_names_out()`\n",
    "\n",
    "2. Luego, vuelva a reportar el `MAE` sobre el conjunto de validación. [1 puntos]\n",
    "\n",
    "3. ¿Cómo cambia el error al incluir esta relación? ¿Tenía razón su amigo? [2 puntos]\n",
    "\n",
    "4. Guarde su modelo en un archivo .pkl [1 punto]"
   ]
  },
  {
   "cell_type": "code",
   "execution_count": 12,
   "metadata": {
    "cell_id": "f469f3b572be434191d2d5c3f11b20d2",
    "deepnote_cell_type": "code",
    "id": "B7tMnkiAI5v_"
   },
   "outputs": [],
   "source": [
    "# Inserte su código acá\n",
    "\n",
    "#1. Vuelva a entrenar el `Pipeline` con `XGBRegressor`, pero esta vez forzando una relación monótona negativa entre el precio y la cantidad. \n",
    "\n",
    "#>Hint 1: Para implementar el constraint se le sugiere hacerlo especificando el nombre de la variable. \n",
    "# De ser así, probablemente le sea útil **mantener el formato de pandas** antes del step de entrenamiento.\n",
    "\n",
    "#>Hint 2: Puede obtener el nombre de las columnas en el paso anterior al modelo regresor mediante el método `.get_feature_names_out()`\n",
    "\n",
    "# Pipeline con constraint de monotonicidad\n",
    "\n",
    "monotone_constraints = {}\n",
    "feature_names = xgb_model.named_steps['preprocessor'].get_feature_names_out()\n",
    "for name in feature_names:\n",
    "    if 'num__price' in name:\n",
    "        monotone_constraints[name] = -1  # Relación negativa\n",
    "    else:\n",
    "        monotone_constraints[name] = 0   # Sin restricción\n",
    "\n",
    "xgb_model_monotone = Pipeline(steps=[\n",
    "    (\"date_transformer\", date_transformer),\n",
    "    (\"preprocessor\", preprocessor),\n",
    "    (\"regressor\", XGBRegressor(monotone_constraints=monotone_constraints))\n",
    "])"
   ]
  },
  {
   "cell_type": "code",
   "execution_count": 13,
   "metadata": {},
   "outputs": [
    {
     "name": "stdout",
     "output_type": "stream",
     "text": [
      "Mean Absolute Error: 2502.69\n"
     ]
    }
   ],
   "source": [
    "# 2. Luego, vuelva a reportar el `MAE` sobre el conjunto de validación. [1 puntos]\n",
    "\n",
    "xgb_model_monotone.fit(X_train, y_train)\n",
    "y_pred_monotone = xgb_model_monotone.predict(X_val)\n",
    "mae_monotone = mean_absolute_error(y_val, y_pred_monotone)\n",
    "print(f\"Mean Absolute Error: {mae_monotone:.2f}\")\n"
   ]
  },
  {
   "cell_type": "markdown",
   "metadata": {},
   "source": [
    "El mae aumenta al incluir la relación monótona negativa, lo que indica que la restricción impuesta afecta el rendimiento del modelo. Esto sugiere que la relación entre el precio y la cantidad no es tan simple como se pensaba inicialmente, y que forzar una relación monótona puede llevar a un aumento en el error de predicción."
   ]
  },
  {
   "cell_type": "code",
   "execution_count": 14,
   "metadata": {},
   "outputs": [
    {
     "data": {
      "text/plain": [
       "['xgb_model_monotone.pkl']"
      ]
     },
     "execution_count": 14,
     "metadata": {},
     "output_type": "execute_result"
    }
   ],
   "source": [
    "# 4. Guarde su modelo en un archivo .pkl [1 punto]\n",
    "joblib.dump(xgb_model_monotone, \"xgb_model_monotone.pkl\")"
   ]
  },
  {
   "cell_type": "markdown",
   "metadata": {
    "cell_id": "e59ef80ed20b4de8921f24da74e87374",
    "deepnote_cell_type": "markdown",
    "id": "5D5-tX4dI5v_"
   },
   "source": [
    "## 1.3 Optimización de Hiperparámetros con Optuna (20 puntos)\n",
    "\n",
    "<p align=\"center\">\n",
    "  <img src=\"https://media.tenor.com/fmNdyGN4z5kAAAAi/hacking-lucy.gif\">\n",
    "</p>\n",
    "\n",
    "Luego de presentarle sus resultados, Fiu le pregunta si es posible mejorar *aun más* su modelo. En particular, le comenta de la optimización de hiperparámetros con metodologías bayesianas a través del paquete `optuna`. Como usted es un aficionado al entrenamiento de modelos de ML, se propone implementar la descabellada idea de su jefe.\n",
    "\n",
    "A partir de la mejor configuración obtenida en la sección anterior, utilice `optuna` para optimizar sus hiperparámetros. En particular, se pide que su optimización considere lo siguiente:\n",
    "\n",
    "- Fijar una semilla en las instancias necesarias para garantizar la reproducibilidad de resultados\n",
    "- Utilice `TPESampler` como método de muestreo\n",
    "- De `XGBRegressor`, optimice los siguientes hiperparámetros:\n",
    "    - `learning_rate` buscando valores flotantes en el rango (0.001, 0.1)\n",
    "    - `n_estimators` buscando valores enteros en el rango (50, 1000)\n",
    "    - `max_depth` buscando valores enteros en el rango (3, 10)\n",
    "    - `max_leaves` buscando valores enteros en el rango (0, 100)\n",
    "    - `min_child_weight` buscando valores enteros en el rango (1, 5)\n",
    "    - `reg_alpha` buscando valores flotantes en el rango (0, 1)\n",
    "    - `reg_lambda` buscando valores flotantes en el rango (0, 1)\n",
    "- De `OneHotEncoder`, optimice el hiperparámetro `min_frequency` buscando el mejor valor flotante en el rango (0.0, 1.0)\n",
    "\n",
    "Para ello se pide los siguientes pasos:\n",
    "1. Implemente una función `objective()` que permita minimizar el `MAE` en el conjunto de validación. Use el método `.set_user_attr()` para almacenar el mejor pipeline entrenado. [10 puntos]\n",
    "2. Fije el tiempo de entrenamiento a 5 minutos. [1 punto]\n",
    "3. Optimizar el modelo y reportar el número de *trials*, el `MAE` y los mejores hiperparámetros encontrados. ¿Cómo cambian sus resultados con respecto a la sección anterior? ¿A qué se puede deber esto? [3 puntos]\n",
    "4. Explique cada hiperparámetro y su rol en el modelo. ¿Hacen sentido los rangos de optimización indicados? [5 puntos]\n",
    "5. Guardar su modelo en un archivo .pkl [1 punto]"
   ]
  },
  {
   "cell_type": "code",
   "execution_count": 15,
   "metadata": {
    "cell_id": "de5914621cc64cb0b1bacb9ff565a97e",
    "deepnote_cell_type": "code",
    "id": "kMXXi1ckI5v_"
   },
   "outputs": [],
   "source": [
    "import optuna\n",
    "from optuna.samplers import TPESampler\n",
    "optuna.logging.set_verbosity(optuna.logging.WARNING)\n",
    "# Inserte su código acá\n",
    "\n",
    "# 1. Implemente una función `objective()` que permita minimizar el `MAE` en el conjunto de validación. Use el método `.set_user_attr()` para almacenar el mejor pipeline entrenado. [10 puntos]\n",
    "# seed para reproducibilidad\n",
    "SEED = 42\n",
    "np.random.seed(SEED)\n",
    "\n",
    "def objective(trial):\n",
    "    # Inserte su código acá\n",
    "\n",
    "    # Definimos los hiperparámetros a optimizar\n",
    "    learning_rate = trial.suggest_float(\"learning_rate\", 0.001, 0.1)\n",
    "    n_estimators = trial.suggest_int(\"n_estimators\", 50, 1000)\n",
    "    max_depth = trial.suggest_int(\"max_depth\", 3, 10)\n",
    "    max_leaves = trial.suggest_int(\"max_leaves\", 0, 100)\n",
    "    min_child_weight = trial.suggest_int(\"min_child_weight\", 1, 5)\n",
    "    reg_alpha = trial.suggest_float(\"reg_alpha\", 0.0, 1.0)\n",
    "    reg_lambda = trial.suggest_float(\"reg_lambda\", 0.0, 1.0)\n",
    "\n",
    "    # Hiperparámetros one-hot encoder\n",
    "    min_frequency = trial.suggest_int(\"min_frequency\", 1, 10)\n",
    "\n",
    "    # Creamos el ColumnTransformer con el nuevo hiperparámetro\n",
    "    preprocessor = ColumnTransformer(\n",
    "        transformers=[\n",
    "            (\"num\", StandardScaler(), numerical_columns),\n",
    "            (\"cat\", OneHotEncoder(sparse_output=False, min_frequency=min_frequency), categorical_columns),\n",
    "        ]\n",
    "    ).set_output(transform=\"pandas\")\n",
    "\n",
    "    # Creamos el Pipeline con los nuevos hiperparámetros\n",
    "    xgb_model = Pipeline(steps=[\n",
    "        (\"date_transformer\", date_transformer),\n",
    "        (\"preprocessor\", preprocessor),\n",
    "        (\"regressor\", XGBRegressor(\n",
    "            learning_rate=learning_rate,\n",
    "            n_estimators=n_estimators,\n",
    "            max_depth=max_depth,\n",
    "            max_leaves=max_leaves,\n",
    "            min_child_weight=min_child_weight,\n",
    "            reg_alpha=reg_alpha,\n",
    "            reg_lambda=reg_lambda,\n",
    "            random_state=42\n",
    "        )),\n",
    "    ])\n",
    "\n",
    "    # Entrenamos el modelo\n",
    "    xgb_model.fit(X_train, y_train)\n",
    "    # Realizamos las predicciones\n",
    "    y_pred = xgb_model.predict(X_val)\n",
    "    # Calculamos la métrica\n",
    "    mae = mean_absolute_error(y_val, y_pred)\n",
    "    # Guardamos el mejor pipeline entrenado\n",
    "    trial.set_user_attr(\"best_pipeline\", xgb_model)\n",
    "    return mae\n",
    "    "
   ]
  },
  {
   "cell_type": "code",
   "execution_count": 16,
   "metadata": {},
   "outputs": [],
   "source": [
    "# 2. Fije el tiempo de entrenamiento a 5 minutos. [1 punto]\n",
    "study = optuna.create_study(direction=\"minimize\", sampler=TPESampler(seed=SEED))\n",
    "timeout=300  # 5 minutos = 300 segundos"
   ]
  },
  {
   "cell_type": "code",
   "execution_count": 17,
   "metadata": {},
   "outputs": [
    {
     "name": "stdout",
     "output_type": "stream",
     "text": [
      "Número de trials: 216\n",
      "Mejor MAE: 1996.1556574145393\n",
      "Mejores hiperparámetros: {'learning_rate': 0.06670522157565682, 'n_estimators': 972, 'max_depth': 9, 'max_leaves': 91, 'min_child_weight': 4, 'reg_alpha': 0.8482088622961949, 'reg_lambda': 0.047484468870069775, 'min_frequency': 8}\n"
     ]
    }
   ],
   "source": [
    "# 3. Optimizar el modelo y reportar el número de *trials*, el `MAE` y los mejores hiperparámetros encontrados. \n",
    "# ¿Cómo cambian sus resultados con respecto a la sección anterior? ¿A qué se puede deber esto? [3 puntos]\n",
    "\n",
    "study.optimize(objective, timeout=timeout)  # 5 minutos = 300 segundos\n",
    "mae_opt = study.best_value\n",
    "print(\"Número de trials:\", len(study.trials))\n",
    "print(\"Mejor MAE:\", mae_opt)\n",
    "print(\"Mejores hiperparámetros:\", study.best_params)\n"
   ]
  },
  {
   "cell_type": "markdown",
   "metadata": {},
   "source": [
    "El modelo ha logrado mejorar su rendimiento, alcanzando un MAE de aproximadamente 1996. Esto sugiere que la optimización de hiperparámetros ha sido efectiva para ajustar el modelo a los datos, permitiendo capturar mejor las relaciones subyacentes y reducir el error de predicción."
   ]
  },
  {
   "cell_type": "markdown",
   "metadata": {},
   "source": [
    "4. Explique cada hiperparámetro y su rol en el modelo xgboost. ¿Hacen sentido los rangos de optimización indicados? [5 puntos]\n",
    "\n",
    "- `learning_rate`: En XGBoost, el `learning_rate` (o tasa de aprendizaje) controla cuánto se ajustan los pesos de los árboles en cada iteración. Un valor más bajo significa que el modelo aprende más lentamente, pero evita saltarse posibles mínimos. Un rango de (0.001, 0.1) es adecuado para permitir un aprendizaje gradual y evitar sobreajuste.\n",
    "- `n_estimators`: Este hiperparámetro define el número de árboles que se construirán en el modelo. Un rango de (50, 1000) es razonable, ya que permite explorar desde modelos más simples hasta modelos más complejos, pero sin llegar a ser excesivamente grande, lo que podría llevar a sobreajuste.\n",
    "- `max_depth`: Controla la profundidad máxima de cada árbol. Un rango de (3, 10) es apropiado para evitar árboles demasiado profundos que puedan sobreajustar los datos, mientras que aún permite capturar relaciones complejas.\n",
    "- `max_leaves`: Este parámetro limita el número máximo de hojas en cada árbol. Un rango de (0, 100) es adecuado para controlar la complejidad del modelo, evitando árboles con demasiadas hojas que puedan sobreajustar.\n",
    "- `min_child_weight`: Este hiperparámetro especifica el peso mínimo requerido en una hoja para que se realice una división. Un rango de (1, 5) es razonable para evitar divisiones que no aporten suficiente información, ayudando a prevenir el sobreajuste.\n",
    "- `reg_alpha`: Este hiperparámetro controla la regularización L1 en el modelo. Un rango de (0, 1) es adecuado para explorar desde ninguna regularización hasta una regularización moderada, ayudando a prevenir el sobreajuste.\n",
    "- `reg_lambda`: Similar a `reg_alpha`, este hiperparámetro controla la regularización L2 en el modelo. Un rango de (0, 1) es apropiado para explorar diferentes niveles de regularización y evitar el sobreajuste.\n",
    "- `min_frequency`: En `OneHotEncoder`, el hiperparámetro `min_frequency` determina la frecuencia mínima que una categoría debe tener para ser considerada en la codificación. Un rango de (1, 10) sugiere que solo se considerarán categorías que aparezcan al menos una vez, lo cual es adecuado para evitar la creación de demasiadas columnas con categorías raras que podrían no aportar información significativa al modelo."
   ]
  },
  {
   "cell_type": "code",
   "execution_count": 18,
   "metadata": {},
   "outputs": [
    {
     "data": {
      "text/plain": [
       "['best_xgb_model.pkl']"
      ]
     },
     "execution_count": 18,
     "metadata": {},
     "output_type": "execute_result"
    }
   ],
   "source": [
    "# 5. Guardar su modelo en un archivo .pkl [1 punto]\n",
    "best_pipeline = study.best_trial.user_attrs[\"best_pipeline\"]\n",
    "joblib.dump(best_pipeline, \"best_xgb_model.pkl\")"
   ]
  },
  {
   "cell_type": "markdown",
   "metadata": {
    "cell_id": "5195ccfc37e044ad9453f6eb2754f631",
    "deepnote_cell_type": "markdown",
    "id": "ZglyD_QWI5wA"
   },
   "source": [
    "## 4. Optimización de Hiperparámetros con Optuna y Prunners (17 puntos)\n",
    "\n",
    "<p align=\"center\">\n",
    "  <img src=\"https://i.pinimg.com/originals/90/16/f9/9016f919c2259f3d0e8fe465049638a7.gif\">\n",
    "</p>\n",
    "\n",
    "Después de optimizar el rendimiento de su modelo varias veces, Fiu le pregunta si no es posible optimizar el entrenamiento del modelo en sí mismo. Después de leer un par de post de personas de dudosa reputación en la *deepweb*, usted llega a la conclusión que puede cumplir este objetivo mediante la implementación de **Prunning**.\n",
    "\n",
    "Vuelva a optimizar los mismos hiperparámetros que la sección pasada, pero esta vez utilizando **Prunning** en la optimización. En particular, usted debe:\n",
    "\n",
    "- Responder: ¿Qué es prunning? ¿De qué forma debería impactar en el entrenamiento? [2 puntos]\n",
    "- Redefinir la función `objective()` utilizando `optuna.integration.XGBoostPruningCallback` como método de **Prunning** [10 puntos]\n",
    "- Fijar nuevamente el tiempo de entrenamiento a 5 minutos [1 punto]\n",
    "- Reportar el número de *trials*, el `MAE` y los mejores hiperparámetros encontrados. ¿Cómo cambian sus resultados con respecto a la sección anterior? ¿A qué se puede deber esto? [3 puntos]\n",
    "- Guardar su modelo en un archivo .pkl [1 punto]\n",
    "\n",
    "Nota: Si quieren silenciar los prints obtenidos en el prunning, pueden hacerlo mediante el siguiente comando:\n",
    "\n",
    "```\n",
    "optuna.logging.set_verbosity(optuna.logging.WARNING)\n",
    "```\n",
    "\n",
    "De implementar la opción anterior, pueden especificar `show_progress_bar = True` en el método `optimize` para *más sabor*.\n",
    "\n",
    "Hint: Si quieren especificar parámetros del método .fit() del modelo a través del pipeline, pueden hacerlo por medio de la siguiente sintaxis: `pipeline.fit(stepmodelo__parametro = valor)`\n",
    "\n",
    "Hint2: Este <a href = https://stackoverflow.com/questions/40329576/sklearn-pass-fit-parameters-to-xgboost-in-pipeline>enlace</a> les puede ser de ayuda en su implementación"
   ]
  },
  {
   "cell_type": "code",
   "execution_count": 19,
   "metadata": {
    "id": "5IEEZnb-cwP_"
   },
   "outputs": [],
   "source": [
    "#!pip install optuna-integration[xgboost]"
   ]
  },
  {
   "cell_type": "markdown",
   "metadata": {},
   "source": [
    "- Responder: ¿Qué es prunning? ¿De qué forma debería impactar en el entrenamiento? [2 puntos]\n",
    "\n",
    "Prunning es una técnica utilizada en la optimización de hiperparámetros que permite hacer early stopping de las pruebas de configuraciones de hiperparámetros que no muestran un buen rendimiento. En lugar de completar todas las iteraciones de entrenamiento para cada conjunto de hiperparámetros, prunning evalúa el rendimiento del modelo en etapas intermedias y decide si continuar o detener la prueba basada en criterios predefinidos."
   ]
  },
  {
   "cell_type": "code",
   "execution_count": 20,
   "metadata": {},
   "outputs": [],
   "source": [
    "# Inserte su código acá\n",
    "import warnings\n",
    "warnings.filterwarnings(\"ignore\")\n",
    "\n",
    "# - Redefinir la función `objective()` utilizando `optuna.integration.XGBoostPruningCallback` como método de **Prunning** [10 puntos]\n",
    "\n",
    "from optuna.integration import XGBoostPruningCallback\n",
    "def objective(trial):\n",
    "    # Definimos los hiperparámetros a optimizar\n",
    "    learning_rate = trial.suggest_float(\"learning_rate\", 0.001, 0.1)\n",
    "    n_estimators = trial.suggest_int(\"n_estimators\", 50, 1000)\n",
    "    max_depth = trial.suggest_int(\"max_depth\", 3, 10)\n",
    "    max_leaves = trial.suggest_int(\"max_leaves\", 0, 100)\n",
    "    min_child_weight = trial.suggest_int(\"min_child_weight\", 1, 5)\n",
    "    reg_alpha = trial.suggest_float(\"reg_alpha\", 0.0, 1.0)\n",
    "    reg_lambda = trial.suggest_float(\"reg_lambda\", 0.0, 1.0)\n",
    "\n",
    "    # Hiperparámetros one-hot encoder\n",
    "    min_frequency = trial.suggest_int(\"min_frequency\", 1, 10)\n",
    "\n",
    "    # Creamos el ColumnTransformer con el nuevo hiperparámetro\n",
    "    date_transformer = FunctionTransformer(datetransform)\n",
    "    preprocessor = ColumnTransformer(\n",
    "        transformers=[\n",
    "            (\"num\", StandardScaler(), numerical_columns),\n",
    "            (\"cat\", OneHotEncoder(sparse_output=False, min_frequency=min_frequency), categorical_columns),\n",
    "        ]\n",
    "    ).set_output(transform=\"pandas\")\n",
    "    \n",
    "    # Transformamos los datos\n",
    "    X_train_transformed = date_transformer.transform(X_train)\n",
    "    X_train_transformed = preprocessor.fit_transform(X_train_transformed)\n",
    "    X_val_transformed = date_transformer.transform(X_val)\n",
    "    X_val_transformed = preprocessor.transform(X_val_transformed)\n",
    "\n",
    "    # Modeloado\n",
    "    model = XGBRegressor(\n",
    "        learning_rate=learning_rate,\n",
    "        n_estimators=n_estimators,\n",
    "        max_depth=max_depth,\n",
    "        max_leaves=max_leaves,\n",
    "        min_child_weight=min_child_weight,\n",
    "        reg_alpha=reg_alpha,\n",
    "        reg_lambda=reg_lambda,\n",
    "        random_state=42\n",
    "    )\n",
    "\n",
    "    # prunning\n",
    "    # Entrenamos el modelo con prunning\n",
    "    model.fit(X_train_transformed, y_train, eval_set=[(X_val_transformed, y_val)], callbacks=[XGBoostPruningCallback(trial, \"validation_0-mae\")], eval_metric=\"mae\", verbose=False)\n",
    "\n",
    "    # Realizamos las predicciones\n",
    "    y_pred = model.predict(X_val_transformed)\n",
    "    # Calculamos la métrica\n",
    "    mae = mean_absolute_error(y_val, y_pred)\n",
    "    # Guardamos el mejor pipeline entrenado\n",
    "    trial.set_user_attr(\"best_pipeline\", model)\n",
    "    return mae"
   ]
  },
  {
   "cell_type": "code",
   "execution_count": 21,
   "metadata": {
    "cell_id": "eeaa967cd8f6426d8c54f276c17dce79",
    "deepnote_cell_type": "code",
    "id": "sST6Wtj5I5wA"
   },
   "outputs": [
    {
     "name": "stdout",
     "output_type": "stream",
     "text": [
      "Número de trials: 437\n",
      "Mejor MAE: 2001.9508023073336\n",
      "Mejores hiperparámetros: {'learning_rate': 0.08564182880244181, 'n_estimators': 991, 'max_depth': 9, 'max_leaves': 96, 'min_child_weight': 3, 'reg_alpha': 0.22910912910519865, 'reg_lambda': 0.1073985101948807, 'min_frequency': 9}\n"
     ]
    }
   ],
   "source": [
    "study2 = optuna.create_study(direction=\"minimize\", sampler=TPESampler(seed=SEED))\n",
    "timeout=300  # 5 minutos = 300 segundos\n",
    "\n",
    "study2.optimize(objective, timeout=timeout)  # 5 minutos = 300 segundos\n",
    "print(\"Número de trials:\", len(study2.trials))\n",
    "print(\"Mejor MAE:\", study2.best_value)\n",
    "print(\"Mejores hiperparámetros:\", study2.best_params)"
   ]
  },
  {
   "cell_type": "markdown",
   "metadata": {},
   "source": [
    "El número de trials aumenta a casi el doble durante el mismo tiempo de optimización, lo que indica que el prunning ha permitido evaluar más configuraciones de hiperparámetros en el mismo período. Aunque el MAE es ligeramente peor que sin prunning, esto puede deberse a que la configuración ya encontrada era efectiva."
   ]
  },
  {
   "cell_type": "code",
   "execution_count": 22,
   "metadata": {},
   "outputs": [
    {
     "data": {
      "text/plain": [
       "['best_xgb_model_prunning.pkl']"
      ]
     },
     "execution_count": 22,
     "metadata": {},
     "output_type": "execute_result"
    }
   ],
   "source": [
    "# Guardar su modelo en un archivo .pkl [1 punto]\n",
    "best_pipeline = study2.best_trial.user_attrs[\"best_pipeline\"]\n",
    "joblib.dump(best_pipeline, \"best_xgb_model_prunning.pkl\")"
   ]
  },
  {
   "cell_type": "markdown",
   "metadata": {
    "cell_id": "8a081778cc704fc6bed05393a5419327",
    "deepnote_cell_type": "markdown",
    "id": "ZMiiVaCUI5wA"
   },
   "source": [
    "## 5. Visualizaciones (5 puntos)\n",
    "\n",
    "<p align=\"center\">\n",
    "  <img src=\"https://media.tenor.com/F-LgB1xTebEAAAAd/look-at-this-graph-nickelback.gif\">\n",
    "</p>\n",
    "\n",
    "\n",
    "Satisfecho con su trabajo, Fiu le pregunta si es posible generar visualizaciones que permitan entender el entrenamiento de su modelo.\n",
    "\n",
    "A partir del siguiente <a href = https://optuna.readthedocs.io/en/stable/tutorial/10_key_features/005_visualization.html#visualization>enlace</a>, genere las siguientes visualizaciones:\n",
    "\n",
    "1. Gráfico de historial de optimización [1 punto]\n",
    "2. Gráfico de coordenadas paralelas [1 punto]\n",
    "3. Gráfico de importancia de hiperparámetros [1 punto]\n",
    "\n",
    "Comente sus resultados:\n",
    "\n",
    "4. ¿Desde qué *trial* se empiezan a observar mejoras notables en sus resultados? [0.5 puntos]\n",
    "5. ¿Qué tendencias puede observar a partir del gráfico de coordenadas paralelas? [1 punto]\n",
    "6. ¿Cuáles son los hiperparámetros con mayor importancia para la optimización de su modelo? [0.5 puntos]"
   ]
  },
  {
   "cell_type": "code",
   "execution_count": 23,
   "metadata": {
    "cell_id": "0e706dc9a8d946eda7a9eb1f0463c6d7",
    "deepnote_cell_type": "code",
    "id": "xjxAEENAI5wA"
   },
   "outputs": [
    {
     "data": {
      "application/vnd.plotly.v1+json": {
       "config": {
        "plotlyServerURL": "https://plot.ly"
       },
       "data": [
        {
         "mode": "markers",
         "name": "Objective Value",
         "type": "scatter",
         "x": [
          0,
          1,
          2,
          3,
          4,
          6,
          11,
          12,
          13,
          14,
          15,
          18,
          19,
          21,
          22,
          36,
          41,
          45,
          46,
          52,
          58,
          63,
          64,
          71,
          87,
          88,
          90,
          113,
          115,
          122,
          124,
          133,
          153,
          161,
          165,
          203,
          217,
          221,
          225,
          233,
          235,
          240,
          272,
          274,
          316,
          332,
          335,
          341,
          352,
          362,
          383,
          385,
          423,
          424
         ],
         "y": [
          2129.8298906394093,
          2832.6726262523057,
          2435.7430970916644,
          2499.3346196973507,
          2548.88740073907,
          2252.660811548981,
          2194.3691286717703,
          2190.2720356972563,
          2199.045897455043,
          2113.0534296272426,
          2076.052355146504,
          2051.3163895482267,
          2077.8087538905306,
          2027.2747258289319,
          2068.6176710327068,
          2061.131871305961,
          2069.6165677332224,
          2089.3194253411093,
          2048.3979315345196,
          2026.6100635387847,
          2351.4584396024584,
          2072.967217857929,
          2053.1130827936367,
          2035.0178555054283,
          2054.8202795876823,
          2129.238919028494,
          2057.696957788397,
          2033.2823650889713,
          2045.0605512960576,
          2081.594192924474,
          2033.0302459286972,
          2024.7545882390698,
          2056.945572196198,
          2031.8513440670063,
          2698.303679662611,
          2048.887776856451,
          2041.6886586445758,
          2017.1909562845824,
          2031.2001347276366,
          2007.8427885018443,
          2039.895644210314,
          2044.6235096123617,
          2031.1207538197937,
          2032.6378507044874,
          2001.9508023073336,
          2042.769584630177,
          2045.6090182042778,
          2181.957815742109,
          2796.195148757126,
          2037.3863477086477,
          2016.0834944563212,
          2022.2587450156668,
          2139.3450456973615,
          2019.922119304368
         ]
        },
        {
         "mode": "lines",
         "name": "Best Value",
         "type": "scatter",
         "x": [
          0,
          1,
          2,
          3,
          4,
          5,
          6,
          7,
          8,
          9,
          10,
          11,
          12,
          13,
          14,
          15,
          16,
          17,
          18,
          19,
          20,
          21,
          22,
          23,
          24,
          25,
          26,
          27,
          28,
          29,
          30,
          31,
          32,
          33,
          34,
          35,
          36,
          37,
          38,
          39,
          40,
          41,
          42,
          43,
          44,
          45,
          46,
          47,
          48,
          49,
          50,
          51,
          52,
          53,
          54,
          55,
          56,
          57,
          58,
          59,
          60,
          61,
          62,
          63,
          64,
          65,
          66,
          67,
          68,
          69,
          70,
          71,
          72,
          73,
          74,
          75,
          76,
          77,
          78,
          79,
          80,
          81,
          82,
          83,
          84,
          85,
          86,
          87,
          88,
          89,
          90,
          91,
          92,
          93,
          94,
          95,
          96,
          97,
          98,
          99,
          100,
          101,
          102,
          103,
          104,
          105,
          106,
          107,
          108,
          109,
          110,
          111,
          112,
          113,
          114,
          115,
          116,
          117,
          118,
          119,
          120,
          121,
          122,
          123,
          124,
          125,
          126,
          127,
          128,
          129,
          130,
          131,
          132,
          133,
          134,
          135,
          136,
          137,
          138,
          139,
          140,
          141,
          142,
          143,
          144,
          145,
          146,
          147,
          148,
          149,
          150,
          151,
          152,
          153,
          154,
          155,
          156,
          157,
          158,
          159,
          160,
          161,
          162,
          163,
          164,
          165,
          166,
          167,
          168,
          169,
          170,
          171,
          172,
          173,
          174,
          175,
          176,
          177,
          178,
          179,
          180,
          181,
          182,
          183,
          184,
          185,
          186,
          187,
          188,
          189,
          190,
          191,
          192,
          193,
          194,
          195,
          196,
          197,
          198,
          199,
          200,
          201,
          202,
          203,
          204,
          205,
          206,
          207,
          208,
          209,
          210,
          211,
          212,
          213,
          214,
          215,
          216,
          217,
          218,
          219,
          220,
          221,
          222,
          223,
          224,
          225,
          226,
          227,
          228,
          229,
          230,
          231,
          232,
          233,
          234,
          235,
          236,
          237,
          238,
          239,
          240,
          241,
          242,
          243,
          244,
          245,
          246,
          247,
          248,
          249,
          250,
          251,
          252,
          253,
          254,
          255,
          256,
          257,
          258,
          259,
          260,
          261,
          262,
          263,
          264,
          265,
          266,
          267,
          268,
          269,
          270,
          271,
          272,
          273,
          274,
          275,
          276,
          277,
          278,
          279,
          280,
          281,
          282,
          283,
          284,
          285,
          286,
          287,
          288,
          289,
          290,
          291,
          292,
          293,
          294,
          295,
          296,
          297,
          298,
          299,
          300,
          301,
          302,
          303,
          304,
          305,
          306,
          307,
          308,
          309,
          310,
          311,
          312,
          313,
          314,
          315,
          316,
          317,
          318,
          319,
          320,
          321,
          322,
          323,
          324,
          325,
          326,
          327,
          328,
          329,
          330,
          331,
          332,
          333,
          334,
          335,
          336,
          337,
          338,
          339,
          340,
          341,
          342,
          343,
          344,
          345,
          346,
          347,
          348,
          349,
          350,
          351,
          352,
          353,
          354,
          355,
          356,
          357,
          358,
          359,
          360,
          361,
          362,
          363,
          364,
          365,
          366,
          367,
          368,
          369,
          370,
          371,
          372,
          373,
          374,
          375,
          376,
          377,
          378,
          379,
          380,
          381,
          382,
          383,
          384,
          385,
          386,
          387,
          388,
          389,
          390,
          391,
          392,
          393,
          394,
          395,
          396,
          397,
          398,
          399,
          400,
          401,
          402,
          403,
          404,
          405,
          406,
          407,
          408,
          409,
          410,
          411,
          412,
          413,
          414,
          415,
          416,
          417,
          418,
          419,
          420,
          421,
          422,
          423,
          424,
          425,
          426,
          427,
          428,
          429,
          430,
          431,
          432,
          433,
          434,
          435,
          436
         ],
         "y": [
          2129.8298906394093,
          2129.8298906394093,
          2129.8298906394093,
          2129.8298906394093,
          2129.8298906394093,
          2129.8298906394093,
          2129.8298906394093,
          2129.8298906394093,
          2129.8298906394093,
          2129.8298906394093,
          2129.8298906394093,
          2129.8298906394093,
          2129.8298906394093,
          2129.8298906394093,
          2113.0534296272426,
          2076.052355146504,
          2076.052355146504,
          2076.052355146504,
          2051.3163895482267,
          2051.3163895482267,
          2051.3163895482267,
          2027.2747258289319,
          2027.2747258289319,
          2027.2747258289319,
          2027.2747258289319,
          2027.2747258289319,
          2027.2747258289319,
          2027.2747258289319,
          2027.2747258289319,
          2027.2747258289319,
          2027.2747258289319,
          2027.2747258289319,
          2027.2747258289319,
          2027.2747258289319,
          2027.2747258289319,
          2027.2747258289319,
          2027.2747258289319,
          2027.2747258289319,
          2027.2747258289319,
          2027.2747258289319,
          2027.2747258289319,
          2027.2747258289319,
          2027.2747258289319,
          2027.2747258289319,
          2027.2747258289319,
          2027.2747258289319,
          2027.2747258289319,
          2027.2747258289319,
          2027.2747258289319,
          2027.2747258289319,
          2027.2747258289319,
          2027.2747258289319,
          2026.6100635387847,
          2026.6100635387847,
          2026.6100635387847,
          2026.6100635387847,
          2026.6100635387847,
          2026.6100635387847,
          2026.6100635387847,
          2026.6100635387847,
          2026.6100635387847,
          2026.6100635387847,
          2026.6100635387847,
          2026.6100635387847,
          2026.6100635387847,
          2026.6100635387847,
          2026.6100635387847,
          2026.6100635387847,
          2026.6100635387847,
          2026.6100635387847,
          2026.6100635387847,
          2026.6100635387847,
          2026.6100635387847,
          2026.6100635387847,
          2026.6100635387847,
          2026.6100635387847,
          2026.6100635387847,
          2026.6100635387847,
          2026.6100635387847,
          2026.6100635387847,
          2026.6100635387847,
          2026.6100635387847,
          2026.6100635387847,
          2026.6100635387847,
          2026.6100635387847,
          2026.6100635387847,
          2026.6100635387847,
          2026.6100635387847,
          2026.6100635387847,
          2026.6100635387847,
          2026.6100635387847,
          2026.6100635387847,
          2026.6100635387847,
          2026.6100635387847,
          2026.6100635387847,
          2026.6100635387847,
          2026.6100635387847,
          2026.6100635387847,
          2026.6100635387847,
          2026.6100635387847,
          2026.6100635387847,
          2026.6100635387847,
          2026.6100635387847,
          2026.6100635387847,
          2026.6100635387847,
          2026.6100635387847,
          2026.6100635387847,
          2026.6100635387847,
          2026.6100635387847,
          2026.6100635387847,
          2026.6100635387847,
          2026.6100635387847,
          2026.6100635387847,
          2026.6100635387847,
          2026.6100635387847,
          2026.6100635387847,
          2026.6100635387847,
          2026.6100635387847,
          2026.6100635387847,
          2026.6100635387847,
          2026.6100635387847,
          2026.6100635387847,
          2026.6100635387847,
          2026.6100635387847,
          2026.6100635387847,
          2026.6100635387847,
          2026.6100635387847,
          2026.6100635387847,
          2026.6100635387847,
          2026.6100635387847,
          2026.6100635387847,
          2026.6100635387847,
          2026.6100635387847,
          2024.7545882390698,
          2024.7545882390698,
          2024.7545882390698,
          2024.7545882390698,
          2024.7545882390698,
          2024.7545882390698,
          2024.7545882390698,
          2024.7545882390698,
          2024.7545882390698,
          2024.7545882390698,
          2024.7545882390698,
          2024.7545882390698,
          2024.7545882390698,
          2024.7545882390698,
          2024.7545882390698,
          2024.7545882390698,
          2024.7545882390698,
          2024.7545882390698,
          2024.7545882390698,
          2024.7545882390698,
          2024.7545882390698,
          2024.7545882390698,
          2024.7545882390698,
          2024.7545882390698,
          2024.7545882390698,
          2024.7545882390698,
          2024.7545882390698,
          2024.7545882390698,
          2024.7545882390698,
          2024.7545882390698,
          2024.7545882390698,
          2024.7545882390698,
          2024.7545882390698,
          2024.7545882390698,
          2024.7545882390698,
          2024.7545882390698,
          2024.7545882390698,
          2024.7545882390698,
          2024.7545882390698,
          2024.7545882390698,
          2024.7545882390698,
          2024.7545882390698,
          2024.7545882390698,
          2024.7545882390698,
          2024.7545882390698,
          2024.7545882390698,
          2024.7545882390698,
          2024.7545882390698,
          2024.7545882390698,
          2024.7545882390698,
          2024.7545882390698,
          2024.7545882390698,
          2024.7545882390698,
          2024.7545882390698,
          2024.7545882390698,
          2024.7545882390698,
          2024.7545882390698,
          2024.7545882390698,
          2024.7545882390698,
          2024.7545882390698,
          2024.7545882390698,
          2024.7545882390698,
          2024.7545882390698,
          2024.7545882390698,
          2024.7545882390698,
          2024.7545882390698,
          2024.7545882390698,
          2024.7545882390698,
          2024.7545882390698,
          2024.7545882390698,
          2024.7545882390698,
          2024.7545882390698,
          2024.7545882390698,
          2024.7545882390698,
          2024.7545882390698,
          2024.7545882390698,
          2024.7545882390698,
          2024.7545882390698,
          2024.7545882390698,
          2024.7545882390698,
          2024.7545882390698,
          2024.7545882390698,
          2024.7545882390698,
          2024.7545882390698,
          2024.7545882390698,
          2024.7545882390698,
          2024.7545882390698,
          2024.7545882390698,
          2017.1909562845824,
          2017.1909562845824,
          2017.1909562845824,
          2017.1909562845824,
          2017.1909562845824,
          2017.1909562845824,
          2017.1909562845824,
          2017.1909562845824,
          2017.1909562845824,
          2017.1909562845824,
          2017.1909562845824,
          2017.1909562845824,
          2007.8427885018443,
          2007.8427885018443,
          2007.8427885018443,
          2007.8427885018443,
          2007.8427885018443,
          2007.8427885018443,
          2007.8427885018443,
          2007.8427885018443,
          2007.8427885018443,
          2007.8427885018443,
          2007.8427885018443,
          2007.8427885018443,
          2007.8427885018443,
          2007.8427885018443,
          2007.8427885018443,
          2007.8427885018443,
          2007.8427885018443,
          2007.8427885018443,
          2007.8427885018443,
          2007.8427885018443,
          2007.8427885018443,
          2007.8427885018443,
          2007.8427885018443,
          2007.8427885018443,
          2007.8427885018443,
          2007.8427885018443,
          2007.8427885018443,
          2007.8427885018443,
          2007.8427885018443,
          2007.8427885018443,
          2007.8427885018443,
          2007.8427885018443,
          2007.8427885018443,
          2007.8427885018443,
          2007.8427885018443,
          2007.8427885018443,
          2007.8427885018443,
          2007.8427885018443,
          2007.8427885018443,
          2007.8427885018443,
          2007.8427885018443,
          2007.8427885018443,
          2007.8427885018443,
          2007.8427885018443,
          2007.8427885018443,
          2007.8427885018443,
          2007.8427885018443,
          2007.8427885018443,
          2007.8427885018443,
          2007.8427885018443,
          2007.8427885018443,
          2007.8427885018443,
          2007.8427885018443,
          2007.8427885018443,
          2007.8427885018443,
          2007.8427885018443,
          2007.8427885018443,
          2007.8427885018443,
          2007.8427885018443,
          2007.8427885018443,
          2007.8427885018443,
          2007.8427885018443,
          2007.8427885018443,
          2007.8427885018443,
          2007.8427885018443,
          2007.8427885018443,
          2007.8427885018443,
          2007.8427885018443,
          2007.8427885018443,
          2007.8427885018443,
          2007.8427885018443,
          2007.8427885018443,
          2007.8427885018443,
          2007.8427885018443,
          2007.8427885018443,
          2007.8427885018443,
          2007.8427885018443,
          2007.8427885018443,
          2007.8427885018443,
          2007.8427885018443,
          2007.8427885018443,
          2007.8427885018443,
          2007.8427885018443,
          2001.9508023073336,
          2001.9508023073336,
          2001.9508023073336,
          2001.9508023073336,
          2001.9508023073336,
          2001.9508023073336,
          2001.9508023073336,
          2001.9508023073336,
          2001.9508023073336,
          2001.9508023073336,
          2001.9508023073336,
          2001.9508023073336,
          2001.9508023073336,
          2001.9508023073336,
          2001.9508023073336,
          2001.9508023073336,
          2001.9508023073336,
          2001.9508023073336,
          2001.9508023073336,
          2001.9508023073336,
          2001.9508023073336,
          2001.9508023073336,
          2001.9508023073336,
          2001.9508023073336,
          2001.9508023073336,
          2001.9508023073336,
          2001.9508023073336,
          2001.9508023073336,
          2001.9508023073336,
          2001.9508023073336,
          2001.9508023073336,
          2001.9508023073336,
          2001.9508023073336,
          2001.9508023073336,
          2001.9508023073336,
          2001.9508023073336,
          2001.9508023073336,
          2001.9508023073336,
          2001.9508023073336,
          2001.9508023073336,
          2001.9508023073336,
          2001.9508023073336,
          2001.9508023073336,
          2001.9508023073336,
          2001.9508023073336,
          2001.9508023073336,
          2001.9508023073336,
          2001.9508023073336,
          2001.9508023073336,
          2001.9508023073336,
          2001.9508023073336,
          2001.9508023073336,
          2001.9508023073336,
          2001.9508023073336,
          2001.9508023073336,
          2001.9508023073336,
          2001.9508023073336,
          2001.9508023073336,
          2001.9508023073336,
          2001.9508023073336,
          2001.9508023073336,
          2001.9508023073336,
          2001.9508023073336,
          2001.9508023073336,
          2001.9508023073336,
          2001.9508023073336,
          2001.9508023073336,
          2001.9508023073336,
          2001.9508023073336,
          2001.9508023073336,
          2001.9508023073336,
          2001.9508023073336,
          2001.9508023073336,
          2001.9508023073336,
          2001.9508023073336,
          2001.9508023073336,
          2001.9508023073336,
          2001.9508023073336,
          2001.9508023073336,
          2001.9508023073336,
          2001.9508023073336,
          2001.9508023073336,
          2001.9508023073336,
          2001.9508023073336,
          2001.9508023073336,
          2001.9508023073336,
          2001.9508023073336,
          2001.9508023073336,
          2001.9508023073336,
          2001.9508023073336,
          2001.9508023073336,
          2001.9508023073336,
          2001.9508023073336,
          2001.9508023073336,
          2001.9508023073336,
          2001.9508023073336,
          2001.9508023073336,
          2001.9508023073336,
          2001.9508023073336,
          2001.9508023073336,
          2001.9508023073336,
          2001.9508023073336,
          2001.9508023073336,
          2001.9508023073336,
          2001.9508023073336,
          2001.9508023073336,
          2001.9508023073336,
          2001.9508023073336,
          2001.9508023073336,
          2001.9508023073336,
          2001.9508023073336,
          2001.9508023073336,
          2001.9508023073336,
          2001.9508023073336,
          2001.9508023073336,
          2001.9508023073336,
          2001.9508023073336,
          2001.9508023073336,
          2001.9508023073336,
          2001.9508023073336,
          2001.9508023073336
         ]
        },
        {
         "marker": {
          "color": "#cccccc"
         },
         "mode": "markers",
         "name": "Infeasible Trial",
         "showlegend": false,
         "type": "scatter",
         "x": [],
         "y": []
        }
       ],
       "layout": {
        "template": {
         "data": {
          "bar": [
           {
            "error_x": {
             "color": "#2a3f5f"
            },
            "error_y": {
             "color": "#2a3f5f"
            },
            "marker": {
             "line": {
              "color": "#E5ECF6",
              "width": 0.5
             },
             "pattern": {
              "fillmode": "overlay",
              "size": 10,
              "solidity": 0.2
             }
            },
            "type": "bar"
           }
          ],
          "barpolar": [
           {
            "marker": {
             "line": {
              "color": "#E5ECF6",
              "width": 0.5
             },
             "pattern": {
              "fillmode": "overlay",
              "size": 10,
              "solidity": 0.2
             }
            },
            "type": "barpolar"
           }
          ],
          "carpet": [
           {
            "aaxis": {
             "endlinecolor": "#2a3f5f",
             "gridcolor": "white",
             "linecolor": "white",
             "minorgridcolor": "white",
             "startlinecolor": "#2a3f5f"
            },
            "baxis": {
             "endlinecolor": "#2a3f5f",
             "gridcolor": "white",
             "linecolor": "white",
             "minorgridcolor": "white",
             "startlinecolor": "#2a3f5f"
            },
            "type": "carpet"
           }
          ],
          "choropleth": [
           {
            "colorbar": {
             "outlinewidth": 0,
             "ticks": ""
            },
            "type": "choropleth"
           }
          ],
          "contour": [
           {
            "colorbar": {
             "outlinewidth": 0,
             "ticks": ""
            },
            "colorscale": [
             [
              0,
              "#0d0887"
             ],
             [
              0.1111111111111111,
              "#46039f"
             ],
             [
              0.2222222222222222,
              "#7201a8"
             ],
             [
              0.3333333333333333,
              "#9c179e"
             ],
             [
              0.4444444444444444,
              "#bd3786"
             ],
             [
              0.5555555555555556,
              "#d8576b"
             ],
             [
              0.6666666666666666,
              "#ed7953"
             ],
             [
              0.7777777777777778,
              "#fb9f3a"
             ],
             [
              0.8888888888888888,
              "#fdca26"
             ],
             [
              1,
              "#f0f921"
             ]
            ],
            "type": "contour"
           }
          ],
          "contourcarpet": [
           {
            "colorbar": {
             "outlinewidth": 0,
             "ticks": ""
            },
            "type": "contourcarpet"
           }
          ],
          "heatmap": [
           {
            "colorbar": {
             "outlinewidth": 0,
             "ticks": ""
            },
            "colorscale": [
             [
              0,
              "#0d0887"
             ],
             [
              0.1111111111111111,
              "#46039f"
             ],
             [
              0.2222222222222222,
              "#7201a8"
             ],
             [
              0.3333333333333333,
              "#9c179e"
             ],
             [
              0.4444444444444444,
              "#bd3786"
             ],
             [
              0.5555555555555556,
              "#d8576b"
             ],
             [
              0.6666666666666666,
              "#ed7953"
             ],
             [
              0.7777777777777778,
              "#fb9f3a"
             ],
             [
              0.8888888888888888,
              "#fdca26"
             ],
             [
              1,
              "#f0f921"
             ]
            ],
            "type": "heatmap"
           }
          ],
          "histogram": [
           {
            "marker": {
             "pattern": {
              "fillmode": "overlay",
              "size": 10,
              "solidity": 0.2
             }
            },
            "type": "histogram"
           }
          ],
          "histogram2d": [
           {
            "colorbar": {
             "outlinewidth": 0,
             "ticks": ""
            },
            "colorscale": [
             [
              0,
              "#0d0887"
             ],
             [
              0.1111111111111111,
              "#46039f"
             ],
             [
              0.2222222222222222,
              "#7201a8"
             ],
             [
              0.3333333333333333,
              "#9c179e"
             ],
             [
              0.4444444444444444,
              "#bd3786"
             ],
             [
              0.5555555555555556,
              "#d8576b"
             ],
             [
              0.6666666666666666,
              "#ed7953"
             ],
             [
              0.7777777777777778,
              "#fb9f3a"
             ],
             [
              0.8888888888888888,
              "#fdca26"
             ],
             [
              1,
              "#f0f921"
             ]
            ],
            "type": "histogram2d"
           }
          ],
          "histogram2dcontour": [
           {
            "colorbar": {
             "outlinewidth": 0,
             "ticks": ""
            },
            "colorscale": [
             [
              0,
              "#0d0887"
             ],
             [
              0.1111111111111111,
              "#46039f"
             ],
             [
              0.2222222222222222,
              "#7201a8"
             ],
             [
              0.3333333333333333,
              "#9c179e"
             ],
             [
              0.4444444444444444,
              "#bd3786"
             ],
             [
              0.5555555555555556,
              "#d8576b"
             ],
             [
              0.6666666666666666,
              "#ed7953"
             ],
             [
              0.7777777777777778,
              "#fb9f3a"
             ],
             [
              0.8888888888888888,
              "#fdca26"
             ],
             [
              1,
              "#f0f921"
             ]
            ],
            "type": "histogram2dcontour"
           }
          ],
          "mesh3d": [
           {
            "colorbar": {
             "outlinewidth": 0,
             "ticks": ""
            },
            "type": "mesh3d"
           }
          ],
          "parcoords": [
           {
            "line": {
             "colorbar": {
              "outlinewidth": 0,
              "ticks": ""
             }
            },
            "type": "parcoords"
           }
          ],
          "pie": [
           {
            "automargin": true,
            "type": "pie"
           }
          ],
          "scatter": [
           {
            "fillpattern": {
             "fillmode": "overlay",
             "size": 10,
             "solidity": 0.2
            },
            "type": "scatter"
           }
          ],
          "scatter3d": [
           {
            "line": {
             "colorbar": {
              "outlinewidth": 0,
              "ticks": ""
             }
            },
            "marker": {
             "colorbar": {
              "outlinewidth": 0,
              "ticks": ""
             }
            },
            "type": "scatter3d"
           }
          ],
          "scattercarpet": [
           {
            "marker": {
             "colorbar": {
              "outlinewidth": 0,
              "ticks": ""
             }
            },
            "type": "scattercarpet"
           }
          ],
          "scattergeo": [
           {
            "marker": {
             "colorbar": {
              "outlinewidth": 0,
              "ticks": ""
             }
            },
            "type": "scattergeo"
           }
          ],
          "scattergl": [
           {
            "marker": {
             "colorbar": {
              "outlinewidth": 0,
              "ticks": ""
             }
            },
            "type": "scattergl"
           }
          ],
          "scattermap": [
           {
            "marker": {
             "colorbar": {
              "outlinewidth": 0,
              "ticks": ""
             }
            },
            "type": "scattermap"
           }
          ],
          "scattermapbox": [
           {
            "marker": {
             "colorbar": {
              "outlinewidth": 0,
              "ticks": ""
             }
            },
            "type": "scattermapbox"
           }
          ],
          "scatterpolar": [
           {
            "marker": {
             "colorbar": {
              "outlinewidth": 0,
              "ticks": ""
             }
            },
            "type": "scatterpolar"
           }
          ],
          "scatterpolargl": [
           {
            "marker": {
             "colorbar": {
              "outlinewidth": 0,
              "ticks": ""
             }
            },
            "type": "scatterpolargl"
           }
          ],
          "scatterternary": [
           {
            "marker": {
             "colorbar": {
              "outlinewidth": 0,
              "ticks": ""
             }
            },
            "type": "scatterternary"
           }
          ],
          "surface": [
           {
            "colorbar": {
             "outlinewidth": 0,
             "ticks": ""
            },
            "colorscale": [
             [
              0,
              "#0d0887"
             ],
             [
              0.1111111111111111,
              "#46039f"
             ],
             [
              0.2222222222222222,
              "#7201a8"
             ],
             [
              0.3333333333333333,
              "#9c179e"
             ],
             [
              0.4444444444444444,
              "#bd3786"
             ],
             [
              0.5555555555555556,
              "#d8576b"
             ],
             [
              0.6666666666666666,
              "#ed7953"
             ],
             [
              0.7777777777777778,
              "#fb9f3a"
             ],
             [
              0.8888888888888888,
              "#fdca26"
             ],
             [
              1,
              "#f0f921"
             ]
            ],
            "type": "surface"
           }
          ],
          "table": [
           {
            "cells": {
             "fill": {
              "color": "#EBF0F8"
             },
             "line": {
              "color": "white"
             }
            },
            "header": {
             "fill": {
              "color": "#C8D4E3"
             },
             "line": {
              "color": "white"
             }
            },
            "type": "table"
           }
          ]
         },
         "layout": {
          "annotationdefaults": {
           "arrowcolor": "#2a3f5f",
           "arrowhead": 0,
           "arrowwidth": 1
          },
          "autotypenumbers": "strict",
          "coloraxis": {
           "colorbar": {
            "outlinewidth": 0,
            "ticks": ""
           }
          },
          "colorscale": {
           "diverging": [
            [
             0,
             "#8e0152"
            ],
            [
             0.1,
             "#c51b7d"
            ],
            [
             0.2,
             "#de77ae"
            ],
            [
             0.3,
             "#f1b6da"
            ],
            [
             0.4,
             "#fde0ef"
            ],
            [
             0.5,
             "#f7f7f7"
            ],
            [
             0.6,
             "#e6f5d0"
            ],
            [
             0.7,
             "#b8e186"
            ],
            [
             0.8,
             "#7fbc41"
            ],
            [
             0.9,
             "#4d9221"
            ],
            [
             1,
             "#276419"
            ]
           ],
           "sequential": [
            [
             0,
             "#0d0887"
            ],
            [
             0.1111111111111111,
             "#46039f"
            ],
            [
             0.2222222222222222,
             "#7201a8"
            ],
            [
             0.3333333333333333,
             "#9c179e"
            ],
            [
             0.4444444444444444,
             "#bd3786"
            ],
            [
             0.5555555555555556,
             "#d8576b"
            ],
            [
             0.6666666666666666,
             "#ed7953"
            ],
            [
             0.7777777777777778,
             "#fb9f3a"
            ],
            [
             0.8888888888888888,
             "#fdca26"
            ],
            [
             1,
             "#f0f921"
            ]
           ],
           "sequentialminus": [
            [
             0,
             "#0d0887"
            ],
            [
             0.1111111111111111,
             "#46039f"
            ],
            [
             0.2222222222222222,
             "#7201a8"
            ],
            [
             0.3333333333333333,
             "#9c179e"
            ],
            [
             0.4444444444444444,
             "#bd3786"
            ],
            [
             0.5555555555555556,
             "#d8576b"
            ],
            [
             0.6666666666666666,
             "#ed7953"
            ],
            [
             0.7777777777777778,
             "#fb9f3a"
            ],
            [
             0.8888888888888888,
             "#fdca26"
            ],
            [
             1,
             "#f0f921"
            ]
           ]
          },
          "colorway": [
           "#636efa",
           "#EF553B",
           "#00cc96",
           "#ab63fa",
           "#FFA15A",
           "#19d3f3",
           "#FF6692",
           "#B6E880",
           "#FF97FF",
           "#FECB52"
          ],
          "font": {
           "color": "#2a3f5f"
          },
          "geo": {
           "bgcolor": "white",
           "lakecolor": "white",
           "landcolor": "#E5ECF6",
           "showlakes": true,
           "showland": true,
           "subunitcolor": "white"
          },
          "hoverlabel": {
           "align": "left"
          },
          "hovermode": "closest",
          "mapbox": {
           "style": "light"
          },
          "paper_bgcolor": "white",
          "plot_bgcolor": "#E5ECF6",
          "polar": {
           "angularaxis": {
            "gridcolor": "white",
            "linecolor": "white",
            "ticks": ""
           },
           "bgcolor": "#E5ECF6",
           "radialaxis": {
            "gridcolor": "white",
            "linecolor": "white",
            "ticks": ""
           }
          },
          "scene": {
           "xaxis": {
            "backgroundcolor": "#E5ECF6",
            "gridcolor": "white",
            "gridwidth": 2,
            "linecolor": "white",
            "showbackground": true,
            "ticks": "",
            "zerolinecolor": "white"
           },
           "yaxis": {
            "backgroundcolor": "#E5ECF6",
            "gridcolor": "white",
            "gridwidth": 2,
            "linecolor": "white",
            "showbackground": true,
            "ticks": "",
            "zerolinecolor": "white"
           },
           "zaxis": {
            "backgroundcolor": "#E5ECF6",
            "gridcolor": "white",
            "gridwidth": 2,
            "linecolor": "white",
            "showbackground": true,
            "ticks": "",
            "zerolinecolor": "white"
           }
          },
          "shapedefaults": {
           "line": {
            "color": "#2a3f5f"
           }
          },
          "ternary": {
           "aaxis": {
            "gridcolor": "white",
            "linecolor": "white",
            "ticks": ""
           },
           "baxis": {
            "gridcolor": "white",
            "linecolor": "white",
            "ticks": ""
           },
           "bgcolor": "#E5ECF6",
           "caxis": {
            "gridcolor": "white",
            "linecolor": "white",
            "ticks": ""
           }
          },
          "title": {
           "x": 0.05
          },
          "xaxis": {
           "automargin": true,
           "gridcolor": "white",
           "linecolor": "white",
           "ticks": "",
           "title": {
            "standoff": 15
           },
           "zerolinecolor": "white",
           "zerolinewidth": 2
          },
          "yaxis": {
           "automargin": true,
           "gridcolor": "white",
           "linecolor": "white",
           "ticks": "",
           "title": {
            "standoff": 15
           },
           "zerolinecolor": "white",
           "zerolinewidth": 2
          }
         }
        },
        "title": {
         "text": "Optimization History Plot"
        },
        "xaxis": {
         "title": {
          "text": "Trial"
         }
        },
        "yaxis": {
         "title": {
          "text": "Objective Value"
         }
        }
       }
      }
     },
     "metadata": {},
     "output_type": "display_data"
    }
   ],
   "source": [
    "# Inserte su código acá\n",
    "from optuna.visualization import plot_optimization_history , plot_parallel_coordinate, plot_param_importances\n",
    "plot_optimization_history(study2)\n"
   ]
  },
  {
   "cell_type": "code",
   "execution_count": 24,
   "metadata": {},
   "outputs": [
    {
     "data": {
      "application/vnd.plotly.v1+json": {
       "config": {
        "plotlyServerURL": "https://plot.ly"
       },
       "data": [
        {
         "dimensions": [
          {
           "label": "Objective Value",
           "range": [
            2001.9508023073336,
            2832.6726262523057
           ],
           "values": [
            2129.8298906394093,
            2832.6726262523057,
            2435.7430970916644,
            2499.3346196973507,
            2548.88740073907,
            2252.660811548981,
            2194.3691286717703,
            2190.2720356972563,
            2199.045897455043,
            2113.0534296272426,
            2076.052355146504,
            2051.3163895482267,
            2077.8087538905306,
            2027.2747258289319,
            2068.6176710327068,
            2061.131871305961,
            2069.6165677332224,
            2089.3194253411093,
            2048.3979315345196,
            2026.6100635387847,
            2351.4584396024584,
            2072.967217857929,
            2053.1130827936367,
            2035.0178555054283,
            2054.8202795876823,
            2129.238919028494,
            2057.696957788397,
            2033.2823650889713,
            2045.0605512960576,
            2081.594192924474,
            2033.0302459286972,
            2024.7545882390698,
            2056.945572196198,
            2031.8513440670063,
            2698.303679662611,
            2048.887776856451,
            2041.6886586445758,
            2017.1909562845824,
            2031.2001347276366,
            2007.8427885018443,
            2039.895644210314,
            2044.6235096123617,
            2031.1207538197937,
            2032.6378507044874,
            2001.9508023073336,
            2042.769584630177,
            2045.6090182042778,
            2181.957815742109,
            2796.195148757126,
            2037.3863477086477,
            2016.0834944563212,
            2022.2587450156668,
            2139.3450456973615,
            2019.922119304368
           ]
          },
          {
           "label": "learning_rate",
           "range": [
            0.0074401077055426725,
            0.09988346694472164
           ],
           "values": [
            0.03807947176588889,
            0.06051038616257767,
            0.03111998205299424,
            0.04615092843748656,
            0.0074401077055426725,
            0.05512431765498469,
            0.0649122908568917,
            0.07650104027510159,
            0.08291760822250535,
            0.07950326607838908,
            0.09988346694472164,
            0.06817004925461742,
            0.07326038121648812,
            0.0728466193738038,
            0.08674197536127438,
            0.07575813301892925,
            0.08018609871901519,
            0.08827464899923015,
            0.07731423194934899,
            0.07296370644929102,
            0.07768118320908052,
            0.07765930769207659,
            0.08684603223541149,
            0.07932427498293741,
            0.08620656314220293,
            0.09167727948748172,
            0.08610088612000595,
            0.08077107427475297,
            0.0860946830384529,
            0.08273483327129504,
            0.08517784988852506,
            0.08172283265945848,
            0.07965006590092433,
            0.07981666305193667,
            0.07942223655381908,
            0.0895907124618171,
            0.08725296937676065,
            0.08361622880513152,
            0.07965898139336634,
            0.0848371875455905,
            0.08378725922412779,
            0.08533888781415229,
            0.08327046681650103,
            0.08609535581060859,
            0.08564182880244181,
            0.09469313968724687,
            0.09620805830185497,
            0.09708624645470702,
            0.0812895941465882,
            0.0849139588312211,
            0.0984070905615154,
            0.09808330885955069,
            0.08387521680064751,
            0.09438566223980484
           ]
          },
          {
           "label": "max_depth",
           "range": [
            3,
            10
           ],
           "values": [
            8,
            3,
            6,
            4,
            10,
            10,
            10,
            9,
            8,
            8,
            6,
            7,
            7,
            7,
            6,
            8,
            8,
            8,
            8,
            8,
            8,
            8,
            8,
            8,
            8,
            7,
            7,
            9,
            9,
            9,
            8,
            8,
            8,
            8,
            8,
            9,
            7,
            7,
            7,
            7,
            7,
            7,
            7,
            7,
            9,
            8,
            8,
            8,
            7,
            9,
            9,
            9,
            9,
            8
           ]
          },
          {
           "label": "max_leaves",
           "range": [
            29,
            98
           ],
           "values": [
            60,
            97,
            29,
            51,
            81,
            78,
            59,
            55,
            35,
            63,
            63,
            67,
            69,
            69,
            68,
            84,
            78,
            83,
            87,
            86,
            82,
            90,
            70,
            86,
            88,
            98,
            94,
            86,
            86,
            83,
            67,
            79,
            92,
            89,
            90,
            87,
            86,
            83,
            88,
            91,
            92,
            88,
            92,
            92,
            96,
            90,
            91,
            87,
            86,
            89,
            91,
            93,
            90,
            92
           ]
          },
          {
           "label": "min_child_weight",
           "range": [
            1,
            5
           ],
           "values": [
            1,
            5,
            4,
            3,
            2,
            5,
            5,
            4,
            3,
            4,
            3,
            4,
            3,
            3,
            2,
            3,
            3,
            4,
            4,
            3,
            1,
            3,
            4,
            3,
            2,
            2,
            2,
            3,
            3,
            3,
            3,
            3,
            3,
            3,
            3,
            3,
            3,
            3,
            3,
            3,
            3,
            3,
            3,
            3,
            3,
            3,
            3,
            3,
            3,
            3,
            3,
            3,
            3,
            3
           ]
          },
          {
           "label": "min_frequency",
           "range": [
            2,
            10
           ],
           "values": [
            9,
            2,
            4,
            2,
            5,
            10,
            10,
            8,
            8,
            8,
            8,
            8,
            6,
            6,
            7,
            7,
            8,
            9,
            8,
            8,
            9,
            7,
            10,
            8,
            8,
            8,
            7,
            7,
            9,
            8,
            9,
            8,
            7,
            7,
            8,
            8,
            8,
            8,
            8,
            8,
            8,
            8,
            10,
            8,
            9,
            8,
            8,
            8,
            8,
            8,
            10,
            10,
            8,
            8
           ]
          },
          {
           "label": "n_estimators",
           "range": [
            63,
            997
           ],
           "values": [
            954,
            723,
            549,
            796,
            952,
            225,
            344,
            377,
            439,
            997,
            976,
            840,
            855,
            855,
            880,
            735,
            925,
            710,
            754,
            947,
            122,
            797,
            895,
            955,
            843,
            261,
            997,
            794,
            882,
            547,
            938,
            975,
            764,
            825,
            71,
            952,
            567,
            813,
            944,
            791,
            752,
            720,
            950,
            940,
            991,
            307,
            825,
            161,
            63,
            809,
            979,
            974,
            186,
            805
           ]
          },
          {
           "label": "reg_alpha",
           "range": [
            0.00605117791683453,
            0.8948273504276488
           ],
           "values": [
            0.15599452033620265,
            0.21233911067827616,
            0.13949386065204183,
            0.046450412719997725,
            0.09767211400638387,
            0.8948273504276488,
            0.8749641488772917,
            0.689536601120642,
            0.6296495228667632,
            0.3797206327565821,
            0.37445795296646084,
            0.5329001726030739,
            0.5014570154223665,
            0.538199536852189,
            0.5642303104200669,
            0.19745659841459917,
            0.3184745352704839,
            0.42252931509322544,
            0.6497338364378019,
            0.1111519796666401,
            0.5937268735026437,
            0.33644560622722985,
            0.046336605676117526,
            0.27098880882299364,
            0.19973644148425804,
            0.06128886900130126,
            0.5922954652046661,
            0.26524281853136267,
            0.2549295674908323,
            0.5519794675423065,
            0.28231447831518064,
            0.24902795285416626,
            0.2634441514367965,
            0.3111564843312359,
            0.2565481659844434,
            0.5043556961692846,
            0.5578330514625525,
            0.5573113709281144,
            0.247108877300298,
            0.5790285000816986,
            0.00605117791683453,
            0.25879304769999656,
            0.30750072894520536,
            0.5969864275490505,
            0.22910912910519865,
            0.2308819554033783,
            0.2777167624910188,
            0.24193185886445912,
            0.26699552084592665,
            0.6314020468418353,
            0.04550912691743653,
            0.016499343051351877,
            0.5616947311012257,
            0.08473972514352734
           ]
          },
          {
           "label": "reg_lambda",
           "range": [
            0.019265476691814512,
            0.9993624386415512
           ],
           "values": [
            0.05808361216819946,
            0.18182496720710062,
            0.29214464853521815,
            0.6075448519014384,
            0.6842330265121569,
            0.5978999788110851,
            0.9489403251102957,
            0.994721936027074,
            0.9993624386415512,
            0.462114758401128,
            0.019356829278720657,
            0.42243509744760005,
            0.13711754983445895,
            0.1257096861395361,
            0.22466329334101018,
            0.2933184412081658,
            0.11612325993623951,
            0.4191727610580268,
            0.2649591531251474,
            0.12018331084140164,
            0.08127383047517678,
            0.15371083521613432,
            0.11448428608312446,
            0.11405425213812427,
            0.10710250137610967,
            0.0413671142425245,
            0.10548824079479548,
            0.17866894129147612,
            0.24788206096108015,
            0.13128075363922734,
            0.12416480147873792,
            0.12681252423954303,
            0.09768752262236882,
            0.1476413292692248,
            0.1582132180564209,
            0.08590478275749422,
            0.08200928539723928,
            0.14190832291618197,
            0.20314455349209973,
            0.18185091947977566,
            0.1719523573843584,
            0.24854888662844726,
            0.12544982771762075,
            0.12532404877449277,
            0.1073985101948807,
            0.04391055176214036,
            0.019265476691814512,
            0.04520890308279377,
            0.05090263252954016,
            0.19051950309328664,
            0.22450681550142026,
            0.2365814329390914,
            0.1945201093376573,
            0.05764778704183731
           ]
          }
         ],
         "labelangle": 30,
         "labelside": "bottom",
         "line": {
          "color": [
           2129.8298906394093,
           2832.6726262523057,
           2435.7430970916644,
           2499.3346196973507,
           2548.88740073907,
           2252.660811548981,
           2194.3691286717703,
           2190.2720356972563,
           2199.045897455043,
           2113.0534296272426,
           2076.052355146504,
           2051.3163895482267,
           2077.8087538905306,
           2027.2747258289319,
           2068.6176710327068,
           2061.131871305961,
           2069.6165677332224,
           2089.3194253411093,
           2048.3979315345196,
           2026.6100635387847,
           2351.4584396024584,
           2072.967217857929,
           2053.1130827936367,
           2035.0178555054283,
           2054.8202795876823,
           2129.238919028494,
           2057.696957788397,
           2033.2823650889713,
           2045.0605512960576,
           2081.594192924474,
           2033.0302459286972,
           2024.7545882390698,
           2056.945572196198,
           2031.8513440670063,
           2698.303679662611,
           2048.887776856451,
           2041.6886586445758,
           2017.1909562845824,
           2031.2001347276366,
           2007.8427885018443,
           2039.895644210314,
           2044.6235096123617,
           2031.1207538197937,
           2032.6378507044874,
           2001.9508023073336,
           2042.769584630177,
           2045.6090182042778,
           2181.957815742109,
           2796.195148757126,
           2037.3863477086477,
           2016.0834944563212,
           2022.2587450156668,
           2139.3450456973615,
           2019.922119304368
          ],
          "colorbar": {
           "title": {
            "text": "Objective Value"
           }
          },
          "colorscale": [
           [
            0,
            "rgb(247,251,255)"
           ],
           [
            0.125,
            "rgb(222,235,247)"
           ],
           [
            0.25,
            "rgb(198,219,239)"
           ],
           [
            0.375,
            "rgb(158,202,225)"
           ],
           [
            0.5,
            "rgb(107,174,214)"
           ],
           [
            0.625,
            "rgb(66,146,198)"
           ],
           [
            0.75,
            "rgb(33,113,181)"
           ],
           [
            0.875,
            "rgb(8,81,156)"
           ],
           [
            1,
            "rgb(8,48,107)"
           ]
          ],
          "reversescale": true,
          "showscale": true
         },
         "type": "parcoords"
        }
       ],
       "layout": {
        "template": {
         "data": {
          "bar": [
           {
            "error_x": {
             "color": "#2a3f5f"
            },
            "error_y": {
             "color": "#2a3f5f"
            },
            "marker": {
             "line": {
              "color": "#E5ECF6",
              "width": 0.5
             },
             "pattern": {
              "fillmode": "overlay",
              "size": 10,
              "solidity": 0.2
             }
            },
            "type": "bar"
           }
          ],
          "barpolar": [
           {
            "marker": {
             "line": {
              "color": "#E5ECF6",
              "width": 0.5
             },
             "pattern": {
              "fillmode": "overlay",
              "size": 10,
              "solidity": 0.2
             }
            },
            "type": "barpolar"
           }
          ],
          "carpet": [
           {
            "aaxis": {
             "endlinecolor": "#2a3f5f",
             "gridcolor": "white",
             "linecolor": "white",
             "minorgridcolor": "white",
             "startlinecolor": "#2a3f5f"
            },
            "baxis": {
             "endlinecolor": "#2a3f5f",
             "gridcolor": "white",
             "linecolor": "white",
             "minorgridcolor": "white",
             "startlinecolor": "#2a3f5f"
            },
            "type": "carpet"
           }
          ],
          "choropleth": [
           {
            "colorbar": {
             "outlinewidth": 0,
             "ticks": ""
            },
            "type": "choropleth"
           }
          ],
          "contour": [
           {
            "colorbar": {
             "outlinewidth": 0,
             "ticks": ""
            },
            "colorscale": [
             [
              0,
              "#0d0887"
             ],
             [
              0.1111111111111111,
              "#46039f"
             ],
             [
              0.2222222222222222,
              "#7201a8"
             ],
             [
              0.3333333333333333,
              "#9c179e"
             ],
             [
              0.4444444444444444,
              "#bd3786"
             ],
             [
              0.5555555555555556,
              "#d8576b"
             ],
             [
              0.6666666666666666,
              "#ed7953"
             ],
             [
              0.7777777777777778,
              "#fb9f3a"
             ],
             [
              0.8888888888888888,
              "#fdca26"
             ],
             [
              1,
              "#f0f921"
             ]
            ],
            "type": "contour"
           }
          ],
          "contourcarpet": [
           {
            "colorbar": {
             "outlinewidth": 0,
             "ticks": ""
            },
            "type": "contourcarpet"
           }
          ],
          "heatmap": [
           {
            "colorbar": {
             "outlinewidth": 0,
             "ticks": ""
            },
            "colorscale": [
             [
              0,
              "#0d0887"
             ],
             [
              0.1111111111111111,
              "#46039f"
             ],
             [
              0.2222222222222222,
              "#7201a8"
             ],
             [
              0.3333333333333333,
              "#9c179e"
             ],
             [
              0.4444444444444444,
              "#bd3786"
             ],
             [
              0.5555555555555556,
              "#d8576b"
             ],
             [
              0.6666666666666666,
              "#ed7953"
             ],
             [
              0.7777777777777778,
              "#fb9f3a"
             ],
             [
              0.8888888888888888,
              "#fdca26"
             ],
             [
              1,
              "#f0f921"
             ]
            ],
            "type": "heatmap"
           }
          ],
          "histogram": [
           {
            "marker": {
             "pattern": {
              "fillmode": "overlay",
              "size": 10,
              "solidity": 0.2
             }
            },
            "type": "histogram"
           }
          ],
          "histogram2d": [
           {
            "colorbar": {
             "outlinewidth": 0,
             "ticks": ""
            },
            "colorscale": [
             [
              0,
              "#0d0887"
             ],
             [
              0.1111111111111111,
              "#46039f"
             ],
             [
              0.2222222222222222,
              "#7201a8"
             ],
             [
              0.3333333333333333,
              "#9c179e"
             ],
             [
              0.4444444444444444,
              "#bd3786"
             ],
             [
              0.5555555555555556,
              "#d8576b"
             ],
             [
              0.6666666666666666,
              "#ed7953"
             ],
             [
              0.7777777777777778,
              "#fb9f3a"
             ],
             [
              0.8888888888888888,
              "#fdca26"
             ],
             [
              1,
              "#f0f921"
             ]
            ],
            "type": "histogram2d"
           }
          ],
          "histogram2dcontour": [
           {
            "colorbar": {
             "outlinewidth": 0,
             "ticks": ""
            },
            "colorscale": [
             [
              0,
              "#0d0887"
             ],
             [
              0.1111111111111111,
              "#46039f"
             ],
             [
              0.2222222222222222,
              "#7201a8"
             ],
             [
              0.3333333333333333,
              "#9c179e"
             ],
             [
              0.4444444444444444,
              "#bd3786"
             ],
             [
              0.5555555555555556,
              "#d8576b"
             ],
             [
              0.6666666666666666,
              "#ed7953"
             ],
             [
              0.7777777777777778,
              "#fb9f3a"
             ],
             [
              0.8888888888888888,
              "#fdca26"
             ],
             [
              1,
              "#f0f921"
             ]
            ],
            "type": "histogram2dcontour"
           }
          ],
          "mesh3d": [
           {
            "colorbar": {
             "outlinewidth": 0,
             "ticks": ""
            },
            "type": "mesh3d"
           }
          ],
          "parcoords": [
           {
            "line": {
             "colorbar": {
              "outlinewidth": 0,
              "ticks": ""
             }
            },
            "type": "parcoords"
           }
          ],
          "pie": [
           {
            "automargin": true,
            "type": "pie"
           }
          ],
          "scatter": [
           {
            "fillpattern": {
             "fillmode": "overlay",
             "size": 10,
             "solidity": 0.2
            },
            "type": "scatter"
           }
          ],
          "scatter3d": [
           {
            "line": {
             "colorbar": {
              "outlinewidth": 0,
              "ticks": ""
             }
            },
            "marker": {
             "colorbar": {
              "outlinewidth": 0,
              "ticks": ""
             }
            },
            "type": "scatter3d"
           }
          ],
          "scattercarpet": [
           {
            "marker": {
             "colorbar": {
              "outlinewidth": 0,
              "ticks": ""
             }
            },
            "type": "scattercarpet"
           }
          ],
          "scattergeo": [
           {
            "marker": {
             "colorbar": {
              "outlinewidth": 0,
              "ticks": ""
             }
            },
            "type": "scattergeo"
           }
          ],
          "scattergl": [
           {
            "marker": {
             "colorbar": {
              "outlinewidth": 0,
              "ticks": ""
             }
            },
            "type": "scattergl"
           }
          ],
          "scattermap": [
           {
            "marker": {
             "colorbar": {
              "outlinewidth": 0,
              "ticks": ""
             }
            },
            "type": "scattermap"
           }
          ],
          "scattermapbox": [
           {
            "marker": {
             "colorbar": {
              "outlinewidth": 0,
              "ticks": ""
             }
            },
            "type": "scattermapbox"
           }
          ],
          "scatterpolar": [
           {
            "marker": {
             "colorbar": {
              "outlinewidth": 0,
              "ticks": ""
             }
            },
            "type": "scatterpolar"
           }
          ],
          "scatterpolargl": [
           {
            "marker": {
             "colorbar": {
              "outlinewidth": 0,
              "ticks": ""
             }
            },
            "type": "scatterpolargl"
           }
          ],
          "scatterternary": [
           {
            "marker": {
             "colorbar": {
              "outlinewidth": 0,
              "ticks": ""
             }
            },
            "type": "scatterternary"
           }
          ],
          "surface": [
           {
            "colorbar": {
             "outlinewidth": 0,
             "ticks": ""
            },
            "colorscale": [
             [
              0,
              "#0d0887"
             ],
             [
              0.1111111111111111,
              "#46039f"
             ],
             [
              0.2222222222222222,
              "#7201a8"
             ],
             [
              0.3333333333333333,
              "#9c179e"
             ],
             [
              0.4444444444444444,
              "#bd3786"
             ],
             [
              0.5555555555555556,
              "#d8576b"
             ],
             [
              0.6666666666666666,
              "#ed7953"
             ],
             [
              0.7777777777777778,
              "#fb9f3a"
             ],
             [
              0.8888888888888888,
              "#fdca26"
             ],
             [
              1,
              "#f0f921"
             ]
            ],
            "type": "surface"
           }
          ],
          "table": [
           {
            "cells": {
             "fill": {
              "color": "#EBF0F8"
             },
             "line": {
              "color": "white"
             }
            },
            "header": {
             "fill": {
              "color": "#C8D4E3"
             },
             "line": {
              "color": "white"
             }
            },
            "type": "table"
           }
          ]
         },
         "layout": {
          "annotationdefaults": {
           "arrowcolor": "#2a3f5f",
           "arrowhead": 0,
           "arrowwidth": 1
          },
          "autotypenumbers": "strict",
          "coloraxis": {
           "colorbar": {
            "outlinewidth": 0,
            "ticks": ""
           }
          },
          "colorscale": {
           "diverging": [
            [
             0,
             "#8e0152"
            ],
            [
             0.1,
             "#c51b7d"
            ],
            [
             0.2,
             "#de77ae"
            ],
            [
             0.3,
             "#f1b6da"
            ],
            [
             0.4,
             "#fde0ef"
            ],
            [
             0.5,
             "#f7f7f7"
            ],
            [
             0.6,
             "#e6f5d0"
            ],
            [
             0.7,
             "#b8e186"
            ],
            [
             0.8,
             "#7fbc41"
            ],
            [
             0.9,
             "#4d9221"
            ],
            [
             1,
             "#276419"
            ]
           ],
           "sequential": [
            [
             0,
             "#0d0887"
            ],
            [
             0.1111111111111111,
             "#46039f"
            ],
            [
             0.2222222222222222,
             "#7201a8"
            ],
            [
             0.3333333333333333,
             "#9c179e"
            ],
            [
             0.4444444444444444,
             "#bd3786"
            ],
            [
             0.5555555555555556,
             "#d8576b"
            ],
            [
             0.6666666666666666,
             "#ed7953"
            ],
            [
             0.7777777777777778,
             "#fb9f3a"
            ],
            [
             0.8888888888888888,
             "#fdca26"
            ],
            [
             1,
             "#f0f921"
            ]
           ],
           "sequentialminus": [
            [
             0,
             "#0d0887"
            ],
            [
             0.1111111111111111,
             "#46039f"
            ],
            [
             0.2222222222222222,
             "#7201a8"
            ],
            [
             0.3333333333333333,
             "#9c179e"
            ],
            [
             0.4444444444444444,
             "#bd3786"
            ],
            [
             0.5555555555555556,
             "#d8576b"
            ],
            [
             0.6666666666666666,
             "#ed7953"
            ],
            [
             0.7777777777777778,
             "#fb9f3a"
            ],
            [
             0.8888888888888888,
             "#fdca26"
            ],
            [
             1,
             "#f0f921"
            ]
           ]
          },
          "colorway": [
           "#636efa",
           "#EF553B",
           "#00cc96",
           "#ab63fa",
           "#FFA15A",
           "#19d3f3",
           "#FF6692",
           "#B6E880",
           "#FF97FF",
           "#FECB52"
          ],
          "font": {
           "color": "#2a3f5f"
          },
          "geo": {
           "bgcolor": "white",
           "lakecolor": "white",
           "landcolor": "#E5ECF6",
           "showlakes": true,
           "showland": true,
           "subunitcolor": "white"
          },
          "hoverlabel": {
           "align": "left"
          },
          "hovermode": "closest",
          "mapbox": {
           "style": "light"
          },
          "paper_bgcolor": "white",
          "plot_bgcolor": "#E5ECF6",
          "polar": {
           "angularaxis": {
            "gridcolor": "white",
            "linecolor": "white",
            "ticks": ""
           },
           "bgcolor": "#E5ECF6",
           "radialaxis": {
            "gridcolor": "white",
            "linecolor": "white",
            "ticks": ""
           }
          },
          "scene": {
           "xaxis": {
            "backgroundcolor": "#E5ECF6",
            "gridcolor": "white",
            "gridwidth": 2,
            "linecolor": "white",
            "showbackground": true,
            "ticks": "",
            "zerolinecolor": "white"
           },
           "yaxis": {
            "backgroundcolor": "#E5ECF6",
            "gridcolor": "white",
            "gridwidth": 2,
            "linecolor": "white",
            "showbackground": true,
            "ticks": "",
            "zerolinecolor": "white"
           },
           "zaxis": {
            "backgroundcolor": "#E5ECF6",
            "gridcolor": "white",
            "gridwidth": 2,
            "linecolor": "white",
            "showbackground": true,
            "ticks": "",
            "zerolinecolor": "white"
           }
          },
          "shapedefaults": {
           "line": {
            "color": "#2a3f5f"
           }
          },
          "ternary": {
           "aaxis": {
            "gridcolor": "white",
            "linecolor": "white",
            "ticks": ""
           },
           "baxis": {
            "gridcolor": "white",
            "linecolor": "white",
            "ticks": ""
           },
           "bgcolor": "#E5ECF6",
           "caxis": {
            "gridcolor": "white",
            "linecolor": "white",
            "ticks": ""
           }
          },
          "title": {
           "x": 0.05
          },
          "xaxis": {
           "automargin": true,
           "gridcolor": "white",
           "linecolor": "white",
           "ticks": "",
           "title": {
            "standoff": 15
           },
           "zerolinecolor": "white",
           "zerolinewidth": 2
          },
          "yaxis": {
           "automargin": true,
           "gridcolor": "white",
           "linecolor": "white",
           "ticks": "",
           "title": {
            "standoff": 15
           },
           "zerolinecolor": "white",
           "zerolinewidth": 2
          }
         }
        },
        "title": {
         "text": "Parallel Coordinate Plot"
        }
       }
      }
     },
     "metadata": {},
     "output_type": "display_data"
    }
   ],
   "source": [
    "plot_parallel_coordinate(study2)"
   ]
  },
  {
   "cell_type": "code",
   "execution_count": 25,
   "metadata": {},
   "outputs": [
    {
     "data": {
      "application/vnd.plotly.v1+json": {
       "config": {
        "plotlyServerURL": "https://plot.ly"
       },
       "data": [
        {
         "cliponaxis": false,
         "hovertemplate": [
          "reg_alpha (FloatDistribution): 0.005287563093622456<extra></extra>",
          "min_child_weight (IntDistribution): 0.007456602378136588<extra></extra>",
          "reg_lambda (FloatDistribution): 0.022487583217100517<extra></extra>",
          "max_depth (IntDistribution): 0.024514359592914977<extra></extra>",
          "max_leaves (IntDistribution): 0.037369164089606825<extra></extra>",
          "learning_rate (FloatDistribution): 0.12896260576322327<extra></extra>",
          "n_estimators (IntDistribution): 0.20426986950201523<extra></extra>",
          "min_frequency (IntDistribution): 0.5696522523633802<extra></extra>"
         ],
         "name": "Objective Value",
         "orientation": "h",
         "text": [
          "<0.01",
          "<0.01",
          "0.02",
          "0.02",
          "0.04",
          "0.13",
          "0.20",
          "0.57"
         ],
         "textposition": "outside",
         "type": "bar",
         "x": [
          0.005287563093622456,
          0.007456602378136588,
          0.022487583217100517,
          0.024514359592914977,
          0.037369164089606825,
          0.12896260576322327,
          0.20426986950201523,
          0.5696522523633802
         ],
         "y": [
          "reg_alpha",
          "min_child_weight",
          "reg_lambda",
          "max_depth",
          "max_leaves",
          "learning_rate",
          "n_estimators",
          "min_frequency"
         ]
        }
       ],
       "layout": {
        "template": {
         "data": {
          "bar": [
           {
            "error_x": {
             "color": "#2a3f5f"
            },
            "error_y": {
             "color": "#2a3f5f"
            },
            "marker": {
             "line": {
              "color": "#E5ECF6",
              "width": 0.5
             },
             "pattern": {
              "fillmode": "overlay",
              "size": 10,
              "solidity": 0.2
             }
            },
            "type": "bar"
           }
          ],
          "barpolar": [
           {
            "marker": {
             "line": {
              "color": "#E5ECF6",
              "width": 0.5
             },
             "pattern": {
              "fillmode": "overlay",
              "size": 10,
              "solidity": 0.2
             }
            },
            "type": "barpolar"
           }
          ],
          "carpet": [
           {
            "aaxis": {
             "endlinecolor": "#2a3f5f",
             "gridcolor": "white",
             "linecolor": "white",
             "minorgridcolor": "white",
             "startlinecolor": "#2a3f5f"
            },
            "baxis": {
             "endlinecolor": "#2a3f5f",
             "gridcolor": "white",
             "linecolor": "white",
             "minorgridcolor": "white",
             "startlinecolor": "#2a3f5f"
            },
            "type": "carpet"
           }
          ],
          "choropleth": [
           {
            "colorbar": {
             "outlinewidth": 0,
             "ticks": ""
            },
            "type": "choropleth"
           }
          ],
          "contour": [
           {
            "colorbar": {
             "outlinewidth": 0,
             "ticks": ""
            },
            "colorscale": [
             [
              0,
              "#0d0887"
             ],
             [
              0.1111111111111111,
              "#46039f"
             ],
             [
              0.2222222222222222,
              "#7201a8"
             ],
             [
              0.3333333333333333,
              "#9c179e"
             ],
             [
              0.4444444444444444,
              "#bd3786"
             ],
             [
              0.5555555555555556,
              "#d8576b"
             ],
             [
              0.6666666666666666,
              "#ed7953"
             ],
             [
              0.7777777777777778,
              "#fb9f3a"
             ],
             [
              0.8888888888888888,
              "#fdca26"
             ],
             [
              1,
              "#f0f921"
             ]
            ],
            "type": "contour"
           }
          ],
          "contourcarpet": [
           {
            "colorbar": {
             "outlinewidth": 0,
             "ticks": ""
            },
            "type": "contourcarpet"
           }
          ],
          "heatmap": [
           {
            "colorbar": {
             "outlinewidth": 0,
             "ticks": ""
            },
            "colorscale": [
             [
              0,
              "#0d0887"
             ],
             [
              0.1111111111111111,
              "#46039f"
             ],
             [
              0.2222222222222222,
              "#7201a8"
             ],
             [
              0.3333333333333333,
              "#9c179e"
             ],
             [
              0.4444444444444444,
              "#bd3786"
             ],
             [
              0.5555555555555556,
              "#d8576b"
             ],
             [
              0.6666666666666666,
              "#ed7953"
             ],
             [
              0.7777777777777778,
              "#fb9f3a"
             ],
             [
              0.8888888888888888,
              "#fdca26"
             ],
             [
              1,
              "#f0f921"
             ]
            ],
            "type": "heatmap"
           }
          ],
          "histogram": [
           {
            "marker": {
             "pattern": {
              "fillmode": "overlay",
              "size": 10,
              "solidity": 0.2
             }
            },
            "type": "histogram"
           }
          ],
          "histogram2d": [
           {
            "colorbar": {
             "outlinewidth": 0,
             "ticks": ""
            },
            "colorscale": [
             [
              0,
              "#0d0887"
             ],
             [
              0.1111111111111111,
              "#46039f"
             ],
             [
              0.2222222222222222,
              "#7201a8"
             ],
             [
              0.3333333333333333,
              "#9c179e"
             ],
             [
              0.4444444444444444,
              "#bd3786"
             ],
             [
              0.5555555555555556,
              "#d8576b"
             ],
             [
              0.6666666666666666,
              "#ed7953"
             ],
             [
              0.7777777777777778,
              "#fb9f3a"
             ],
             [
              0.8888888888888888,
              "#fdca26"
             ],
             [
              1,
              "#f0f921"
             ]
            ],
            "type": "histogram2d"
           }
          ],
          "histogram2dcontour": [
           {
            "colorbar": {
             "outlinewidth": 0,
             "ticks": ""
            },
            "colorscale": [
             [
              0,
              "#0d0887"
             ],
             [
              0.1111111111111111,
              "#46039f"
             ],
             [
              0.2222222222222222,
              "#7201a8"
             ],
             [
              0.3333333333333333,
              "#9c179e"
             ],
             [
              0.4444444444444444,
              "#bd3786"
             ],
             [
              0.5555555555555556,
              "#d8576b"
             ],
             [
              0.6666666666666666,
              "#ed7953"
             ],
             [
              0.7777777777777778,
              "#fb9f3a"
             ],
             [
              0.8888888888888888,
              "#fdca26"
             ],
             [
              1,
              "#f0f921"
             ]
            ],
            "type": "histogram2dcontour"
           }
          ],
          "mesh3d": [
           {
            "colorbar": {
             "outlinewidth": 0,
             "ticks": ""
            },
            "type": "mesh3d"
           }
          ],
          "parcoords": [
           {
            "line": {
             "colorbar": {
              "outlinewidth": 0,
              "ticks": ""
             }
            },
            "type": "parcoords"
           }
          ],
          "pie": [
           {
            "automargin": true,
            "type": "pie"
           }
          ],
          "scatter": [
           {
            "fillpattern": {
             "fillmode": "overlay",
             "size": 10,
             "solidity": 0.2
            },
            "type": "scatter"
           }
          ],
          "scatter3d": [
           {
            "line": {
             "colorbar": {
              "outlinewidth": 0,
              "ticks": ""
             }
            },
            "marker": {
             "colorbar": {
              "outlinewidth": 0,
              "ticks": ""
             }
            },
            "type": "scatter3d"
           }
          ],
          "scattercarpet": [
           {
            "marker": {
             "colorbar": {
              "outlinewidth": 0,
              "ticks": ""
             }
            },
            "type": "scattercarpet"
           }
          ],
          "scattergeo": [
           {
            "marker": {
             "colorbar": {
              "outlinewidth": 0,
              "ticks": ""
             }
            },
            "type": "scattergeo"
           }
          ],
          "scattergl": [
           {
            "marker": {
             "colorbar": {
              "outlinewidth": 0,
              "ticks": ""
             }
            },
            "type": "scattergl"
           }
          ],
          "scattermap": [
           {
            "marker": {
             "colorbar": {
              "outlinewidth": 0,
              "ticks": ""
             }
            },
            "type": "scattermap"
           }
          ],
          "scattermapbox": [
           {
            "marker": {
             "colorbar": {
              "outlinewidth": 0,
              "ticks": ""
             }
            },
            "type": "scattermapbox"
           }
          ],
          "scatterpolar": [
           {
            "marker": {
             "colorbar": {
              "outlinewidth": 0,
              "ticks": ""
             }
            },
            "type": "scatterpolar"
           }
          ],
          "scatterpolargl": [
           {
            "marker": {
             "colorbar": {
              "outlinewidth": 0,
              "ticks": ""
             }
            },
            "type": "scatterpolargl"
           }
          ],
          "scatterternary": [
           {
            "marker": {
             "colorbar": {
              "outlinewidth": 0,
              "ticks": ""
             }
            },
            "type": "scatterternary"
           }
          ],
          "surface": [
           {
            "colorbar": {
             "outlinewidth": 0,
             "ticks": ""
            },
            "colorscale": [
             [
              0,
              "#0d0887"
             ],
             [
              0.1111111111111111,
              "#46039f"
             ],
             [
              0.2222222222222222,
              "#7201a8"
             ],
             [
              0.3333333333333333,
              "#9c179e"
             ],
             [
              0.4444444444444444,
              "#bd3786"
             ],
             [
              0.5555555555555556,
              "#d8576b"
             ],
             [
              0.6666666666666666,
              "#ed7953"
             ],
             [
              0.7777777777777778,
              "#fb9f3a"
             ],
             [
              0.8888888888888888,
              "#fdca26"
             ],
             [
              1,
              "#f0f921"
             ]
            ],
            "type": "surface"
           }
          ],
          "table": [
           {
            "cells": {
             "fill": {
              "color": "#EBF0F8"
             },
             "line": {
              "color": "white"
             }
            },
            "header": {
             "fill": {
              "color": "#C8D4E3"
             },
             "line": {
              "color": "white"
             }
            },
            "type": "table"
           }
          ]
         },
         "layout": {
          "annotationdefaults": {
           "arrowcolor": "#2a3f5f",
           "arrowhead": 0,
           "arrowwidth": 1
          },
          "autotypenumbers": "strict",
          "coloraxis": {
           "colorbar": {
            "outlinewidth": 0,
            "ticks": ""
           }
          },
          "colorscale": {
           "diverging": [
            [
             0,
             "#8e0152"
            ],
            [
             0.1,
             "#c51b7d"
            ],
            [
             0.2,
             "#de77ae"
            ],
            [
             0.3,
             "#f1b6da"
            ],
            [
             0.4,
             "#fde0ef"
            ],
            [
             0.5,
             "#f7f7f7"
            ],
            [
             0.6,
             "#e6f5d0"
            ],
            [
             0.7,
             "#b8e186"
            ],
            [
             0.8,
             "#7fbc41"
            ],
            [
             0.9,
             "#4d9221"
            ],
            [
             1,
             "#276419"
            ]
           ],
           "sequential": [
            [
             0,
             "#0d0887"
            ],
            [
             0.1111111111111111,
             "#46039f"
            ],
            [
             0.2222222222222222,
             "#7201a8"
            ],
            [
             0.3333333333333333,
             "#9c179e"
            ],
            [
             0.4444444444444444,
             "#bd3786"
            ],
            [
             0.5555555555555556,
             "#d8576b"
            ],
            [
             0.6666666666666666,
             "#ed7953"
            ],
            [
             0.7777777777777778,
             "#fb9f3a"
            ],
            [
             0.8888888888888888,
             "#fdca26"
            ],
            [
             1,
             "#f0f921"
            ]
           ],
           "sequentialminus": [
            [
             0,
             "#0d0887"
            ],
            [
             0.1111111111111111,
             "#46039f"
            ],
            [
             0.2222222222222222,
             "#7201a8"
            ],
            [
             0.3333333333333333,
             "#9c179e"
            ],
            [
             0.4444444444444444,
             "#bd3786"
            ],
            [
             0.5555555555555556,
             "#d8576b"
            ],
            [
             0.6666666666666666,
             "#ed7953"
            ],
            [
             0.7777777777777778,
             "#fb9f3a"
            ],
            [
             0.8888888888888888,
             "#fdca26"
            ],
            [
             1,
             "#f0f921"
            ]
           ]
          },
          "colorway": [
           "#636efa",
           "#EF553B",
           "#00cc96",
           "#ab63fa",
           "#FFA15A",
           "#19d3f3",
           "#FF6692",
           "#B6E880",
           "#FF97FF",
           "#FECB52"
          ],
          "font": {
           "color": "#2a3f5f"
          },
          "geo": {
           "bgcolor": "white",
           "lakecolor": "white",
           "landcolor": "#E5ECF6",
           "showlakes": true,
           "showland": true,
           "subunitcolor": "white"
          },
          "hoverlabel": {
           "align": "left"
          },
          "hovermode": "closest",
          "mapbox": {
           "style": "light"
          },
          "paper_bgcolor": "white",
          "plot_bgcolor": "#E5ECF6",
          "polar": {
           "angularaxis": {
            "gridcolor": "white",
            "linecolor": "white",
            "ticks": ""
           },
           "bgcolor": "#E5ECF6",
           "radialaxis": {
            "gridcolor": "white",
            "linecolor": "white",
            "ticks": ""
           }
          },
          "scene": {
           "xaxis": {
            "backgroundcolor": "#E5ECF6",
            "gridcolor": "white",
            "gridwidth": 2,
            "linecolor": "white",
            "showbackground": true,
            "ticks": "",
            "zerolinecolor": "white"
           },
           "yaxis": {
            "backgroundcolor": "#E5ECF6",
            "gridcolor": "white",
            "gridwidth": 2,
            "linecolor": "white",
            "showbackground": true,
            "ticks": "",
            "zerolinecolor": "white"
           },
           "zaxis": {
            "backgroundcolor": "#E5ECF6",
            "gridcolor": "white",
            "gridwidth": 2,
            "linecolor": "white",
            "showbackground": true,
            "ticks": "",
            "zerolinecolor": "white"
           }
          },
          "shapedefaults": {
           "line": {
            "color": "#2a3f5f"
           }
          },
          "ternary": {
           "aaxis": {
            "gridcolor": "white",
            "linecolor": "white",
            "ticks": ""
           },
           "baxis": {
            "gridcolor": "white",
            "linecolor": "white",
            "ticks": ""
           },
           "bgcolor": "#E5ECF6",
           "caxis": {
            "gridcolor": "white",
            "linecolor": "white",
            "ticks": ""
           }
          },
          "title": {
           "x": 0.05
          },
          "xaxis": {
           "automargin": true,
           "gridcolor": "white",
           "linecolor": "white",
           "ticks": "",
           "title": {
            "standoff": 15
           },
           "zerolinecolor": "white",
           "zerolinewidth": 2
          },
          "yaxis": {
           "automargin": true,
           "gridcolor": "white",
           "linecolor": "white",
           "ticks": "",
           "title": {
            "standoff": 15
           },
           "zerolinecolor": "white",
           "zerolinewidth": 2
          }
         }
        },
        "title": {
         "text": "Hyperparameter Importances"
        },
        "xaxis": {
         "title": {
          "text": "Hyperparameter Importance"
         }
        },
        "yaxis": {
         "title": {
          "text": "Hyperparameter"
         }
        }
       }
      }
     },
     "metadata": {},
     "output_type": "display_data"
    }
   ],
   "source": [
    "plot_param_importances(study2)"
   ]
  },
  {
   "cell_type": "markdown",
   "metadata": {},
   "source": [
    "1) A partir del trial 15 el gráfico de historial muestra cambios.\n",
    "2) Complementando con el gráfico de importancia. El valor más importante de frecuencia mínima tiene una gran cantidad de trials entre los valores discretos 7 y 8 (óptimo) lo que da a entender que esto es tempranamente identificado, estos dos valores están asociados a altos valores de n de estimadores, cercanos al óptimo. Al comparar learning rate con objective value, se observa que aquellos trials posteriores están asociados a variados valores de learning rate, indicando que el óptimo no fue encontrado hasta trials finales\n",
    "3) Los paramtros con más importancia son, en este orden: frecuencia mínima, taza de aprendizaje y número de estimadores.\n"
   ]
  },
  {
   "cell_type": "markdown",
   "metadata": {
    "cell_id": "ac8a20f445d045a3becf1a518d410a7d",
    "deepnote_cell_type": "markdown",
    "id": "EoW32TA9I5wA"
   },
   "source": [
    "## 6. Síntesis de resultados (3 puntos)\n",
    "\n",
    "Finalmente:\n",
    "\n",
    "1. Genere una tabla resumen del MAE en el conjunto de validación obtenido en los 5 modelos entrenados desde Baseline hasta XGBoost con Constraints, Optuna y Prunning. [1 punto]\n",
    "2. Compare los resultados de la tabla y responda, ¿qué modelo obtiene el mejor rendimiento? [0.5 puntos]\n",
    "3. Cargue el mejor modelo, prediga sobre el conjunto de **test** y reporte su MAE. [0.5 puntos]\n",
    "4. ¿Existen diferencias con respecto a las métricas obtenidas en el conjunto de validación? ¿Porqué puede ocurrir esto? [1 punto]"
   ]
  },
  {
   "cell_type": "code",
   "execution_count": 26,
   "metadata": {
    "id": "jq5C6cDnJg9h"
   },
   "outputs": [
    {
     "data": {
      "application/vnd.microsoft.datawrangler.viewer.v0+json": {
       "columns": [
        {
         "name": "index",
         "rawType": "object",
         "type": "string"
        },
        {
         "name": "MAE",
         "rawType": "float64",
         "type": "float"
        }
       ],
       "ref": "9e40b110-5974-46cd-a6c5-f6e169cb3cce",
       "rows": [
        [
         "Baseline",
         "13298.497767341096"
        ],
        [
         "XGB",
         "2411.862813764095"
        ],
        [
         "XGB constrains",
         "2502.691191091864"
        ],
        [
         "XGB optuna",
         "1996.1556574145393"
        ],
        [
         "XGB prunning",
         "2001.9508023073336"
        ]
       ],
       "shape": {
        "columns": 1,
        "rows": 5
       }
      },
      "text/html": [
       "<div>\n",
       "<style scoped>\n",
       "    .dataframe tbody tr th:only-of-type {\n",
       "        vertical-align: middle;\n",
       "    }\n",
       "\n",
       "    .dataframe tbody tr th {\n",
       "        vertical-align: top;\n",
       "    }\n",
       "\n",
       "    .dataframe thead th {\n",
       "        text-align: right;\n",
       "    }\n",
       "</style>\n",
       "<table border=\"1\" class=\"dataframe\">\n",
       "  <thead>\n",
       "    <tr style=\"text-align: right;\">\n",
       "      <th></th>\n",
       "      <th>MAE</th>\n",
       "    </tr>\n",
       "  </thead>\n",
       "  <tbody>\n",
       "    <tr>\n",
       "      <th>Baseline</th>\n",
       "      <td>13298.497767</td>\n",
       "    </tr>\n",
       "    <tr>\n",
       "      <th>XGB</th>\n",
       "      <td>2411.862814</td>\n",
       "    </tr>\n",
       "    <tr>\n",
       "      <th>XGB constrains</th>\n",
       "      <td>2502.691191</td>\n",
       "    </tr>\n",
       "    <tr>\n",
       "      <th>XGB optuna</th>\n",
       "      <td>1996.155657</td>\n",
       "    </tr>\n",
       "    <tr>\n",
       "      <th>XGB prunning</th>\n",
       "      <td>2001.950802</td>\n",
       "    </tr>\n",
       "  </tbody>\n",
       "</table>\n",
       "</div>"
      ],
      "text/plain": [
       "                         MAE\n",
       "Baseline        13298.497767\n",
       "XGB              2411.862814\n",
       "XGB constrains   2502.691191\n",
       "XGB optuna       1996.155657\n",
       "XGB prunning     2001.950802"
      ]
     },
     "execution_count": 26,
     "metadata": {},
     "output_type": "execute_result"
    }
   ],
   "source": [
    "# Inserte su código acá\n",
    "mae_tablacomparacion = pd.DataFrame([mae_bl, mae, mae_monotone, mae_opt , study2.best_value], index=[\"Baseline\",\"XGB\",\"XGB constrains\", \"XGB optuna\", \"XGB prunning\"], columns=[\"MAE\"])\n",
    "mae_tablacomparacion"
   ]
  },
  {
   "cell_type": "markdown",
   "metadata": {},
   "source": [
    "El mejor rendimiento se ontiene ocupando XGBoost y optuna, obteniendo un valor de 1996"
   ]
  },
  {
   "cell_type": "code",
   "execution_count": 28,
   "metadata": {},
   "outputs": [
    {
     "name": "stdout",
     "output_type": "stream",
     "text": [
      "MAE en conjunto de prueba es 2041.7596229369135\n"
     ]
    }
   ],
   "source": [
    "# Evaluación del modelo\n",
    "optuna_model = joblib.load(\"best_xgb_model.pkl\")\n",
    "\n",
    "y_test_pred = optuna_model.predict(X_test)\n",
    "mae_test = mean_absolute_error(y_test, y_test_pred)\n",
    "print(f\"MAE en conjunto de prueba es {mae_test}\")"
   ]
  },
  {
   "cell_type": "markdown",
   "metadata": {},
   "source": [
    "El modelo en el conjunto de test tiene un MAE ligeramente mayor de 2041, cosa esperable ya que la optimización de hiperparametros ocupa el set de validación, luego el modelo puede estar sesgado ante caracteristicas de el y funcionar peor en datos completamente nuevos."
   ]
  },
  {
   "cell_type": "markdown",
   "metadata": {
    "cell_id": "5c4654d12037494fbd385b4dc6bd1059",
    "deepnote_cell_type": "markdown",
    "id": "E_19tgBEI5wA"
   },
   "source": [
    "# Conclusión\n",
    "Exito!\n",
    "<p align=\"center\">\n",
    "  <img src=\"https://i.pinimg.com/originals/55/3d/42/553d42bea9b10e0662a05aa8726fc7f4.gif\">\n",
    "</p>"
   ]
  }
 ],
 "metadata": {
  "colab": {
   "provenance": []
  },
  "deepnote": {},
  "deepnote_execution_queue": [],
  "deepnote_notebook_id": "f63d38450a6b464c9bb6385cf11db4d9",
  "deepnote_persisted_session": {
   "createdAt": "2023-11-09T16:18:30.203Z"
  },
  "kernelspec": {
   "display_name": "Python 3",
   "language": "python",
   "name": "python3"
  },
  "language_info": {
   "codemirror_mode": {
    "name": "ipython",
    "version": 3
   },
   "file_extension": ".py",
   "mimetype": "text/x-python",
   "name": "python",
   "nbconvert_exporter": "python",
   "pygments_lexer": "ipython3",
   "version": "3.11.5"
  }
 },
 "nbformat": 4,
 "nbformat_minor": 4
}
