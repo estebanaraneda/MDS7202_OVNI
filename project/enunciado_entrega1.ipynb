{
 "cells": [
  {
   "cell_type": "markdown",
   "metadata": {
    "editable": true,
    "slideshow": {
     "slide_type": ""
    },
    "tags": []
   },
   "source": [
    "![](https://www.dii.uchile.cl/wp-content/uploads/2021/06/Magi%CC%81ster-en-Ciencia-de-Datos.png)"
   ]
  },
  {
   "cell_type": "markdown",
   "metadata": {},
   "source": [
    "**MDS7202: Laboratorio de Programación Científica para Ciencia de Datos**\n",
    "\n",
    "### 👨‍🏫👩‍🏫 Cuerpo Docente:\n",
    "\n",
    "- Profesores: Diego Cortez, Gabriel Iturra\n",
    "- Auxiliares: Melanie Peña, Valentina Rojas\n",
    "- Ayudantes: Nicolás Cabello, Cristopher Urbina\n",
    "\n",
    "### 👨‍💻👩‍💻 Estudiantes:\n",
    "- Estudiante n°1: Esteban Araneda\n",
    "- Estudiante n°2: ignacio Reyes\n",
    "\n",
    "_Por favor, lean detalladamente las instrucciones de la tarea antes de empezar a escribir._\n",
    "\n",
    "---"
   ]
  },
  {
   "cell_type": "markdown",
   "metadata": {},
   "source": [
    "---\n",
    "\n",
    "## 📖 Enunciado "
   ]
  },
  {
   "cell_type": "markdown",
   "metadata": {},
   "source": [
    "<div align=\"center\">\n",
    "    <img src='https://github.com/MDS7202/MDS7202/blob/main/recursos/2025-01/proyecto/proyecto.png?raw=true' style=\"border-radius: 12px\"> \n",
    "</div>"
   ]
  },
  {
   "cell_type": "markdown",
   "metadata": {
    "editable": true,
    "slideshow": {
     "slide_type": ""
    },
    "tags": []
   },
   "source": [
    "En el competitivo universo de las bebidas gaseosas, la empresa **SodAI Drinks 🥤** ha logrado destacarse por su creatividad, diversidad de productos y enfoque centrado en el cliente. Ofrece una extensa gama de bebidas carbonatadas que abarca distintos segmentos del mercado: desde productos premium en presentaciones sofisticadas, hasta gaseosas accesibles para el consumo masivo, disponibles en diversos tamaños y tipos de envases. \n",
    "\n",
    "La compañía opera en múltiples regiones y zonas, sirviendo a una variedad de puntos de venta que incluyen desde tiendas de conveniencia y minimarkets hasta el canal frío tradicional. Cada tipo de cliente tiene sus particularidades: algunos reciben entregas hasta 4 veces por semana, mientras que otros son visitados por la fuerza de ventas solo una vez semanalmente. Esta diversidad de perfiles representa tanto una oportunidad como un desafío comercial: ¿cómo saber qué productos tienen más chances de ser comprados por cada cliente en un momento dado?\n",
    "\n",
    "Con el objetivo de aumentar la facturación de forma inteligente y mejorar la eficiencia de su estrategia de ventas, **SodAI Drinks** decide crear una nueva célula interna de innovación: el equipo **Deep Drinkers 🤖**, cuyo propósito es aplicar ciencia de datos para anticiparse a las necesidades del cliente y potenciar el negocio desde una perspectiva basada en información.\n",
    "\n",
    "El corazón de esta iniciativa es el desarrollo de un sistema predictivo personalizado para cada cliente. Para ello, **Deep Drinkers** convoca a un equipo de Data Scientists y especialistas en *machine learning* con una misión clara: construir un modelo predictivo que, cada semana, pueda estimar la probabilidad de compra de cada producto del portafolio para cada cliente activo.\n",
    "\n",
    "El modelo deberá tener en cuenta múltiples factores, incluyendo:\n",
    "- **Tipo de cliente**, ej. \"TIENDA DE CONVENIENCIA\", \"MINIMARKET\".\n",
    "- **Frecuencia de entregas y visitas**, indicadores del nivel de actividad comercial.\n",
    "- **Ubicación geográfica** (por región y zona).\n",
    "- **Preferencias históricas de consumo**, inferidas por patrones de compra anteriores.\n",
    "- **Características del producto**, como marca, categoría, segmento, tipo de envase y tamaño\n",
    "\n",
    "El objetivo final es que, **cada semana**, se genere una tabla de productos priorizados: para cada cliente, un listado de productos ordenado por su probabilidad estimada de compra. Esta información será enviada al equipo comercial, que podrá usarla en call center, para incrementar las chances de concretar ventas al ofrecer justo lo que el cliente probablemente quiere comprar.\n",
    "\n",
    "Este proyecto representa un cambio de paradigma en la forma en que **SodAI Drinks** gestiona su fuerza de ventas: de un enfoque reactivo y generalista, a uno proactivo, basado en datos y profundamente personalizado. Así, la empresa no solo espera aumentar su rentabilidad, sino también construir relaciones más sólidas con sus clientes, ofreciéndoles recomendaciones más relevantes y oportunas.\n",
    "\n",
    "Para lograr lo anterior, el equipo **Deep Drinkers** contará con los siguientes conjuntos de datos, junto a sus respectivos atributos:\n",
    "\n",
    "- **Datos transaccionales** (`transacciones.parquet`): contiene el historial de compras realizadas por los clientes.\n",
    "\t- `customer_id`: identificador único del cliente que realizó la compra.\n",
    "\t- `product_id`: identificador único del producto comprado.\n",
    "\t- `purchase_date`: fecha en que se realizó la transacción.\n",
    "\t- `order_id`: identificar de la orden de su pedido.\n",
    "\t- `payment`\tmonto total pagado por la transacción.\n",
    "\n",
    "- **Datos de clientes** (`clientes.parquet`): incluye las características de cada cliente.\n",
    "\t- `customer_id`: identificador único del cliente.\n",
    "\t- `region_id`: identificador de la región geográfica donde se encuentra el cliente.\n",
    "\t- `customer_type`: tipo de cliente según el canal comercial, por ejemplo, “TIENDA DE CONVENIENCIA”.\n",
    "\t- `Y`: coordenada geográfica de latitud.\n",
    "\t- `X`: coordenada geográfica de longitud.\n",
    "\t- `num_deliver_per_week`: cantidad de entregas semanales que recibe el cliente.\n",
    "\t- `num_visit_per_week`: frecuencia de visitas de la fuerza de ventas por semana.\n",
    "\n",
    "- **Datos de productos** (`productos.parquet`): describe las características de los productos del portafolio.\n",
    "\t- `product_id`: identificador único del producto.\n",
    "\t- `brand`: marca comercial del producto.\n",
    "\t- `category`: categoría general del producto, como “BEBIDAS CARBONATADAS”.\n",
    "\t- `sub_category`: subcategoría dentro de la categoría principal, por ejemplo, “GASEOSAS”.\n",
    "\t- `segment`: segmento de mercado al que pertenece el producto, como “PREMIUM”.\n",
    "\t- `package`: tipo de envase del producto.\n",
    "\t- `size`: tamaño del producto en litros."
   ]
  },
  {
   "cell_type": "markdown",
   "metadata": {},
   "source": [
    "## 📚 Reglas"
   ]
  },
  {
   "cell_type": "markdown",
   "metadata": {},
   "source": [
    "<center>\n",
    "<img src=\"https://media1.tenor.com/m/0Qtv_cQ4ITsAAAAd/necohaus-grey-name.gif\" width=\"450\">"
   ]
  },
  {
   "cell_type": "markdown",
   "metadata": {},
   "source": [
    "\n",
    "\n",
    "El proyecto consta de **dos entregas parciales** y una **entrega final** en donde la primera entrega la idea es poder reflejar lo aprendido durante la primera mitad del curso, que será sobre los contenidos relacionados a *machine learning*, la segunda será sobre los contenidos de la segunda mitad del curso relacionados a *MLOps* y por último la entrega final constará de dos partes, donde la primera será relacionada con experimentación sobre nuevos datasets que serán disponibilizados durante las últimas semanas del curso de manera incremental y una segunda parte que será el informe final escrito que deberá explicar el desarrollo del proyecto completo, como tambien los resultados y análisis de los experimentos realizados sobre los datasets incrementales. La idea es que todo el código esté desarrollado durante las primeras dos entregas y luego en la entrega final sólo se ejecute el código sobre nuevos conjuntos de datos.\n",
    "\n",
    "La idea de generar el proyecto por etapas es poder aliviar la carga de trabajo en las últimas semanas del semestre donde sabemos que están muy cargado con entregas, pruebas y exámenes de otros ramos, y así garantizamos que habiendo la desarrollado las dos primeras entregas parciales, tendrán el grueso del proyecto listo para luego experimentar y documentar.\n",
    "\n",
    "---\n",
    "### **Fechas de entrega**\n",
    "- **Entrega parcial 1**: 12 de Septiembre\n",
    "- **Entrega parcial 2**: Por definir\n",
    "- **Entrega final**: Por definir\n",
    "\n",
    "---\n",
    "\n",
    "### **Requisitos del proyecto**\n",
    "- **Grupos**: Formar equipos de **2 personas**. No se aceptarán trabajos individuales o grupos con más integrantes.\n",
    "- **Consultas**: Cualquier duda fuera del horario de clases debe ser planteada en el foro correspondiente. Los mensajes enviados al equipo docente serán respondidos únicamente por este medio. Por favor, revisen las respuestas anteriores en el foro antes de realizar nuevas consultas.\n",
    "- **Plagio**: La copia o reutilización no autorizada de trabajos de otros grupos está **estrictamente prohibida**. El incumplimiento de esta norma implicará la anulación inmediata del proyecto y una posible sanción académica.\n",
    "- **Material permitido**: Pueden usar cualquier material del curso, ya sea notas, lecturas, códigos, o referencias proporcionadas por los docentes, que consideren útil para el desarrollo del proyecto.\n",
    "\n",
    "---\n",
    "\n",
    "### **Entregables y etapas**\n",
    "\n",
    "#### **1. Entrega Parcial 1**  \n",
    "- Dispondrán de los archivos de datos **productos.parquet**, **clientes.parquet** y **transacciones.parquet** para el modelamiento inicial.  \n",
    "- Utilizarán estos archivos para desarrollar lo solicitado para la entrega 1. \n",
    "- En esta etapa, se espera que apliquen todos los conocimientos aprendidos durante la primera parte del curso relacionados con *machine learning*.\n",
    "- **Informe**: No se exige un avance del informe en esta etapa, sólo un notebook con su desarrollo actual, pero se **recomienda comenzar** a redactar el informe final en paralelo para disminuir la carga académica en las etapas posteriores.  \n",
    "\n",
    "#### **2. Entrega Parcial 2**  \n",
    "- En esta entrega, deberán aplicar los conocimientos aprendidos durante la segunda mitad del curso sobre *MLOps*  \n",
    "- Se espera que implementen estos conocimientos para desplegar su modelo elegido en la primera entrega y crear *pipelines* automatizados que simulen un entorno productivo.\n",
    "- **Informe**: similar a la primera etapa, no se exige un avance del informe, pero se **recomienda avanzar con su redacción** para evitar una acumulación de trabajo en la etapa final.  \n",
    "\n",
    "#### **3. Entrega Final**  \n",
    "- En la entrega final, deberán realizar dos etapas:\n",
    "\t- La primera etapa es sobre experimentación utilizando datasets incrementales que se irán disponibilizando de manera parcial, para que vayan generando predicciones con su modelo ya desplegado. El objetivo de esta etapa es poder testear su solución *end-to-end* y que vayan analizando los resultados obtenidos a medida que se van agregando más datos.\n",
    "\t- La segunda etapa consiste en redactar un informe final que deberá explicar el desarrollo completo de tu proyecto y un análisis profundo de sus resultados de experimentación. Este informe debera incluir a lo menos las siguientes secciones:\n",
    "\t\t- Análisis exploratorio de datos  \n",
    "\t\t- Metodología aplicada  \n",
    "\t\t- Selección y entrenamiento de modelos  \n",
    "\t\t- Evaluación de resultados  \n",
    "\t\t- Optimización de modelos\n",
    "\t\t- Interpretabilidad\n",
    "\t\t- Re-entrenamiento\n",
    "\t\t- Tracking con MLFlow\n",
    "\t\t- Creación de la aplicación web con Gradio y FastAPI\n",
    "\n",
    "Es **altamente recomendable** ir redactando el informe en paralelo al desarrollo de los modelos para garantizar que toda la información relevante quede documentada adecuadamente.  \n",
    "\n",
    "### Nota Final\n",
    "\n",
    "La calificación final de su proyecto se calculará utilizando la siguiente ponderación: \n",
    "\n",
    "$$Nota Final = 0.30 * EntregaParcial1 + 0.40 * EntregaParcial2 + 0.30 * EntregaFinal$$\n",
    "\n",
    "---\n",
    "\n",
    "### **Instrucciones importantes**\n",
    "\n",
    "1. **Formato del informe**:  \n",
    "   - El informe debe estar integrado dentro de un **Jupyter Notebook**. No es necesario subirlo a una plataforma externa, pero debe cumplir con los siguientes requisitos:  \n",
    "     - Estructura clara y ordenada.  \n",
    "     - Código acompañado de explicaciones detalladas.  \n",
    "     - Resultados presentados de forma visual y analítica.  \n",
    "\n",
    "2. **Descuento por informes deficientes**:  \n",
    "   - Cualquier sección del informe que no tenga una explicación adecuada o no respete el formato será penalizada con un descuento en la nota. Esto incluye código sin comentarios o análisis que no sean coherentes con los resultados presentados.\n",
    "   - Comentarios sin formatear de ChatGPT o herramientas similares serán penalizados (e.g: \"Inserta tu modelo acá\", etc.)"
   ]
  },
  {
   "cell_type": "markdown",
   "metadata": {},
   "source": [
    "# 📬 Entrega Parcial 1 (30% del Proyecto)"
   ]
  },
  {
   "cell_type": "markdown",
   "metadata": {},
   "source": [
    "### 📪 Fecha de Entrega: 12 de Septiembre"
   ]
  },
  {
   "cell_type": "markdown",
   "metadata": {},
   "source": [
    "## 📌 Abstract [0.25 puntos]\n",
    "\n",
    "<center>\n",
    "<img src=\"https://i.redd.it/h5ptnsyabqvd1.gif\" width=\"400\" height=\"300\">"
   ]
  },
  {
   "cell_type": "markdown",
   "metadata": {},
   "source": [
    "En esta sección, deben redactar un Abstract claro y conciso para su proyecto. El Abstract debe responder a las siguientes preguntas clave:\n",
    "\n",
    "- **Descripción del problema**: ¿Cuál es el objetivo del proyecto? ¿Qué se intenta predecir o analizar?\n",
    "- **Datos de entrada**: ¿Qué datos tienen disponibles? ¿Cuáles son sus principales características?\n",
    "- **Métrica de evaluación**: ¿Cómo medirán el desempeño de sus modelos? Expliquen por qué eligieron esta métrica basándose en el análisis exploratorio de los datos.\n",
    "- **Modelos y transformaciones**: ¿Qué modelos utilizarán y por qué? ¿Qué transformaciones o preprocesamientos aplicaron a los datos?\n",
    "- **Resultados generales**: ¿El modelo final cumplió con los objetivos del proyecto? ¿Cuáles fueron las conclusiones más importantes?\n",
    "\n",
    "**Importante**: Escriban esto despues de haber resuelto el resto de la tarea."
   ]
  },
  {
   "cell_type": "markdown",
   "metadata": {
    "editable": true,
    "slideshow": {
     "slide_type": ""
    },
    "tags": []
   },
   "source": [
    "> [Escriba aquí su Abstract]\n",
    "## Abstract \n",
    "En este trabajo se ocuparan tecnicas de machine learning para construir un modelo predictivo que permita a la compañia SoftAi Drinks tomar un enfoque proactivo frente a las  preferencias de cada cliente y conocer la demanda de sus productos. Para ello se analizará las caracteristicas historicas de cada cliente y de producto. Se dispone de bases de datos que recopilan la informacipon de cada producto, cliente e historial de transacciones. Los productos corresponden princpalmente a bebidas carbonatadas del tipo gaseosas, en envase de botella o lata, enfocadas a un segmento medio, de tamaños 0.1 y 1 litros. Generalmente, los clientes corresponden a tiendas de abarrote y mayoristas, que piden principalmente 3 o 4 pedidos por semana. Las transacciones son principalmente de pagos entre 0 y 5  durante el periodo 2024.\n",
    "Para evaluar desempeño ocuparemos la comparación de métricas de desempeño, con foco en Accuracy, sobre conjuntos de validación y test, contrastado con un modelo baseline (Logistic Regression).\n",
    "En este trabajo se ocuparán modelos de Random Forest y XGboost \n",
    "# llenar modelo y resultado\n",
    "\n"
   ]
  },
  {
   "cell_type": "markdown",
   "metadata": {},
   "source": [
    "## 📌 Pre-procesamiento [0.5 puntos]\n",
    "\n",
    "<center>\n",
    "<img src=\"https://media0.giphy.com/media/10zsjaH4g0GgmY/giphy.gif?cid=6c09b9523xtlunksc9amikw09zk1bmiqwjqnt70ae82rk877&ep=v1_gifs_search&rid=giphy.gif&ct=g\" width=\"400\" height=\"300\">"
   ]
  },
  {
   "cell_type": "markdown",
   "metadata": {},
   "source": [
    "Tal como en muchos otros problemas de negocio, los datos probablemente deben ser pre procesados antes de aplicar cualquier técnica de analítica. Bajo esa premisa, en esta sección deben desarrollar código que les permita **preparar los datos** de tal forma que les permita resolver el problema planteado. Para esto, pueden aplicar procesamientos como:\n",
    "\n",
    "- Transformaciones de tipo de dato (str, int, etc)\n",
    "- Cruce de información\n",
    "- Eliminación de duplicados\n",
    "- Filtros de fila y/o columnas\n",
    "\n",
    "*Hint: ¿Qué forma debería tener la data para resolver un problema de aprendizaje supervisado?*\n",
    "\n",
    "Todo proceso llevado a cabo debe estar bien documentado y justificado en el informe, explicando el por qué se decidió realizar en funcion de los datos presentados y los objetivos planteados del proyecto."
   ]
  },
  {
   "cell_type": "code",
   "execution_count": null,
   "metadata": {},
   "outputs": [],
   "source": [
    "# Desarrolle aquí su código"
   ]
  },
  {
   "cell_type": "markdown",
   "metadata": {},
   "source": [
    "Como el resultado final del modelo espera obtener la probabilidad de compra de cada productor para cada cliente en una semana determinada, lo primero que se debe hacer es juntar la información de los tres archivos entregados en un solo DataFrame \n",
    "mediante los identificadores `customer_id` y `product_id`. Luego se deben agregar los datos de manera semanal, de manera de obtener variable cuantas veces un cliente compró un producto especifico en una semana determinada."
   ]
  },
  {
   "cell_type": "code",
   "execution_count": null,
   "metadata": {},
   "outputs": [],
   "source": [
    "# Librerías requeridas\n",
    "import pandas as pd\n",
    "import numpy as np\n",
    "import matplotlib.pyplot as plt"
   ]
  },
  {
   "cell_type": "code",
   "execution_count": null,
   "metadata": {},
   "outputs": [],
   "source": [
    "# Carga de datos\n",
    "clients = pd.read_parquet('data/clientes.parquet')\n",
    "transactions = pd.read_parquet('data/transacciones.parquet')\n",
    "products = pd.read_parquet('data/productos.parquet')"
   ]
  },
  {
   "cell_type": "code",
   "execution_count": null,
   "metadata": {},
   "outputs": [],
   "source": [
    "def expected_unexpected_cols(expected, actual, df_name=\"DataFrame\"):\n",
    "\n",
    "    \"\"\"\n",
    "    Función para comparar columnas esperadas y actuales en un DataFrame.\n",
    "    Imprime las columnas que faltan y las que son inesperadas.\n",
    "    Parámetros:\n",
    "    - expected: lista de columnas esperadas\n",
    "    - actual: lista de columnas actuales\n",
    "    \"\"\"\n",
    "\n",
    "    # Convertir listas a sets para facilitar la comparación\n",
    "    expected_set = set(expected)\n",
    "    actual_set = set(actual)\n",
    "    \n",
    "    # Encontrar columnas faltantes e inesperadas\n",
    "    missing_cols = expected_set - actual_set\n",
    "    unexpected_cols = actual_set - expected_set\n",
    "\n",
    "    # Imprimir resultados\n",
    "    if missing_cols:\n",
    "        print(f\"Columnas faltantes en {df_name}: {missing_cols}\")\n",
    "    else:\n",
    "        print(f\"No hay columnas faltantes en {df_name}.\")\n",
    "\n",
    "    if unexpected_cols:\n",
    "        print(f\"Columnas inesperadas en {df_name}: {unexpected_cols}\")\n",
    "    else:\n",
    "        print(f\"No hay columnas inesperadas en {df_name}.\")\n",
    "\n",
    "    print()  # Línea en blanco para mejor legibilidad\n"
   ]
  },
  {
   "cell_type": "code",
   "execution_count": null,
   "metadata": {},
   "outputs": [],
   "source": [
    "# Check de variables \n",
    "transactions_expected_cols = ['customer_id', 'product_id', 'order_id', 'purchase_date', 'payment']\n",
    "clients_expected_cols = ['customer_id', 'region_id', 'customer_type', 'Y', 'X', 'num_deliver_per_week', 'num_visit_per_week']\n",
    "products_expected_cols = ['product_id', 'brand', 'category', 'sub_category', 'segment', 'package', 'size']\n",
    "\n",
    "clients_actual_cols = clients.columns.tolist()\n",
    "transactions_actual_cols = transactions.columns.tolist()\n",
    "products_actual_cols = products.columns.tolist()\n",
    "\n",
    "expected_unexpected_cols(clients_expected_cols, clients_actual_cols, df_name=\"clients\")\n",
    "expected_unexpected_cols(transactions_expected_cols, transactions_actual_cols, df_name=\"transactions\")\n",
    "expected_unexpected_cols(products_expected_cols, products_actual_cols, df_name=\"products\")\n",
    "\n",
    "# Rename de items a payment para calzar con enunciado\n",
    "transactions = transactions.rename(columns={'items': 'payment'})\n",
    "\n",
    "# Eliminamos columna zone_id de clients, ya que no se reporta en enunciado\n",
    "#clients = clients.drop(columns=['zone_id'])"
   ]
  },
  {
   "cell_type": "code",
   "execution_count": null,
   "metadata": {},
   "outputs": [],
   "source": [
    "# Check de duplicados\n",
    "print(f\"Duplicados en clients: {clients.duplicated().sum()}\")\n",
    "print(f\"Duplicados en transactions: {transactions.duplicated().sum()}\")\n",
    "print(f\"Duplicados en products: {products.duplicated().sum()}\")\n",
    "\n",
    "# Eliminación de duplicados en transactions\n",
    "transactions = transactions.drop_duplicates(keep='first')"
   ]
  },
  {
   "cell_type": "code",
   "execution_count": null,
   "metadata": {},
   "outputs": [],
   "source": [
    "# Check de duplicados\n",
    "print(f\"Duplicados en clients: {clients.duplicated().sum()}\")\n",
    "print(f\"Duplicados en transactions: {transactions.duplicated().sum()}\")\n",
    "print(f\"Duplicados en products: {products.duplicated().sum()}\")"
   ]
  },
  {
   "cell_type": "code",
   "execution_count": null,
   "metadata": {},
   "outputs": [],
   "source": [
    "# Unión de dataframes\n",
    "main_df = transactions.merge(clients, on='customer_id', how='left').merge(products, on='product_id', how='left')"
   ]
  },
  {
   "cell_type": "code",
   "execution_count": null,
   "metadata": {},
   "outputs": [],
   "source": [
    "# Seteo de variables categóricas\n",
    "main_df['brand'] = main_df['brand'].astype('category')\n",
    "main_df['category'] = main_df['category'].astype('category')\n",
    "main_df['sub_category'] = main_df['sub_category'].astype('category')\n",
    "main_df['segment'] = main_df['segment'].astype('category')\n",
    "main_df['package'] = main_df['package'].astype('category')\n",
    "main_df[\"customer_type\"] = main_df[\"customer_type\"].astype('category')"
   ]
  },
  {
   "cell_type": "markdown",
   "metadata": {},
   "source": [
    "## 📌 EDA [0.5 puntos]\n",
    "\n",
    "<center>\n",
    "<img src=\"https://media3.giphy.com/media/v1.Y2lkPTc5MGI3NjExbHZ6aGdkd21tYTI3cW8zYWhyYW5wdGlyb2s3MmRzeTV0dzQ1NWlueiZlcD12MV9pbnRlcm5hbF9naWZfYnlfaWQmY3Q9Zw/3k1hJubTtOAKPKx4k3/giphy.gif\" width=\"400\" height=\"200\">"
   ]
  },
  {
   "cell_type": "markdown",
   "metadata": {},
   "source": [
    "En esta sección, se debe realizar un análisis exploratorio de los datos para comprender su estructura, detectar posibles problemas y obtener información relevante para el entrenamiento de los modelos. La idea es que puedan detectar **patrones en los datos** que les permitan resolver el problema con mayor facilidad.\n",
    "\n",
    "Se deben responder preguntas a partir de lo que puedan visualizar/obtener, por ejemplo:\n",
    "\n",
    "- Clientes y productos\n",
    "\n",
    "    - ¿Cuántos clientes únicos hay en el dataset?\n",
    "\n",
    "    - ¿Cuántos productos únicos se encuentran en los datos?\n",
    "\n",
    "- Periodo y frecuencia\n",
    "\n",
    "    - ¿De qué periodo es la información disponible?\n",
    "\n",
    "    - ¿Cuál es la frecuencia de los registros (diaria, semanal, mensual, etc.)?\n",
    "\n",
    "- Calidad de los datos\n",
    "\n",
    "    - ¿Existen valores nulos en el dataset? ¿Cuántos? ¿Cómo se pueden tratar?\n",
    "\n",
    "    - ¿Hay datos raros, como cantidades negativas o inconsistencias? Genere tests de validación para identificar estos problemas.\n",
    "\n",
    "- Patrones de compra\n",
    "\n",
    "    - ¿Cuántos productos compra en promedio cada cliente semana a semana?\n",
    "\n",
    "    - ¿Cuántas transacciones ha realizado cada cliente?\n",
    "\n",
    "    - ¿Cuál es el periodo de recompra promedio de cada SKU?"
   ]
  },
  {
   "cell_type": "code",
   "execution_count": null,
   "metadata": {},
   "outputs": [],
   "source": [
    "# Desarrolle aquí su código"
   ]
  },
  {
   "cell_type": "markdown",
   "metadata": {},
   "source": [
    "###  Tratamiento general"
   ]
  },
  {
   "cell_type": "code",
   "execution_count": null,
   "metadata": {},
   "outputs": [],
   "source": [
    "# Revisión de nulos\n",
    "print(\"Nulos por columna:\")\n",
    "print(main_df.isnull().sum())"
   ]
  },
  {
   "cell_type": "markdown",
   "metadata": {},
   "source": [
    "No existen nulos en el dataset."
   ]
  },
  {
   "cell_type": "code",
   "execution_count": null,
   "metadata": {},
   "outputs": [],
   "source": [
    "# Separación de variables numéricas y categóricas\n",
    "numerical_columns = [col for col in main_df.columns if pd.api.types.is_numeric_dtype(main_df[col])]\n",
    "temporal_column = ['purchase_date']  # Columnas temporales que no se consideran numéricas\n",
    "categorical_columns = [col for col in main_df.columns if col not in numerical_columns + temporal_column] \n",
    "\n",
    "main_df_numerical = main_df[numerical_columns]\n",
    "temporal_variable = main_df[temporal_column]\n",
    "main_df_categorical = main_df[categorical_columns]"
   ]
  },
  {
   "cell_type": "markdown",
   "metadata": {},
   "source": [
    "### Datos númericos"
   ]
  },
  {
   "cell_type": "code",
   "execution_count": null,
   "metadata": {},
   "outputs": [],
   "source": [
    "# Descripción estadística de variables numéricas\n",
    "print(\"Descripción estadística de variables numéricas:\")\n",
    "main_df_numerical.describe()"
   ]
  },
  {
   "cell_type": "code",
   "execution_count": null,
   "metadata": {},
   "outputs": [],
   "source": [
    "# Eliminamos columnas de ids, ya que podrían introducir ruido en el análisis\n",
    "# (Solo para el análisis exploratorio)\n",
    "# suffixes_to_remove = ['_id']\n",
    "# columns_to_remove = [col for col in main_df.columns if any(col.endswith(suffix) for suffix in suffixes_to_remove)]\n",
    "# # main_df = main_df.drop(columns=columns_to_remove)\n",
    "# main_df_numerical = main_df_numerical.drop(columns=columns_to_remove)\n",
    "\n",
    "# Eliminamos columnas num_visits_per_week, region_id y zone_id, ya que tienen un valor único\n",
    "# y por ende varianza 0\n",
    "main_df = main_df.drop(columns=['num_visit_per_week', 'region_id', 'zone_id'])\n",
    "main_df_numerical = main_df_numerical.drop(columns=['num_visit_per_week', 'region_id', 'zone_id'])"
   ]
  },
  {
   "cell_type": "code",
   "execution_count": null,
   "metadata": {
    "editable": true,
    "slideshow": {
     "slide_type": ""
    },
    "tags": []
   },
   "outputs": [],
   "source": [
    "# Histogramas de variables numéricas\n",
    "for col in main_df_numerical.columns:\n",
    "    plt.figure(figsize=(8, 4))\n",
    "    col_data = main_df_numerical[col].dropna()\n",
    "    col_data_cropped = col_data[(col_data >= col_data.quantile(0.01)) & (col_data <= col_data.quantile(0.99))]\n",
    "    plt.hist(col_data_cropped, bins=30, edgecolor='black', alpha=0.7)\n",
    "    plt.title(f'Histograma de {col}')\n",
    "    plt.xlabel(col)\n",
    "    plt.ylabel('Frecuencia')\n",
    "    plt.grid(axis='y', alpha=0.75)\n",
    "    plt.show()"
   ]
  },
  {
   "cell_type": "markdown",
   "metadata": {},
   "source": [
    "La distribución de las variables númericas restantes hacen sentido, con excepción de algunos valores negativos en la variable `payment` que no tienen sentido en el contexto del problema, aunque se podrían deber a compensaciones o devoluciones en pagos anteriores. Lo otro es que la variable `num_deliver_per_week` tiene valores 3 y 4, lo que indica que sería mejor tratarla como una variable categórica."
   ]
  },
  {
   "cell_type": "code",
   "execution_count": null,
   "metadata": {},
   "outputs": [],
   "source": [
    "# num_deliver_per_week a columna categórica\n",
    "main_df['num_deliver_per_week'] = main_df['num_deliver_per_week'].astype('category')\n",
    "numerical_columns.remove('num_deliver_per_week')\n",
    "categorical_columns.append('num_deliver_per_week')\n",
    "\n",
    "main_df_categorical[\"num_deliver_per_week\"] = main_df[\"num_deliver_per_week\"]"
   ]
  },
  {
   "cell_type": "markdown",
   "metadata": {},
   "source": [
    "### Columna temporal"
   ]
  },
  {
   "cell_type": "code",
   "execution_count": null,
   "metadata": {},
   "outputs": [],
   "source": [
    "# Descripción estadística de variable temporal\n",
    "print(\"\\nDescripción estadística de variable temporal:\")\n",
    "temporal_variable.describe()"
   ]
  },
  {
   "cell_type": "markdown",
   "metadata": {},
   "source": [
    "Fechas del dataframe corresponden a los comienzos del día que se realiza la transacción."
   ]
  },
  {
   "cell_type": "code",
   "execution_count": null,
   "metadata": {},
   "outputs": [],
   "source": [
    "# Histograma de variable temporal\n",
    "plt.figure(figsize=(10, 5))\n",
    "plt.hist(temporal_variable['purchase_date'], bins=30, edgecolor='black', alpha=0.7)\n",
    "plt.title('Histograma de purchase_date')"
   ]
  },
  {
   "cell_type": "markdown",
   "metadata": {},
   "source": [
    "Las fechas parecen estar distribuidas relativamente uniforme, con excepción del final del periodo, donde existe un peak en la cantidad de compras."
   ]
  },
  {
   "cell_type": "markdown",
   "metadata": {},
   "source": [
    "### Columnas categoricas"
   ]
  },
  {
   "cell_type": "code",
   "execution_count": null,
   "metadata": {},
   "outputs": [],
   "source": [
    "# Descripción estadística de variables categóricas\n",
    "print(\"\\nDescripción estadística de variables categóricas:\")\n",
    "main_df_categorical.describe(include='all')"
   ]
  },
  {
   "cell_type": "code",
   "execution_count": null,
   "metadata": {},
   "outputs": [],
   "source": [
    "# Histogramas de variables categóricas\n",
    "for col in main_df_categorical.columns:\n",
    "    plt.figure(figsize=(10, 5))\n",
    "    main_df_categorical[col].value_counts().plot(kind='bar', edgecolor='black', alpha=0.7)\n",
    "    plt.title(f'Histograma de {col}')\n",
    "    plt.xlabel(col)\n",
    "    plt.ylabel('Frecuencia')\n",
    "    plt.grid(axis='y', alpha=0.75)\n",
    "    plt.show()"
   ]
  },
  {
   "cell_type": "markdown",
   "metadata": {},
   "source": [
    "Las variables `category` y `sub_category` presentan en la práctica un solo valor, por lo que parecieran no aportar información relevante para el modelo. Por otro lado hay algunas categorías en las otras variables con muy pocos registros, lo que podría dificultar el aprendizaje del modelo. \n",
    "\n",
    "La variable `num_deliver_per_week` añadida en la sección de trabajo de variables númericas en realidad tenía tambien algunos valores ademas del 3 y el 4, que fueron cortados en el anterior histograma por la eliminación de outliers, igualmente sigue teniendo sentido tratarla como una variable categórica."
   ]
  },
  {
   "cell_type": "code",
   "execution_count": null,
   "metadata": {},
   "outputs": [],
   "source": [
    "# Eliminamos columnas category y sub_category, ya que no aportan información relevante\n",
    "main_df = main_df.drop(columns=['category', 'sub_category'])\n",
    "categorical_columns.remove('category')\n",
    "categorical_columns.remove('sub_category')\n",
    "main_df_categorical = main_df_categorical.drop(columns=['category', 'sub_category'])"
   ]
  },
  {
   "cell_type": "code",
   "execution_count": null,
   "metadata": {},
   "outputs": [],
   "source": [
    "# Diccionario de tipo de datos para cada columna \n",
    "# para consistencia futura\n",
    "dtype_dict = {}\n",
    "for col in main_df.columns:\n",
    "    col_type = main_df[col].dtype\n",
    "    dtype_dict[col] = col_type"
   ]
  },
  {
   "cell_type": "code",
   "execution_count": null,
   "metadata": {},
   "outputs": [],
   "source": [
    "# Como se desea la probabilidad de compra de un producto determinado en una semana se agrupará por cliente, producto y semana, \n",
    "# donde si no existió ninguna orden esa semana se considerará como no compra (0), y si existió al menos una orden se considerará como compra (1).7\n",
    "\n",
    "RUN_RESAMPLE = False\n",
    "\n",
    "if RUN_RESAMPLE:\n",
    "    # Indexado por fecha \n",
    "    main_df.set_index('purchase_date', inplace=True)\n",
    "\n",
    "    # Resampleo semanal\n",
    "    weekly_df = main_df.groupby(['customer_id', 'product_id']).resample('W-MON').agg({\n",
    "        'order_id': 'nunique',  # Número de órdenes\n",
    "        'payment': 'sum',       # Total pagado\n",
    "        'customer_type': 'first', # Mantener tipo de cliente\n",
    "        'Y': 'first',           # Mantener coordenada Y\n",
    "        'X': 'first',           # Mantener coordenada X\n",
    "        'num_deliver_per_week': 'first', # Mantener número de entregas por semana\n",
    "        'brand': 'first',       # Mantener marca\n",
    "        'segment': 'first',     # Mantener segmento\n",
    "        'package': 'first',     # Mantener paquete\n",
    "        'size': 'first'         # Mantener tamaño\n",
    "    }).reset_index()\n",
    "\n",
    "    weekly_df.rename(columns={'order_id': 'num_orders'}, inplace=True)\n",
    "    weekly_df[\"purchase_date\"] = pd.to_datetime(weekly_df[\"purchase_date\"], utc=True)\n",
    "\n",
    "    # Todas las fechas que deben existir\n",
    "    all_dates = pd.date_range(start=weekly_df['purchase_date'].min(), end=weekly_df['purchase_date'].max(), freq='W-MON').tz_convert(\"UTC\")\n",
    "\n",
    "    # Fechas a timestamp\n",
    "    all_dates = pd.to_datetime(all_dates)\n",
    "\n",
    "    def reindex_customer_product(group, all_dates):\n",
    "        group = group.set_index('purchase_date').reindex(all_dates)\n",
    "        group['payment'] = group['payment'].fillna(0)\n",
    "        group['num_orders'] = group['num_orders'].fillna(0)\n",
    "        group = group.ffill().bfill()\n",
    "        return group.reset_index().rename(columns={'index': 'purchase_date'})\n",
    "\n",
    "    weekly_df = (\n",
    "        weekly_df.groupby(['customer_id','product_id'], group_keys=False)\n",
    "        .apply(lambda g: reindex_customer_product(g, all_dates))\n",
    "    )\n",
    "    # Transformación de num_orders a 0 y 1\n",
    "    weekly_df[\"order\"] = weekly_df[\"num_orders\"].apply(lambda x: 1 if x > 0 else 0)\n",
    "\n",
    "\n",
    "    weekly_df.to_csv('data/weekly_transformed_df.csv', index=False)\n",
    "\n",
    "else:\n",
    "    # Lectura del dataframe ya resampleado\n",
    "    weekly_df = pd.read_csv('data/weekly_transformed_df.csv')\n",
    "    weekly_df[\"purchase_date\"] = pd.to_datetime(weekly_df[\"purchase_date\"], utc=True)\n"
   ]
  },
  {
   "cell_type": "markdown",
   "metadata": {},
   "source": [
    "Es muy importante notar en el codigo anterior que order será la variable objetivo y que \"payment\" de la misma fecha no estará disponible en el momento de hacer la predicción, por lo que no se puede usar como feature a no ser que se haga un lag de esta variable."
   ]
  },
  {
   "cell_type": "code",
   "execution_count": null,
   "metadata": {},
   "outputs": [],
   "source": [
    "# Recuperación de tipos originales\n",
    "for col, col_type in dtype_dict.items():\n",
    "    if col in weekly_df.columns:\n",
    "        try:\n",
    "            weekly_df[col] = weekly_df[col].astype(col_type)\n",
    "        except Exception as e:\n",
    "            print(f\"Error al convertir la columna {col} a {col_type}: {e}\")\n",
    "\n",
    "weekly_df[\"purchase_date\"] = weekly_df[\"purchase_date\"].dt.tz_localize(None)"
   ]
  },
  {
   "cell_type": "code",
   "execution_count": null,
   "metadata": {},
   "outputs": [],
   "source": [
    "# Check de nans\n",
    "print(\"Nulos por columna en weekly_df:\")\n",
    "print(weekly_df.isnull().sum())"
   ]
  },
  {
   "cell_type": "code",
   "execution_count": null,
   "metadata": {},
   "outputs": [],
   "source": [
    "# Sorteo de datos por cliente, producto y fecha\n",
    "weekly_df.sort_values(by=['customer_id', 'product_id', 'purchase_date'], inplace=True)"
   ]
  },
  {
   "cell_type": "code",
   "execution_count": null,
   "metadata": {},
   "outputs": [],
   "source": [
    "# customer_id y product_id a categóricas\n",
    "weekly_df['customer_id'] = weekly_df['customer_id'].astype('category')\n",
    "weekly_df['product_id'] = weekly_df['product_id'].astype('category')"
   ]
  },
  {
   "cell_type": "code",
   "execution_count": null,
   "metadata": {},
   "outputs": [],
   "source": [
    "# Creacion de payment_lagged_1 y se elimina payment\n",
    "# Se crean aquí y no en la sección de feature engineering porque se debe hacer antes del split\n",
    "# ya que al utilizar lagged features se pierde la información de las primeras filas de cada cliente-producto\n",
    "\n",
    "# Para evitar data leakage\n",
    "weekly_df['payment_lagged_1'] = weekly_df.groupby(['customer_id', 'product_id'])['payment'].shift(1)\n",
    "weekly_df[\"payment_lagged_2\"] = weekly_df.groupby(['customer_id', 'product_id'])['payment'].shift(2)\n",
    "weekly_df[\"payment_lagged_3\"] = weekly_df.groupby(['customer_id', 'product_id'])['payment'].shift(3)\n",
    "weekly_df[\"payment_lagged_4\"] = weekly_df.groupby(['customer_id', 'product_id'])['payment'].shift(4)\n",
    "\n",
    "weekly_df = weekly_df.drop(columns=['payment'])\n",
    "\n",
    "# Creacion de num_orders_lagged_1\n",
    "weekly_df['num_orders_lagged_1'] = weekly_df.groupby(['customer_id', 'product_id'])['num_orders'].shift(1)\n",
    "weekly_df['num_orders_lagged_2'] = weekly_df.groupby(['customer_id', 'product_id'])['num_orders'].shift(2)\n",
    "weekly_df['num_orders_lagged_3'] = weekly_df.groupby(['customer_id', 'product_id'])['num_orders'].shift(3)\n",
    "weekly_df['num_orders_lagged_4'] = weekly_df.groupby(['customer_id', 'product_id'])['num_orders'].shift(4)\n",
    "\n",
    "weekly_df = weekly_df.drop(columns=['num_orders'])\n",
    "\n",
    "# Eliminación de nulos generados por lagged features\n",
    "weekly_df.dropna(inplace=True)"
   ]
  },
  {
   "cell_type": "markdown",
   "metadata": {},
   "source": [
    "## 📌 Holdout [0.25 puntos]\n",
    "\n",
    "Para evaluar correctamente el modelo y garantizar su capacidad de generalización, se deben dividir los datos en tres conjuntos: \n",
    "- `Entrenamiento` : Para ajustar los parámetros.\n",
    "- `Validación`: Para optimizar hiperparámetros y seleccionar el mejor modelo.\n",
    "- `Prueba` : Para evaluar el rendimiento final en datos no vistos.\n",
    "\n",
    "👀 **Hint**: *Recuerde que los datos tienen una temporalidad que debe considerarse al momento de separarlos, para evitar fugas de información. Es importante justificar la estrategia de partición elegida y visualizar la distribución temporal de los conjuntos generados*"
   ]
  },
  {
   "cell_type": "code",
   "execution_count": null,
   "metadata": {},
   "outputs": [],
   "source": [
    "# Desarrolle aquí su código"
   ]
  },
  {
   "cell_type": "code",
   "execution_count": null,
   "metadata": {},
   "outputs": [],
   "source": [
    "# División de train, val y test por fecha\n",
    "# Más adelante se podrían querer crear variables de tiempo (lags, rolling, etc)\n",
    "# Por lo que no se pueden mezclar datos de diferentes fechas en los sets\n",
    "train_end_date = pd.to_datetime('2024-08-05')\n",
    "val_end_date = pd.to_datetime('2024-10-25')\n",
    "\n",
    "train_set = weekly_df[weekly_df['purchase_date'] <= train_end_date]\n",
    "val_set = weekly_df[(weekly_df['purchase_date'] > train_end_date) & (\n",
    "    weekly_df['purchase_date'] <= val_end_date)]\n",
    "test_set = weekly_df[weekly_df['purchase_date'] > val_end_date]\n",
    "\n",
    "X_train = train_set.drop(columns=['order'])\n",
    "y_train = train_set['order']\n",
    "\n",
    "X_val = val_set.drop(columns=['order'])\n",
    "y_val = val_set['order']\n",
    "\n",
    "X_test = test_set.drop(columns=['order'])\n",
    "y_test = test_set['order']\n"
   ]
  },
  {
   "cell_type": "code",
   "execution_count": null,
   "metadata": {},
   "outputs": [],
   "source": [
    "# Histograma de cantidad de datos normalizado por dataset\n",
    "plt.figure(figsize=(10, 5))\n",
    "datasets = ['Train', 'Validation', 'Test']\n",
    "counts = [len(train_set), len(val_set), len(test_set)]\n",
    "counts = [count / sum(counts) for count in counts]  # Normalización\n",
    "plt.bar(datasets, counts, color=['blue', 'orange', 'green'], edgecolor='black', alpha=0.7)\n",
    "plt.title('Cantidad de datos por dataset')\n",
    "plt.xlabel('Dataset')\n",
    "plt.ylabel('Cantidad de registros')\n",
    "plt.show()"
   ]
  },
  {
   "cell_type": "markdown",
   "metadata": {},
   "source": [
    "Se puede ver que escogiendo bien las fechas se llega a una distribución aproximadamente 60%-20%-20% en cantidad de datos entre los tres datasets."
   ]
  },
  {
   "cell_type": "markdown",
   "metadata": {},
   "source": [
    "## 📌 Feature Engineering [0.5 puntos]\n",
    "\n",
    "<center>\n",
    "<img src=\"https://i.imgur.com/CmXZSSC.gif\" width=\"300\" height=\"200\">"
   ]
  },
  {
   "cell_type": "markdown",
   "metadata": {},
   "source": [
    "En esta sección, se deben construir pipelines para automatizar el preprocesamiento de los datos, lo cual garantizará que el flujo de trabajo sea reproducible y eficiente para esta entrega y las futuras. El objetivo es aplicar una serie de transformaciones en un orden definido para asegurar que los datos estén listos para los modelos a entrenar. El pipeline final debe incluir las técnicas de pre-procesamiento que se deben aplicar a los distintos datos (según lo que consideren necesario para el problema). Por ejemplo:\n",
    "\n",
    "- **Imputación de valores nulos**: Manejo de datos faltantes mediante estrategias adecuadas (media, mediana, moda, interpolación, etc.). \n",
    "\n",
    "- **Transformaciones personalizadas**: Uso de ColumnTransformer para aplicar diferentes transformaciones a columnas específicas.\n",
    "\n",
    "- **Codificación de variables categóricas**: Convertir datos categóricos a un formato numérico adecuado (One-Hot Encoding, Label Encoding, etc.).\n",
    "\n",
    "- **Discretización de variables**: Conversión de variables numéricas continuas en categorías si son relevantes para el desempeño del modelo a entrenar.\n",
    "\n",
    "- **Estandarización o normalización** : Ajustar la escala de los datos para mejorar el rendimiento de los algoritmos sensibles a la magnitud de las variables.\n",
    "\n",
    "- **Eliminación o transformación de valores atípicos**: Identificar y tratar con datos outliers para mejorar la robustez del modelo.\n",
    "\n",
    "- **Nuevas características** : Creación de variables adicionales que puedan aportar información relevante al modelo.\n",
    "\n",
    "Cada una de estas transformaciones debe ser justificada en función de su relevancia para el problema y los datos, y es importante evaluar su impacto en el rendimiento del modelo. Además, el pipeline debe ser flexible y modular para poder probar diferentes configuraciones de preprocesamiento."
   ]
  },
  {
   "cell_type": "code",
   "execution_count": null,
   "metadata": {},
   "outputs": [],
   "source": [
    "# Desarrolle aquí su código "
   ]
  },
  {
   "cell_type": "code",
   "execution_count": null,
   "metadata": {},
   "outputs": [],
   "source": [
    "from sklearn.preprocessing import OneHotEncoder, StandardScaler, FunctionTransformer, MinMaxScaler, RobustScaler\n",
    "\n",
    "def date_features(df):\n",
    "    df = df.copy()\n",
    "    df['month'] = df['purchase_date'].dt.month\n",
    "    df['day'] = df['purchase_date'].dt.day\n",
    "    df['week'] = df['purchase_date'].dt.isocalendar().week\n",
    "    return df.drop(columns=['purchase_date'])\n",
    "\n",
    "# Creammos el transformer\n",
    "date_transformer = FunctionTransformer(date_features)"
   ]
  },
  {
   "cell_type": "code",
   "execution_count": null,
   "metadata": {},
   "outputs": [],
   "source": [
    "from sklearn.pipeline import Pipeline"
   ]
  },
  {
   "cell_type": "code",
   "execution_count": null,
   "metadata": {},
   "outputs": [],
   "source": [
    "from sklearn.base import BaseEstimator, TransformerMixin\n",
    "class OutlierClipper(BaseEstimator, TransformerMixin):\n",
    "    def __init__(self, lower_quantile=0.01, upper_quantile=0.99):\n",
    "        self.lower_quantile = lower_quantile\n",
    "        self.upper_quantile = upper_quantile\n",
    "        self.lower_bounds_ = None\n",
    "        self.upper_bounds_ = None\n",
    "\n",
    "    def fit(self, X, y=None):\n",
    "        X = pd.DataFrame(X)\n",
    "        self.lower_bounds_ = X.quantile(self.lower_quantile)\n",
    "        self.upper_bounds_ = X.quantile(self.upper_quantile)\n",
    "        return self\n",
    "\n",
    "    def transform(self, X):\n",
    "        X = pd.DataFrame(X).clip(lower=self.lower_bounds_, upper=self.upper_bounds_, axis=1)\n",
    "        return X\n",
    "    \n",
    "    def set_output(self, *, transform=None):\n",
    "        return self"
   ]
  },
  {
   "cell_type": "code",
   "execution_count": null,
   "metadata": {},
   "outputs": [],
   "source": [
    "from sklearn.compose import ColumnTransformer\n",
    "from sklearn.preprocessing import OneHotEncoder, StandardScaler\n",
    "import category_encoders as ce\n",
    "\n",
    "# Identificamos las columnas numéricas y categóricas\n",
    "numerical_columns = [col for col in X_train.columns if pd.api.types.is_numeric_dtype(X_train[col])]\n",
    "temporal_columns = [\"day\", \"month\", \"week\"]\n",
    "old_numerical_column = [\"purchase_date\"]\n",
    "id_columns = ['customer_id', 'product_id']\n",
    "\n",
    "categorical_columns = [col for col in X_train.columns if col not in numerical_columns + old_numerical_column + id_columns]\n",
    "categorical_columns += temporal_columns\n",
    "# Creamos el ColumnTransformer\n",
    "\n",
    "numerical_pipeline = Pipeline(steps=[\n",
    "    (\"outlier_clip\", OutlierClipper(lower_quantile=0.01, upper_quantile=0.99)),\n",
    "    ('scaler', StandardScaler())\n",
    "])\n",
    "\n",
    "cat_transformer = Pipeline([\n",
    "    ('category_enc', OneHotEncoder(sparse_output=False, handle_unknown=\"ignore\", min_frequency=10)),  # Target Encoding\n",
    "])\n",
    "\n",
    "preprocessor = ColumnTransformer(\n",
    "    transformers=[\n",
    "        (\"num\", numerical_pipeline, numerical_columns),\n",
    "        (\"cat\", cat_transformer, categorical_columns),\n",
    "    ]\n",
    ").set_output(transform=\"pandas\")\n",
    "\n",
    "\n",
    "# Pipeline de \n",
    "column_processor = Pipeline(steps=[\n",
    "    ('date_transformer', date_transformer),\n",
    "    ('preprocessor', preprocessor)\n",
    "])"
   ]
  },
  {
   "cell_type": "code",
   "execution_count": null,
   "metadata": {},
   "outputs": [],
   "source": [
    "# Transformación del dataset de entrenamiento\n",
    "X_train_transformed = column_processor.fit_transform(X_train, y_train)\n",
    "\n",
    "# Transformación del dataset de validación\n",
    "X_val_transformed = column_processor.transform(X_val)\n",
    "\n",
    "# Transformación del dataset de prueba\n",
    "X_test_transformed = column_processor.transform(X_test)"
   ]
  },
  {
   "cell_type": "markdown",
   "metadata": {},
   "source": [
    "## 📌 Baseline [0.25 puntos]\n",
    "\n",
    "<center>\n",
    "<img src=\"https://media1.giphy.com/media/v1.Y2lkPTc5MGI3NjExN3lzeGFqZmU3NzJrZHllNjRmaHVzczJpZ29rdHdlMzVpZnQwNXo1diZlcD12MV9pbnRlcm5hbF9naWZfYnlfaWQmY3Q9Zw/qAtZM2gvjWhPjmclZE/giphy.gif\" width=\"300\" height=\"200\">"
   ]
  },
  {
   "cell_type": "markdown",
   "metadata": {},
   "source": [
    "En esta sección se debe construir el modelo más sencillo posible que pueda resolver el problema planteado, conocido como **Modelo baseline**. Su propósito es servir como referencia para comparar el rendimiento de los modelos más avanzados desarrollados en etapas posteriores.  \n",
    "\n",
    "Pasos requeridos:  \n",
    "- Implemente, entrene y evalúe un modelo básico utilizando un pipeline.  \n",
    "- Asegúrese de incluir en el pipeline las transformaciones del preprocesamiento realizadas previamente junto con un clasificador básico.  \n",
    "- Evalúe el modelo y presente el informe de métricas utilizando **`classification_report`**.  \n",
    "\n",
    "Documente claramente cómo se creó el modelo, las decisiones tomadas y los resultados obtenidos. Este modelo será la base comparativa en las secciones posteriores."
   ]
  },
  {
   "cell_type": "code",
   "execution_count": null,
   "metadata": {},
   "outputs": [],
   "source": [
    "# Desarrolle aquí su código "
   ]
  },
  {
   "cell_type": "code",
   "execution_count": null,
   "metadata": {},
   "outputs": [],
   "source": [
    "# Regresion logistica como modelo base\n",
    "from sklearn.dummy import DummyRegressor\n",
    "from sklearn.metrics import classification_report, confusion_matrix\n",
    "\n",
    "baseline_pipeline = Pipeline(steps=[\n",
    "    ('date_transformer', date_transformer),\n",
    "    ('preprocessor', preprocessor),\n",
    "    ('model', DummyRegressor())\n",
    "])  \n",
    "\n",
    "baseline_pipeline.fit(X_train, y_train)\n",
    "y_val_pred = baseline_pipeline.predict(X_val)\n",
    "\n",
    "accuracy = (y_val_pred.round() == y_val).mean()\n",
    "print(f\"Accuracy en validación: {accuracy:.2f}\")"
   ]
  },
  {
   "cell_type": "code",
   "execution_count": null,
   "metadata": {},
   "outputs": [],
   "source": [
    "# Matriz de confusión y métricas\n",
    "import seaborn as sns\n",
    "\n",
    "print(\"Validación:\")\n",
    "plt.figure(figsize=(8, 6))\n",
    "sns.heatmap(confusion_matrix(y_val, y_val_pred.round()), annot=True, fmt='d', cmap='Blues')\n",
    "plt.title(f'Matriz de Confusión - Validación (Accuracy: {accuracy:.2f})')\n",
    "plt.xlabel('Predicho')\n",
    "plt.ylabel('Real')\n",
    "plt.show()\n",
    "\n",
    "classification_report_val = classification_report(y_val, y_val_pred.round())\n",
    "print(\"Reporte de Clasificación - Validación:\")\n",
    "print(classification_report_val)\n"
   ]
  },
  {
   "cell_type": "markdown",
   "metadata": {},
   "source": [
    "## 📌 Elección de modelo [0.75 puntos]\n",
    "\n",
    "En esta sección deben escoger un modelo que se adapte a las necesidades del negocio. Para esto, pruebe al menos 3 modelos y desarrolle los siguientes aspectos para cada uno:\n",
    "\n",
    "- **Estructura y diferencias entre los modelos**: Explicar brevemente cada uno y sus hipérparámetros de mayor importancia.\n",
    "- **Clasificadores recomendados**:\n",
    "  - `LogisticRegression`\n",
    "  - `KNeighborsClassifier`\n",
    "  - `DecisionTreeClassifier`\n",
    "  - `SVC`\n",
    "  - `RandomForestClassifier`\n",
    "  - `LightGBMClassifier` (del paquete `lightgbm`)\n",
    "  - `XGBClassifier` (del paquete `xgboost`)\n",
    "  - Otro (según lo que se estime adecuado)\n",
    "  \n",
    "- **Evaluación de resultados**: Se utilizará el **`classification_report`** para evaluar el rendimiento de cada modelo, destacando métricas clave como precisión, recall y F1-score. **Importante: No optimicen hiperparámetros, la idea es hacer una selección rápida del modelo.**\n",
    "\n",
    "**Nota:** Pueden ocupar mas de 1 **instancia** de modelo para resolver el problema (e.g: (modelo_1, grupo_1), (modelo_2, grupo_2), ...).\n",
    "  \n",
    "A continuación, se deben responder las siguientes preguntas para evaluar el rendimiento de los modelos entrenados:\n",
    "\n",
    "1. ¿Hay algún clasificador que supere al modelo baseline?  \n",
    "2. ¿Cuál es el mejor clasificador entrenado y por qué?  \n",
    "3. ¿Qué factores hacen que el mejor clasificador sea superior a los otros?  \n",
    "4. En términos de `tiempo de entrenamiento`, ¿Qué modelo considera más adecuado para experimentar con grillas de optimización?"
   ]
  },
  {
   "cell_type": "code",
   "execution_count": null,
   "metadata": {},
   "outputs": [],
   "source": [
    "# Desarrolle aquí su código\n",
    "from sklearn.ensemble import RandomForestClassifier\n",
    "from xgboost import XGBClassifier\n",
    "from sklearn.utils import class_weight\n",
    "from sklearn.linear_model import LogisticRegression\n",
    "\n",
    "classes_weights = class_weight.compute_class_weight(class_weight='balanced', classes=np.unique(y_train), y=y_train)\n",
    "\n",
    "# Dict of models to try\n",
    "models = {\n",
    "    'RandomForest': RandomForestClassifier(class_weight='balanced'),\n",
    "    \"logistic_regression\": LogisticRegression(class_weight='balanced', max_iter=1000),\n",
    "    'XGBoost': XGBClassifier(scale_pos_weight=classes_weights[1]/classes_weights[0])\n",
    "}\n",
    "\n",
    "\n",
    "models_details = {}\n",
    "for model, clf in models.items():\n",
    "    print(f\"Training {model}...\")\n",
    "    # Fit the model\n",
    "    clf.fit(X_train_transformed, y_train)\n",
    "    # Validate the model\n",
    "    val_preds = clf.predict(X_val_transformed)\n",
    "\n",
    "    # Validation accuracy\n",
    "    val_accuracy = (val_preds == y_val).mean()\n",
    "\n",
    "    # Validation recall\n",
    "    val_recall = (val_preds[y_val == 1] == 1).mean()\n",
    "    # Store the model and its validation accuracy\n",
    "    models_details[model] = {\n",
    "        'model': clf,\n",
    "        'accuracy': val_accuracy,\n",
    "        'recall': val_recall\n",
    "    }\n",
    "    print(f\"{model} validation accuracy: {val_accuracy:.4f}\")\n",
    "    print(f\"{model} validation recall: {val_recall:.4f}\")"
   ]
  },
  {
   "cell_type": "code",
   "execution_count": null,
   "metadata": {},
   "outputs": [],
   "source": [
    "# Metricas y matriz de confusión para el mejor modelo (XGBoost en este caso)\n",
    "best_model = models_details['XGBoost']['model']\n",
    "\n",
    "# Predicciones validación\n",
    "y_val_pred = best_model.predict(X_val_transformed)\n",
    "\n",
    "# Predicciones test\n",
    "y_test_pred = best_model.predict(X_test_transformed)\n",
    "\n",
    "# Matriz de confusión y métricas\n",
    "import seaborn as sns\n",
    "\n",
    "print(\"Validación:\")\n",
    "plt.figure(figsize=(8, 6))\n",
    "sns.heatmap(confusion_matrix(y_val, y_val_pred.round()), annot=True, fmt='d', cmap='Blues')\n",
    "plt.title('Matriz de Confusión - Validación')\n",
    "plt.xlabel('Predicho')\n",
    "plt.ylabel('Real')\n",
    "plt.show()\n",
    "\n",
    "classification_report_val = classification_report(y_val, y_val_pred.round())\n",
    "print(\"Reporte de Clasificación - Validación:\")\n",
    "print(classification_report_val)\n",
    "\n",
    "print(\"Test:\")\n",
    "plt.figure(figsize=(8, 6))\n",
    "sns.heatmap(confusion_matrix(y_test, y_test_pred.round()), annot=True, fmt='d', cmap='Blues')\n",
    "plt.title('Matriz de Confusión - Test')\n",
    "plt.xlabel('Predicho')\n",
    "plt.ylabel('Real')\n",
    "plt.show()\n",
    "\n",
    "classification_report_test = classification_report(y_test, y_test_pred.round())\n",
    "print(\"Reporte de Clasificación - Test:\")\n",
    "print(classification_report_test)\n"
   ]
  },
  {
   "cell_type": "markdown",
   "metadata": {},
   "source": [
    "## 📌 Optimización de Hiperparámetros [1.0 puntos]\n",
    "\n",
    "<center>\n",
    "<img src=\"https://media1.giphy.com/media/v1.Y2lkPTc5MGI3NjExcXJkNzdhYjlneHplaGpsbnVkdzh5dnY3Y2VyaTIzamszdGR1czJ2diZlcD12MV9pbnRlcm5hbF9naWZfYnlfaWQmY3Q9Zw/2rqEdFfkMzXmo/giphy.gif\" width=\"300\" height=\"200\">"
   ]
  },
  {
   "cell_type": "markdown",
   "metadata": {},
   "source": [
    "A partir de su análisis anterior, se debe proceder a optimizar el rendimiento del modelo seleccionado mediante la optimización de sus hiperparámetros. Para ello, se espera que implementen `Optuna` para optimizar no solo los hiperparámetros del modelo, sino también los de los preprocesadores utilizados (por ejemplo, OneHot Encoding, Scalers, etc.).\n",
    "\n",
    "Al desarrollar este proceso, deberán responder las siguientes preguntas clave como mínimo:\n",
    "\n",
    "- ¿Qué métrica decidieron optimizar y por qué?\n",
    "\n",
    "- ¿Qué hiperparámetro tuvo un mayor impacto en el rendimiento de su modelo?\n",
    "\n",
    "- ¿Cuánto mejoró el rendimiento del modelo después de la optimización de hiperparámetros?"
   ]
  },
  {
   "cell_type": "code",
   "execution_count": null,
   "metadata": {},
   "outputs": [],
   "source": [
    "# Desarrolle aquí su código\n",
    "% pip install optuna\n",
    "import optuna"
   ]
  },
  {
   "cell_type": "code",
   "execution_count": null,
   "metadata": {},
   "outputs": [],
   "source": [
    "def objective(trial):\n",
    "    classifier_name = trial.suggest_categorical('classifier', ['RandomFores', 'XGBoost'])\n",
    "    scaler_name = trial.suggest_categorical('scalador', ['StandardScaler', 'RobustScaler', 'MinMaxScaler'])\n",
    "    \n",
    "    num_cols = ['Y', 'X', 'payment_lagged_1', 'payment_lagged_2', 'payment_lagged_3', 'payment_lagged_4', 'size', 'num_orders_lagged_1', 'num_orders_lagged_2', 'num_orders_lagged_3', 'num_orders_lagged_4']\n",
    "    num_transformer = Pipeline([\n",
    "        (\"outlier_cap\", FunctionTransformer( lambda x: np.where(x > x.quantile(0.99), x.quantile(0.99), np.where(x < x.quantile(0.01), x.quantile(0.01), x)), validate=False)),('scaler',scaler_name()])\n",
    "\n",
    "    # Transformaciones categóricas\n",
    "    cat_cols = ['customer_id', 'product_id', 'customer_type', 'brand', 'segment', 'package']\n",
    "    cat_transformer = Pipeline([('category_enc', ce.TargetEncoder()),  # Target Encoding\n",
    "                               ])\n",
    "\n",
    "    # ColumnTransformer final\n",
    "    preprocessor = ColumnTransformer([\n",
    "        ('date', date_transformer, ['purchase_date']),\n",
    "        ('num', num_transformer, num_cols),\n",
    "        ('cat', cat_transformer, cat_cols)])\n",
    "    if classifier_name == 'RandomForest':\n",
    "         rf_max_depth = trial.suggest_int('rf_max_depth', 5, 20)\n",
    "         mspl = trial.suggest_int('msp', 2, 6)\n",
    "         classifier_obj = RandomForestClassifier(max_depth=rf_max_depth, min_samples_per_leaf = mspl)\n",
    "    else:\n",
    "        xg_max_depth = trial.suggest_int('xg_max_depth', 5, 9)\n",
    "        xg_md = trial.suggest_int('xg_max_delta', 0, 5)\n",
    "        classifier_obj = XGBClassifier(max_depth=xg_max_depth, max_delta_step =xg_md)\n",
    "    ...\n",
    "    return accuracy\n",
    "    \n",
    "\n",
    "study = optuna.create_study(direction='maximize')\n",
    "study.optimize(objective, n_trials=100)    "
   ]
  },
  {
   "cell_type": "markdown",
   "metadata": {},
   "source": [
    "## 📌 Interpretabilidad [1.0 puntos]\n",
    "\n",
    "En esta sección, deben explicar el funcionamiento de su modelo utilizando las técnicas de interpretabilidad vistas en clase, como `SHAP`. Se espera que sean capaces de descomponer las predicciones y evaluar la importancia de los atributos y las interacciones entre ellos, con el fin de obtener una comprensión más profunda de cómo el modelo toma decisiones. \n",
    "\n",
    "Al desarrollar esta parte, deberán responder las siguientes preguntas clave como mínimo:\n",
    "\n",
    "- ¿Podría explicar el funcionamiento de su modelo para una predicción en particular? Si es así, proporcione al menos tres ejemplos específicos, describiendo cómo el modelo llegó a sus decisiones y qué factores fueron más relevantes en cada caso.\n",
    "\n",
    "- ¿Qué atributo tiene una mayor importancia en la salida de su modelo? Analice si esto tiene sentido con el problema planteado y justifique la relevancia de dicho atributo en el contexto de las predicciones que se realizan.\n",
    "\n",
    "- ¿Existe alguna interacción entre atributos que sea relevante para el modelo? Investigue si la combinación de ciertos atributos tiene un impacto significativo en las predicciones y explíquela en **detalle**.\n",
    "\n",
    "- ¿Podría existir sesgo hacia algún atributo en particular? Reflexione sobre la posibilidad de que el modelo esté favoreciendo ciertos atributos. Si es así, ¿cuál podría ser la causa y qué impacto podría tener esto en la predicción?"
   ]
  },
  {
   "cell_type": "code",
   "execution_count": null,
   "metadata": {},
   "outputs": [],
   "source": [
    "# Desarrolle aquí su código"
   ]
  },
  {
   "cell_type": "markdown",
   "metadata": {},
   "source": [
    "## 📌 Resultados y Conclusiones [1.0 puntos]\n",
    "\n",
    "Para finalizar, se deben explicar los desarrollos y resultados obtenidos a lo largo de todo el proceso, desde la selección de las variables hasta la optimización de hiperparámetros e interpretación. Se espera una reflexión crítica sobre el desempeño de los modelos entrenados y una comparación entre los diferentes enfoques. Además, deberán abordar los siguientes puntos clave:\n",
    "\n",
    "- **Análisis de métricas**: Comenten sobre las métricas obtenidas en cada etapa del modelo, destacando las más relevantes como precisión, recall, F1-score, etc. ¿Cuáles fueron los modelos más efectivos? ¿Qué diferencias notables encontró entre ellos?\n",
    "\n",
    "- **Impacto de las decisiones tomadas**: Reflexionen sobre cómo las decisiones relacionadas con el preprocesamiento, selección de atributos y optimización de hiperparámetros influyeron en los resultados finales. ¿Hubo alguna decisión que haya tenido un impacto notable en el rendimiento?\n",
    "\n",
    "- **Lecciones aprendidas**: Concluyan sobre las lecciones más importantes que aprendieron durante el proceso y cómo estas pueden influir en futuras iteraciones del modelo. ¿Qué se podría mejorar si se repitiera el proceso? Si tuvieran más recursos y tiempo, ¿qué otras técnicas/herramientas habrían utilizado?"
   ]
  },
  {
   "cell_type": "markdown",
   "metadata": {},
   "source": [
    "> [Escriba aquí sus resultados]"
   ]
  },
  {
   "cell_type": "markdown",
   "metadata": {},
   "source": [
    "Mucho éxito!\n",
    "\n",
    "<center>\n",
    "<img src=\"https://media3.giphy.com/media/v1.Y2lkPTc5MGI3NjExaHpvOTY5Z3hpdHI3aDBpdGRueXRqamZncXp2emFrbjJ5M2s5eTR1dSZlcD12MV9pbnRlcm5hbF9naWZfYnlfaWQmY3Q9Zw/1PMVNNKVIL8Ig/giphy.gif\" width=\"300\" height=\"200\">\n"
   ]
  }
 ],
 "metadata": {
  "kernelspec": {
   "display_name": "Python 3",
   "language": "python",
   "name": "python3"
  },
  "language_info": {
   "codemirror_mode": {
    "name": "ipython",
    "version": 3
   },
   "file_extension": ".py",
   "mimetype": "text/x-python",
   "name": "python",
   "nbconvert_exporter": "python",
   "pygments_lexer": "ipython3",
   "version": "3.11.5"
  }
 },
 "nbformat": 4,
 "nbformat_minor": 4
}
