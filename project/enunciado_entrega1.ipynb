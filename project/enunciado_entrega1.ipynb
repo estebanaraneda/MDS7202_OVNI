{
 "cells": [
  {
   "cell_type": "markdown",
   "metadata": {},
   "source": [
    "![](https://www.dii.uchile.cl/wp-content/uploads/2021/06/Magi%CC%81ster-en-Ciencia-de-Datos.png)"
   ]
  },
  {
   "cell_type": "markdown",
   "metadata": {},
   "source": [
    "**MDS7202: Laboratorio de Programación Científica para Ciencia de Datos**\n",
    "\n",
    "### 👨‍🏫👩‍🏫 Cuerpo Docente:\n",
    "\n",
    "- Profesores: Diego Cortez, Gabriel Iturra\n",
    "- Auxiliares: Melanie Peña, Valentina Rojas\n",
    "- Ayudantes: Nicolás Cabello, Cristopher Urbina\n",
    "\n",
    "### 👨‍💻👩‍💻 Estudiantes:\n",
    "- Estudiante n°1: Esteban Araneda\n",
    "- Estudiante n°2: ignacio Reyes\n",
    "\n",
    "_Por favor, lean detalladamente las instrucciones de la tarea antes de empezar a escribir._\n",
    "\n",
    "---"
   ]
  },
  {
   "cell_type": "markdown",
   "metadata": {},
   "source": [
    "---\n",
    "\n",
    "## 📖 Enunciado "
   ]
  },
  {
   "cell_type": "markdown",
   "metadata": {},
   "source": [
    "<div align=\"center\">\n",
    "    <img src='https://github.com/MDS7202/MDS7202/blob/main/recursos/2025-01/proyecto/proyecto.png?raw=true' style=\"border-radius: 12px\"> \n",
    "</div>"
   ]
  },
  {
   "cell_type": "markdown",
   "metadata": {},
   "source": [
    "En el competitivo universo de las bebidas gaseosas, la empresa **SodAI Drinks 🥤** ha logrado destacarse por su creatividad, diversidad de productos y enfoque centrado en el cliente. Ofrece una extensa gama de bebidas carbonatadas que abarca distintos segmentos del mercado: desde productos premium en presentaciones sofisticadas, hasta gaseosas accesibles para el consumo masivo, disponibles en diversos tamaños y tipos de envases. \n",
    "\n",
    "La compañía opera en múltiples regiones y zonas, sirviendo a una variedad de puntos de venta que incluyen desde tiendas de conveniencia y minimarkets hasta el canal frío tradicional. Cada tipo de cliente tiene sus particularidades: algunos reciben entregas hasta 4 veces por semana, mientras que otros son visitados por la fuerza de ventas solo una vez semanalmente. Esta diversidad de perfiles representa tanto una oportunidad como un desafío comercial: ¿cómo saber qué productos tienen más chances de ser comprados por cada cliente en un momento dado?\n",
    "\n",
    "Con el objetivo de aumentar la facturación de forma inteligente y mejorar la eficiencia de su estrategia de ventas, **SodAI Drinks** decide crear una nueva célula interna de innovación: el equipo **Deep Drinkers 🤖**, cuyo propósito es aplicar ciencia de datos para anticiparse a las necesidades del cliente y potenciar el negocio desde una perspectiva basada en información.\n",
    "\n",
    "El corazón de esta iniciativa es el desarrollo de un sistema predictivo personalizado para cada cliente. Para ello, **Deep Drinkers** convoca a un equipo de Data Scientists y especialistas en *machine learning* con una misión clara: construir un modelo predictivo que, cada semana, pueda estimar la probabilidad de compra de cada producto del portafolio para cada cliente activo.\n",
    "\n",
    "El modelo deberá tener en cuenta múltiples factores, incluyendo:\n",
    "- **Tipo de cliente**, ej. \"TIENDA DE CONVENIENCIA\", \"MINIMARKET\".\n",
    "- **Frecuencia de entregas y visitas**, indicadores del nivel de actividad comercial.\n",
    "- **Ubicación geográfica** (por región y zona).\n",
    "- **Preferencias históricas de consumo**, inferidas por patrones de compra anteriores.\n",
    "- **Características del producto**, como marca, categoría, segmento, tipo de envase y tamaño\n",
    "\n",
    "El objetivo final es que, **cada semana**, se genere una tabla de productos priorizados: para cada cliente, un listado de productos ordenado por su probabilidad estimada de compra. Esta información será enviada al equipo comercial, que podrá usarla en call center, para incrementar las chances de concretar ventas al ofrecer justo lo que el cliente probablemente quiere comprar.\n",
    "\n",
    "Este proyecto representa un cambio de paradigma en la forma en que **SodAI Drinks** gestiona su fuerza de ventas: de un enfoque reactivo y generalista, a uno proactivo, basado en datos y profundamente personalizado. Así, la empresa no solo espera aumentar su rentabilidad, sino también construir relaciones más sólidas con sus clientes, ofreciéndoles recomendaciones más relevantes y oportunas.\n",
    "\n",
    "Para lograr lo anterior, el equipo **Deep Drinkers** contará con los siguientes conjuntos de datos, junto a sus respectivos atributos:\n",
    "\n",
    "- **Datos transaccionales** (`transacciones.parquet`): contiene el historial de compras realizadas por los clientes.\n",
    "\t- `customer_id`: identificador único del cliente que realizó la compra.\n",
    "\t- `product_id`: identificador único del producto comprado.\n",
    "\t- `purchase_date`: fecha en que se realizó la transacción.\n",
    "\t- `order_id`: identificar de la orden de su pedido.\n",
    "\t- `payment`\tmonto total pagado por la transacción.\n",
    "\n",
    "- **Datos de clientes** (`clientes.parquet`): incluye las características de cada cliente.\n",
    "\t- `customer_id`: identificador único del cliente.\n",
    "\t- `region_id`: identificador de la región geográfica donde se encuentra el cliente.\n",
    "\t- `customer_type`: tipo de cliente según el canal comercial, por ejemplo, “TIENDA DE CONVENIENCIA”.\n",
    "\t- `Y`: coordenada geográfica de latitud.\n",
    "\t- `X`: coordenada geográfica de longitud.\n",
    "\t- `num_deliver_per_week`: cantidad de entregas semanales que recibe el cliente.\n",
    "\t- `num_visit_per_week`: frecuencia de visitas de la fuerza de ventas por semana.\n",
    "\n",
    "- **Datos de productos** (`productos.parquet`): describe las características de los productos del portafolio.\n",
    "\t- `product_id`: identificador único del producto.\n",
    "\t- `brand`: marca comercial del producto.\n",
    "\t- `category`: categoría general del producto, como “BEBIDAS CARBONATADAS”.\n",
    "\t- `sub_category`: subcategoría dentro de la categoría principal, por ejemplo, “GASEOSAS”.\n",
    "\t- `segment`: segmento de mercado al que pertenece el producto, como “PREMIUM”.\n",
    "\t- `package`: tipo de envase del producto.\n",
    "\t- `size`: tamaño del producto en litros."
   ]
  },
  {
   "cell_type": "markdown",
   "metadata": {},
   "source": [
    "## 📚 Reglas"
   ]
  },
  {
   "cell_type": "markdown",
   "metadata": {},
   "source": [
    "<center>\n",
    "<img src=\"https://media1.tenor.com/m/0Qtv_cQ4ITsAAAAd/necohaus-grey-name.gif\" width=\"450\">"
   ]
  },
  {
   "cell_type": "markdown",
   "metadata": {},
   "source": [
    "\n",
    "\n",
    "El proyecto consta de **dos entregas parciales** y una **entrega final** en donde la primera entrega la idea es poder reflejar lo aprendido durante la primera mitad del curso, que será sobre los contenidos relacionados a *machine learning*, la segunda será sobre los contenidos de la segunda mitad del curso relacionados a *MLOps* y por último la entrega final constará de dos partes, donde la primera será relacionada con experimentación sobre nuevos datasets que serán disponibilizados durante las últimas semanas del curso de manera incremental y una segunda parte que será el informe final escrito que deberá explicar el desarrollo del proyecto completo, como tambien los resultados y análisis de los experimentos realizados sobre los datasets incrementales. La idea es que todo el código esté desarrollado durante las primeras dos entregas y luego en la entrega final sólo se ejecute el código sobre nuevos conjuntos de datos.\n",
    "\n",
    "La idea de generar el proyecto por etapas es poder aliviar la carga de trabajo en las últimas semanas del semestre donde sabemos que están muy cargado con entregas, pruebas y exámenes de otros ramos, y así garantizamos que habiendo la desarrollado las dos primeras entregas parciales, tendrán el grueso del proyecto listo para luego experimentar y documentar.\n",
    "\n",
    "---\n",
    "### **Fechas de entrega**\n",
    "- **Entrega parcial 1**: 12 de Septiembre\n",
    "- **Entrega parcial 2**: Por definir\n",
    "- **Entrega final**: Por definir\n",
    "\n",
    "---\n",
    "\n",
    "### **Requisitos del proyecto**\n",
    "- **Grupos**: Formar equipos de **2 personas**. No se aceptarán trabajos individuales o grupos con más integrantes.\n",
    "- **Consultas**: Cualquier duda fuera del horario de clases debe ser planteada en el foro correspondiente. Los mensajes enviados al equipo docente serán respondidos únicamente por este medio. Por favor, revisen las respuestas anteriores en el foro antes de realizar nuevas consultas.\n",
    "- **Plagio**: La copia o reutilización no autorizada de trabajos de otros grupos está **estrictamente prohibida**. El incumplimiento de esta norma implicará la anulación inmediata del proyecto y una posible sanción académica.\n",
    "- **Material permitido**: Pueden usar cualquier material del curso, ya sea notas, lecturas, códigos, o referencias proporcionadas por los docentes, que consideren útil para el desarrollo del proyecto.\n",
    "\n",
    "---\n",
    "\n",
    "### **Entregables y etapas**\n",
    "\n",
    "#### **1. Entrega Parcial 1**  \n",
    "- Dispondrán de los archivos de datos **productos.parquet**, **clientes.parquet** y **transacciones.parquet** para el modelamiento inicial.  \n",
    "- Utilizarán estos archivos para desarrollar lo solicitado para la entrega 1. \n",
    "- En esta etapa, se espera que apliquen todos los conocimientos aprendidos durante la primera parte del curso relacionados con *machine learning*.\n",
    "- **Informe**: No se exige un avance del informe en esta etapa, sólo un notebook con su desarrollo actual, pero se **recomienda comenzar** a redactar el informe final en paralelo para disminuir la carga académica en las etapas posteriores.  \n",
    "\n",
    "#### **2. Entrega Parcial 2**  \n",
    "- En esta entrega, deberán aplicar los conocimientos aprendidos durante la segunda mitad del curso sobre *MLOps*  \n",
    "- Se espera que implementen estos conocimientos para desplegar su modelo elegido en la primera entrega y crear *pipelines* automatizados que simulen un entorno productivo.\n",
    "- **Informe**: similar a la primera etapa, no se exige un avance del informe, pero se **recomienda avanzar con su redacción** para evitar una acumulación de trabajo en la etapa final.  \n",
    "\n",
    "#### **3. Entrega Final**  \n",
    "- En la entrega final, deberán realizar dos etapas:\n",
    "\t- La primera etapa es sobre experimentación utilizando datasets incrementales que se irán disponibilizando de manera parcial, para que vayan generando predicciones con su modelo ya desplegado. El objetivo de esta etapa es poder testear su solución *end-to-end* y que vayan analizando los resultados obtenidos a medida que se van agregando más datos.\n",
    "\t- La segunda etapa consiste en redactar un informe final que deberá explicar el desarrollo completo de tu proyecto y un análisis profundo de sus resultados de experimentación. Este informe debera incluir a lo menos las siguientes secciones:\n",
    "\t\t- Análisis exploratorio de datos  \n",
    "\t\t- Metodología aplicada  \n",
    "\t\t- Selección y entrenamiento de modelos  \n",
    "\t\t- Evaluación de resultados  \n",
    "\t\t- Optimización de modelos\n",
    "\t\t- Interpretabilidad\n",
    "\t\t- Re-entrenamiento\n",
    "\t\t- Tracking con MLFlow\n",
    "\t\t- Creación de la aplicación web con Gradio y FastAPI\n",
    "\n",
    "Es **altamente recomendable** ir redactando el informe en paralelo al desarrollo de los modelos para garantizar que toda la información relevante quede documentada adecuadamente.  \n",
    "\n",
    "### Nota Final\n",
    "\n",
    "La calificación final de su proyecto se calculará utilizando la siguiente ponderación: \n",
    "\n",
    "$$Nota Final = 0.30 * EntregaParcial1 + 0.40 * EntregaParcial2 + 0.30 * EntregaFinal$$\n",
    "\n",
    "---\n",
    "\n",
    "### **Instrucciones importantes**\n",
    "\n",
    "1. **Formato del informe**:  \n",
    "   - El informe debe estar integrado dentro de un **Jupyter Notebook**. No es necesario subirlo a una plataforma externa, pero debe cumplir con los siguientes requisitos:  \n",
    "     - Estructura clara y ordenada.  \n",
    "     - Código acompañado de explicaciones detalladas.  \n",
    "     - Resultados presentados de forma visual y analítica.  \n",
    "\n",
    "2. **Descuento por informes deficientes**:  \n",
    "   - Cualquier sección del informe que no tenga una explicación adecuada o no respete el formato será penalizada con un descuento en la nota. Esto incluye código sin comentarios o análisis que no sean coherentes con los resultados presentados.\n",
    "   - Comentarios sin formatear de ChatGPT o herramientas similares serán penalizados (e.g: \"Inserta tu modelo acá\", etc.)"
   ]
  },
  {
   "cell_type": "markdown",
   "metadata": {},
   "source": [
    "# 📬 Entrega Parcial 1 (30% del Proyecto)"
   ]
  },
  {
   "cell_type": "markdown",
   "metadata": {},
   "source": [
    "### 📪 Fecha de Entrega: 12 de Septiembre"
   ]
  },
  {
   "cell_type": "markdown",
   "metadata": {},
   "source": [
    "## 📌 Abstract [0.25 puntos]\n",
    "\n",
    "<center>\n",
    "<img src=\"https://i.redd.it/h5ptnsyabqvd1.gif\" width=\"400\" height=\"300\">"
   ]
  },
  {
   "cell_type": "markdown",
   "metadata": {},
   "source": [
    "En esta sección, deben redactar un Abstract claro y conciso para su proyecto. El Abstract debe responder a las siguientes preguntas clave:\n",
    "\n",
    "- **Descripción del problema**: ¿Cuál es el objetivo del proyecto? ¿Qué se intenta predecir o analizar?\n",
    "- **Datos de entrada**: ¿Qué datos tienen disponibles? ¿Cuáles son sus principales características?\n",
    "- **Métrica de evaluación**: ¿Cómo medirán el desempeño de sus modelos? Expliquen por qué eligieron esta métrica basándose en el análisis exploratorio de los datos.\n",
    "- **Modelos y transformaciones**: ¿Qué modelos utilizarán y por qué? ¿Qué transformaciones o preprocesamientos aplicaron a los datos?\n",
    "- **Resultados generales**: ¿El modelo final cumplió con los objetivos del proyecto? ¿Cuáles fueron las conclusiones más importantes?\n",
    "\n",
    "**Importante**: Escriban esto despues de haber resuelto el resto de la tarea."
   ]
  },
  {
   "cell_type": "markdown",
   "metadata": {},
   "source": [
    "> [Escriba aquí su Abstract]\n",
    "## Abstract \n",
    "En este trabajo se ocuparan tecnicas de machine learning para construir un modelo predictivo que permita a la compañia SoftAi Drinks tomar un enfoque proactivo frente a las  preferencias de cada cliente y conocer la demanda de sus productos. Para ello se analizará las caracteristicas historicas de cada cliente y de producto. Se dispone de bases de datos que recopilan la informacipon de cada producto (incluido categoría y cliente  objetivo), información de cliente (incluida la cantidad de visitas y entregas semanales) y el historial de transacciones. PAra evaluar desempeño ocuparemos...\n",
    "# llenar metrica\n",
    "En este trabajo se ocuparán modelos\n",
    "# llenar modelo y resultado\n",
    "\n"
   ]
  },
  {
   "cell_type": "markdown",
   "metadata": {},
   "source": [
    "## 📌 Pre-procesamiento [0.5 puntos]\n",
    "\n",
    "<center>\n",
    "<img src=\"https://media0.giphy.com/media/10zsjaH4g0GgmY/giphy.gif?cid=6c09b9523xtlunksc9amikw09zk1bmiqwjqnt70ae82rk877&ep=v1_gifs_search&rid=giphy.gif&ct=g\" width=\"400\" height=\"300\">"
   ]
  },
  {
   "cell_type": "markdown",
   "metadata": {},
   "source": [
    "Tal como en muchos otros problemas de negocio, los datos probablemente deben ser pre procesados antes de aplicar cualquier técnica de analítica. Bajo esa premisa, en esta sección deben desarrollar código que les permita **preparar los datos** de tal forma que les permita resolver el problema planteado. Para esto, pueden aplicar procesamientos como:\n",
    "\n",
    "- Transformaciones de tipo de dato (str, int, etc)\n",
    "- Cruce de información\n",
    "- Eliminación de duplicados\n",
    "- Filtros de fila y/o columnas\n",
    "\n",
    "*Hint: ¿Qué forma debería tener la data para resolver un problema de aprendizaje supervisado?*\n",
    "\n",
    "Todo proceso llevado a cabo debe estar bien documentado y justificado en el informe, explicando el por qué se decidió realizar en funcion de los datos presentados y los objetivos planteados del proyecto."
   ]
  },
  {
   "cell_type": "code",
   "execution_count": 15,
   "metadata": {},
   "outputs": [],
   "source": [
    "# Desarrolle aquí su código"
   ]
  },
  {
   "cell_type": "markdown",
   "metadata": {},
   "source": [
    "Como el resultado final del modelo espera obtener la probabilidad de compra de cada productor para cada cliente en una semana determinada, lo primero que se debe hacer es juntar la información de los tres archivos entregados en un solo DataFrame \n",
    "mediante los identificadores `customer_id` y `product_id`. Luego se deben agregar los datos de manera semanal, de manera de obtener variable cuantas veces un cliente compró un producto especifico en una semana determinada."
   ]
  },
  {
   "cell_type": "code",
   "execution_count": 16,
   "metadata": {},
   "outputs": [],
   "source": [
    "# Librerías requeridas\n",
    "import pandas as pd\n",
    "import numpy as np\n",
    "import matplotlib.pyplot as plt"
   ]
  },
  {
   "cell_type": "code",
   "execution_count": 17,
   "metadata": {},
   "outputs": [],
   "source": [
    "# Carga de datos\n",
    "clients = pd.read_parquet('data/clientes.parquet')\n",
    "transactions = pd.read_parquet('data/transacciones.parquet')\n",
    "products = pd.read_parquet('data/productos.parquet')"
   ]
  },
  {
   "cell_type": "code",
   "execution_count": 18,
   "metadata": {},
   "outputs": [],
   "source": [
    "def expected_unexpected_cols(expected, actual, df_name=\"DataFrame\"):\n",
    "\n",
    "    \"\"\"\n",
    "    Función para comparar columnas esperadas y actuales en un DataFrame.\n",
    "    Imprime las columnas que faltan y las que son inesperadas.\n",
    "    Parámetros:\n",
    "    - expected: lista de columnas esperadas\n",
    "    - actual: lista de columnas actuales\n",
    "    \"\"\"\n",
    "\n",
    "    # Convertir listas a sets para facilitar la comparación\n",
    "    expected_set = set(expected)\n",
    "    actual_set = set(actual)\n",
    "    \n",
    "    # Encontrar columnas faltantes e inesperadas\n",
    "    missing_cols = expected_set - actual_set\n",
    "    unexpected_cols = actual_set - expected_set\n",
    "\n",
    "    # Imprimir resultados\n",
    "    if missing_cols:\n",
    "        print(f\"Columnas faltantes en {df_name}: {missing_cols}\")\n",
    "    else:\n",
    "        print(f\"No hay columnas faltantes en {df_name}.\")\n",
    "\n",
    "    if unexpected_cols:\n",
    "        print(f\"Columnas inesperadas en {df_name}: {unexpected_cols}\")\n",
    "    else:\n",
    "        print(f\"No hay columnas inesperadas en {df_name}.\")\n",
    "\n",
    "    print()  # Línea en blanco para mejor legibilidad\n"
   ]
  },
  {
   "cell_type": "code",
   "execution_count": 19,
   "metadata": {},
   "outputs": [
    {
     "name": "stdout",
     "output_type": "stream",
     "text": [
      "No hay columnas faltantes en clients.\n",
      "Columnas inesperadas en clients: {'zone_id'}\n",
      "\n",
      "Columnas faltantes en transactions: {'payment'}\n",
      "Columnas inesperadas en transactions: {'items'}\n",
      "\n",
      "No hay columnas faltantes en products.\n",
      "No hay columnas inesperadas en products.\n",
      "\n"
     ]
    }
   ],
   "source": [
    "# Check de variables \n",
    "transactions_expected_cols = ['customer_id', 'product_id', 'order_id', 'purchase_date', 'payment']\n",
    "clients_expected_cols = ['customer_id', 'region_id', 'customer_type', 'Y', 'X', 'num_deliver_per_week', 'num_visit_per_week']\n",
    "products_expected_cols = ['product_id', 'brand', 'category', 'sub_category', 'segment', 'package', 'size']\n",
    "\n",
    "clients_actual_cols = clients.columns.tolist()\n",
    "transactions_actual_cols = transactions.columns.tolist()\n",
    "products_actual_cols = products.columns.tolist()\n",
    "\n",
    "expected_unexpected_cols(clients_expected_cols, clients_actual_cols, df_name=\"clients\")\n",
    "expected_unexpected_cols(transactions_expected_cols, transactions_actual_cols, df_name=\"transactions\")\n",
    "expected_unexpected_cols(products_expected_cols, products_actual_cols, df_name=\"products\")\n",
    "\n",
    "# Rename de items a payment para calzar con enunciado\n",
    "transactions = transactions.rename(columns={'items': 'payment'})\n",
    "\n",
    "# Eliminamos columna zone_id de clients, ya que no se reporta en enunciado\n",
    "#clients = clients.drop(columns=['zone_id'])"
   ]
  },
  {
   "cell_type": "code",
   "execution_count": 20,
   "metadata": {},
   "outputs": [
    {
     "name": "stdout",
     "output_type": "stream",
     "text": [
      "Duplicados en clients: 0\n",
      "Duplicados en transactions: 885\n",
      "Duplicados en products: 0\n"
     ]
    }
   ],
   "source": [
    "# Check de duplicados\n",
    "print(f\"Duplicados en clients: {clients.duplicated().sum()}\")\n",
    "print(f\"Duplicados en transactions: {transactions.duplicated().sum()}\")\n",
    "print(f\"Duplicados en products: {products.duplicated().sum()}\")\n",
    "\n",
    "# Eliminación de duplicados en transactions\n",
    "transactions = transactions.drop_duplicates(keep='first')"
   ]
  },
  {
   "cell_type": "code",
   "execution_count": 21,
   "metadata": {},
   "outputs": [],
   "source": [
    "# Unión de dataframes\n",
    "main_df = transactions.merge(clients, on='customer_id', how='left').merge(products, on='product_id', how='left')"
   ]
  },
  {
   "cell_type": "code",
   "execution_count": 22,
   "metadata": {},
   "outputs": [],
   "source": [
    "# Seteo de variables categóricas\n",
    "main_df['brand'] = main_df['brand'].astype('category')\n",
    "main_df['category'] = main_df['category'].astype('category')\n",
    "main_df['sub_category'] = main_df['sub_category'].astype('category')\n",
    "main_df['segment'] = main_df['segment'].astype('category')\n",
    "main_df['package'] = main_df['package'].astype('category')\n",
    "main_df[\"customer_type\"] = main_df[\"customer_type\"].astype('category')"
   ]
  },
  {
   "cell_type": "markdown",
   "metadata": {},
   "source": [
    "## 📌 EDA [0.5 puntos]\n",
    "\n",
    "<center>\n",
    "<img src=\"https://media3.giphy.com/media/v1.Y2lkPTc5MGI3NjExbHZ6aGdkd21tYTI3cW8zYWhyYW5wdGlyb2s3MmRzeTV0dzQ1NWlueiZlcD12MV9pbnRlcm5hbF9naWZfYnlfaWQmY3Q9Zw/3k1hJubTtOAKPKx4k3/giphy.gif\" width=\"400\" height=\"200\">"
   ]
  },
  {
   "cell_type": "markdown",
   "metadata": {},
   "source": [
    "En esta sección, se debe realizar un análisis exploratorio de los datos para comprender su estructura, detectar posibles problemas y obtener información relevante para el entrenamiento de los modelos. La idea es que puedan detectar **patrones en los datos** que les permitan resolver el problema con mayor facilidad.\n",
    "\n",
    "Se deben responder preguntas a partir de lo que puedan visualizar/obtener, por ejemplo:\n",
    "\n",
    "- Clientes y productos\n",
    "\n",
    "    - ¿Cuántos clientes únicos hay en el dataset?\n",
    "\n",
    "    - ¿Cuántos productos únicos se encuentran en los datos?\n",
    "\n",
    "- Periodo y frecuencia\n",
    "\n",
    "    - ¿De qué periodo es la información disponible?\n",
    "\n",
    "    - ¿Cuál es la frecuencia de los registros (diaria, semanal, mensual, etc.)?\n",
    "\n",
    "- Calidad de los datos\n",
    "\n",
    "    - ¿Existen valores nulos en el dataset? ¿Cuántos? ¿Cómo se pueden tratar?\n",
    "\n",
    "    - ¿Hay datos raros, como cantidades negativas o inconsistencias? Genere tests de validación para identificar estos problemas.\n",
    "\n",
    "- Patrones de compra\n",
    "\n",
    "    - ¿Cuántos productos compra en promedio cada cliente semana a semana?\n",
    "\n",
    "    - ¿Cuántas transacciones ha realizado cada cliente?\n",
    "\n",
    "    - ¿Cuál es el periodo de recompra promedio de cada SKU?"
   ]
  },
  {
   "cell_type": "code",
   "execution_count": 23,
   "metadata": {},
   "outputs": [],
   "source": [
    "# Desarrolle aquí su código"
   ]
  },
  {
   "cell_type": "markdown",
   "metadata": {},
   "source": [
    "### Datos númericos"
   ]
  },
  {
   "cell_type": "code",
   "execution_count": null,
   "metadata": {},
   "outputs": [],
   "source": [
    "# Separación de variables numéricas y categóricas\n",
    "\n",
    "numerical_columns = [col for col in main_df.columns if pd.api.types.is_numeric_dtype(main_df[col])]\n",
    "temporal_column = ['purchase_date']  # Columnas temporales que no se consideran numéricas\n",
    "categorical_columns = [col for col in main_df.columns if col not in numerical_columns + temporal_column] \n",
    "\n",
    "main_df_numerical = main_df[numerical_columns]\n",
    "temporal_variable = main_df[temporal_column]\n",
    "main_df_categorical = main_df[categorical_columns]"
   ]
  },
  {
   "cell_type": "code",
   "execution_count": 25,
   "metadata": {},
   "outputs": [
    {
     "name": "stdout",
     "output_type": "stream",
     "text": [
      "Descripción estadística de variables numéricas:\n"
     ]
    },
    {
     "data": {
      "application/vnd.microsoft.datawrangler.viewer.v0+json": {
       "columns": [
        {
         "name": "index",
         "rawType": "object",
         "type": "string"
        },
        {
         "name": "customer_id",
         "rawType": "float64",
         "type": "float"
        },
        {
         "name": "product_id",
         "rawType": "float64",
         "type": "float"
        },
        {
         "name": "order_id",
         "rawType": "float64",
         "type": "float"
        },
        {
         "name": "payment",
         "rawType": "float64",
         "type": "float"
        },
        {
         "name": "region_id",
         "rawType": "float64",
         "type": "float"
        },
        {
         "name": "zone_id",
         "rawType": "float64",
         "type": "float"
        },
        {
         "name": "Y",
         "rawType": "float64",
         "type": "float"
        },
        {
         "name": "X",
         "rawType": "float64",
         "type": "float"
        },
        {
         "name": "num_deliver_per_week",
         "rawType": "float64",
         "type": "float"
        },
        {
         "name": "num_visit_per_week",
         "rawType": "float64",
         "type": "float"
        },
        {
         "name": "size",
         "rawType": "float64",
         "type": "float"
        }
       ],
       "ref": "155cba91-b7e1-48d0-ae14-85de02732708",
       "rows": [
        [
         "count",
         "254051.0",
         "254051.0",
         "254051.0",
         "254051.0",
         "254051.0",
         "254051.0",
         "254051.0",
         "254051.0",
         "254051.0",
         "254051.0",
         "254051.0"
        ],
        [
         "mean",
         "190440.45492834115",
         "30736.266670865298",
         "640118.0985904405",
         "4.37575473690978",
         "80.0",
         "5148.0",
         "-46.64152228117773",
         "-107.77758816460471",
         "3.1646795328497035",
         "1.0",
         "0.675774549204687"
        ],
        [
         "std",
         "62862.32386193872",
         "24069.19278240363",
         "370856.69833194686",
         "12.080519368442824",
         "0.0",
         "0.0",
         "2.029225720830849",
         "2.0309809696046077",
         "0.3927772539279437",
         "0.0",
         "1.0889110830704296"
        ],
        [
         "min",
         "25734.0",
         "60.0",
         "2545.0",
         "-399.6666666666667",
         "80.0",
         "5148.0",
         "-109.0025078",
         "-108.62092",
         "2.0",
         "1.0",
         "0.25"
        ],
        [
         "25%",
         "175878.0",
         "1372.0",
         "312359.0",
         "1.0",
         "80.0",
         "5148.0",
         "-46.577054",
         "-107.930286",
         "3.0",
         "1.0",
         "0.25"
        ],
        [
         "50%",
         "203661.0",
         "33886.0",
         "651166.0",
         "2.3333333333333335",
         "80.0",
         "5148.0",
         "-46.552598",
         "-107.892716",
         "3.0",
         "1.0",
         "0.66"
        ],
        [
         "75%",
         "212748.0",
         "56714.0",
         "967045.0",
         "3.6666666666666665",
         "80.0",
         "5148.0",
         "-46.48994",
         "-107.85673",
         "3.0",
         "1.0",
         "1.0"
        ],
        [
         "max",
         "2061063.0",
         "63540.0",
         "1248450.0",
         "1000.3333333333334",
         "80.0",
         "5148.0",
         "-46.3085984",
         "-46.4427848",
         "6.0",
         "1.0",
         "20.0"
        ]
       ],
       "shape": {
        "columns": 11,
        "rows": 8
       }
      },
      "text/html": [
       "<div>\n",
       "<style scoped>\n",
       "    .dataframe tbody tr th:only-of-type {\n",
       "        vertical-align: middle;\n",
       "    }\n",
       "\n",
       "    .dataframe tbody tr th {\n",
       "        vertical-align: top;\n",
       "    }\n",
       "\n",
       "    .dataframe thead th {\n",
       "        text-align: right;\n",
       "    }\n",
       "</style>\n",
       "<table border=\"1\" class=\"dataframe\">\n",
       "  <thead>\n",
       "    <tr style=\"text-align: right;\">\n",
       "      <th></th>\n",
       "      <th>customer_id</th>\n",
       "      <th>product_id</th>\n",
       "      <th>order_id</th>\n",
       "      <th>payment</th>\n",
       "      <th>region_id</th>\n",
       "      <th>zone_id</th>\n",
       "      <th>Y</th>\n",
       "      <th>X</th>\n",
       "      <th>num_deliver_per_week</th>\n",
       "      <th>num_visit_per_week</th>\n",
       "      <th>size</th>\n",
       "    </tr>\n",
       "  </thead>\n",
       "  <tbody>\n",
       "    <tr>\n",
       "      <th>count</th>\n",
       "      <td>2.540510e+05</td>\n",
       "      <td>254051.000000</td>\n",
       "      <td>2.540510e+05</td>\n",
       "      <td>254051.000000</td>\n",
       "      <td>254051.0</td>\n",
       "      <td>254051.0</td>\n",
       "      <td>254051.000000</td>\n",
       "      <td>254051.000000</td>\n",
       "      <td>254051.000000</td>\n",
       "      <td>254051.0</td>\n",
       "      <td>254051.000000</td>\n",
       "    </tr>\n",
       "    <tr>\n",
       "      <th>mean</th>\n",
       "      <td>1.904405e+05</td>\n",
       "      <td>30736.266671</td>\n",
       "      <td>6.401181e+05</td>\n",
       "      <td>4.375755</td>\n",
       "      <td>80.0</td>\n",
       "      <td>5148.0</td>\n",
       "      <td>-46.641522</td>\n",
       "      <td>-107.777588</td>\n",
       "      <td>3.164680</td>\n",
       "      <td>1.0</td>\n",
       "      <td>0.675775</td>\n",
       "    </tr>\n",
       "    <tr>\n",
       "      <th>std</th>\n",
       "      <td>6.286232e+04</td>\n",
       "      <td>24069.192782</td>\n",
       "      <td>3.708567e+05</td>\n",
       "      <td>12.080519</td>\n",
       "      <td>0.0</td>\n",
       "      <td>0.0</td>\n",
       "      <td>2.029226</td>\n",
       "      <td>2.030981</td>\n",
       "      <td>0.392777</td>\n",
       "      <td>0.0</td>\n",
       "      <td>1.088911</td>\n",
       "    </tr>\n",
       "    <tr>\n",
       "      <th>min</th>\n",
       "      <td>2.573400e+04</td>\n",
       "      <td>60.000000</td>\n",
       "      <td>2.545000e+03</td>\n",
       "      <td>-399.666667</td>\n",
       "      <td>80.0</td>\n",
       "      <td>5148.0</td>\n",
       "      <td>-109.002508</td>\n",
       "      <td>-108.620920</td>\n",
       "      <td>2.000000</td>\n",
       "      <td>1.0</td>\n",
       "      <td>0.250000</td>\n",
       "    </tr>\n",
       "    <tr>\n",
       "      <th>25%</th>\n",
       "      <td>1.758780e+05</td>\n",
       "      <td>1372.000000</td>\n",
       "      <td>3.123590e+05</td>\n",
       "      <td>1.000000</td>\n",
       "      <td>80.0</td>\n",
       "      <td>5148.0</td>\n",
       "      <td>-46.577054</td>\n",
       "      <td>-107.930286</td>\n",
       "      <td>3.000000</td>\n",
       "      <td>1.0</td>\n",
       "      <td>0.250000</td>\n",
       "    </tr>\n",
       "    <tr>\n",
       "      <th>50%</th>\n",
       "      <td>2.036610e+05</td>\n",
       "      <td>33886.000000</td>\n",
       "      <td>6.511660e+05</td>\n",
       "      <td>2.333333</td>\n",
       "      <td>80.0</td>\n",
       "      <td>5148.0</td>\n",
       "      <td>-46.552598</td>\n",
       "      <td>-107.892716</td>\n",
       "      <td>3.000000</td>\n",
       "      <td>1.0</td>\n",
       "      <td>0.660000</td>\n",
       "    </tr>\n",
       "    <tr>\n",
       "      <th>75%</th>\n",
       "      <td>2.127480e+05</td>\n",
       "      <td>56714.000000</td>\n",
       "      <td>9.670450e+05</td>\n",
       "      <td>3.666667</td>\n",
       "      <td>80.0</td>\n",
       "      <td>5148.0</td>\n",
       "      <td>-46.489940</td>\n",
       "      <td>-107.856730</td>\n",
       "      <td>3.000000</td>\n",
       "      <td>1.0</td>\n",
       "      <td>1.000000</td>\n",
       "    </tr>\n",
       "    <tr>\n",
       "      <th>max</th>\n",
       "      <td>2.061063e+06</td>\n",
       "      <td>63540.000000</td>\n",
       "      <td>1.248450e+06</td>\n",
       "      <td>1000.333333</td>\n",
       "      <td>80.0</td>\n",
       "      <td>5148.0</td>\n",
       "      <td>-46.308598</td>\n",
       "      <td>-46.442785</td>\n",
       "      <td>6.000000</td>\n",
       "      <td>1.0</td>\n",
       "      <td>20.000000</td>\n",
       "    </tr>\n",
       "  </tbody>\n",
       "</table>\n",
       "</div>"
      ],
      "text/plain": [
       "        customer_id     product_id      order_id        payment  region_id  \\\n",
       "count  2.540510e+05  254051.000000  2.540510e+05  254051.000000   254051.0   \n",
       "mean   1.904405e+05   30736.266671  6.401181e+05       4.375755       80.0   \n",
       "std    6.286232e+04   24069.192782  3.708567e+05      12.080519        0.0   \n",
       "min    2.573400e+04      60.000000  2.545000e+03    -399.666667       80.0   \n",
       "25%    1.758780e+05    1372.000000  3.123590e+05       1.000000       80.0   \n",
       "50%    2.036610e+05   33886.000000  6.511660e+05       2.333333       80.0   \n",
       "75%    2.127480e+05   56714.000000  9.670450e+05       3.666667       80.0   \n",
       "max    2.061063e+06   63540.000000  1.248450e+06    1000.333333       80.0   \n",
       "\n",
       "        zone_id              Y              X  num_deliver_per_week  \\\n",
       "count  254051.0  254051.000000  254051.000000         254051.000000   \n",
       "mean     5148.0     -46.641522    -107.777588              3.164680   \n",
       "std         0.0       2.029226       2.030981              0.392777   \n",
       "min      5148.0    -109.002508    -108.620920              2.000000   \n",
       "25%      5148.0     -46.577054    -107.930286              3.000000   \n",
       "50%      5148.0     -46.552598    -107.892716              3.000000   \n",
       "75%      5148.0     -46.489940    -107.856730              3.000000   \n",
       "max      5148.0     -46.308598     -46.442785              6.000000   \n",
       "\n",
       "       num_visit_per_week           size  \n",
       "count            254051.0  254051.000000  \n",
       "mean                  1.0       0.675775  \n",
       "std                   0.0       1.088911  \n",
       "min                   1.0       0.250000  \n",
       "25%                   1.0       0.250000  \n",
       "50%                   1.0       0.660000  \n",
       "75%                   1.0       1.000000  \n",
       "max                   1.0      20.000000  "
      ]
     },
     "execution_count": 25,
     "metadata": {},
     "output_type": "execute_result"
    }
   ],
   "source": [
    "# Descripción estadística de variables numéricas\n",
    "print(\"Descripción estadística de variables numéricas:\")\n",
    "main_df_numerical.describe()"
   ]
  },
  {
   "cell_type": "code",
   "execution_count": 36,
   "metadata": {},
   "outputs": [],
   "source": [
    "# Eliminamos columnas de ids, ya que podrían introducir ruido en el análisis\n",
    "suffixes_to_remove = ['_id']\n",
    "columns_to_remove = [col for col in main_df.columns if any(col.endswith(suffix) for suffix in suffixes_to_remove)]\n",
    "main_df = main_df.drop(columns=columns_to_remove)\n",
    "main_df_numerical = main_df_numerical.drop(columns=columns_to_remove)\n",
    "\n",
    "# Eliminamos columna num_visits_per_week, ya que tiene varianza 0\n",
    "main_df = main_df.drop(columns=['num_visit_per_week'])\n",
    "main_df_numerical = main_df_numerical.drop(columns=['num_visit_per_week'])"
   ]
  },
  {
   "cell_type": "code",
   "execution_count": 38,
   "metadata": {},
   "outputs": [
    {
     "data": {
      "image/png": "[encoded data removed]",
      "text/plain": [
       "<Figure size 800x400 with 1 Axes>"
      ]
     },
     "metadata": {},
     "output_type": "display_data"
    },
    {
     "data": {
      "image/png": "[encoded data removed]",
      "text/plain": [
       "<Figure size 800x400 with 1 Axes>"
      ]
     },
     "metadata": {},
     "output_type": "display_data"
    },
    {
     "data": {
      "image/png": "[encoded data removed]",
      "text/plain": [
       "<Figure size 800x400 with 1 Axes>"
      ]
     },
     "metadata": {},
     "output_type": "display_data"
    },
    {
     "data": {
      "image/png": "[encoded data removed]",
      "text/plain": [
       "<Figure size 800x400 with 1 Axes>"
      ]
     },
     "metadata": {},
     "output_type": "display_data"
    },
    {
     "data": {
      "image/png": "[encoded data removed]",
      "text/plain": [
       "<Figure size 800x400 with 1 Axes>"
      ]
     },
     "metadata": {},
     "output_type": "display_data"
    }
   ],
   "source": [
    "# Histogramas de variables numéricas\n",
    "for col in main_df_numerical.columns:\n",
    "    plt.figure(figsize=(8, 4))\n",
    "    col_data = main_df_numerical[col].dropna()\n",
    "    col_data_cropped = col_data[(col_data >= col_data.quantile(0.01)) & (col_data <= col_data.quantile(0.99))]\n",
    "    plt.hist(col_data_cropped, bins=30, edgecolor='black', alpha=0.7)\n",
    "    plt.title(f'Histograma de {col}')\n",
    "    plt.xlabel(col)\n",
    "    plt.ylabel('Frecuencia')\n",
    "    plt.grid(axis='y', alpha=0.75)\n",
    "    plt.show()"
   ]
  },
  {
   "cell_type": "code",
   "execution_count": null,
   "metadata": {},
   "outputs": [],
   "source": []
  },
  {
   "cell_type": "markdown",
   "metadata": {},
   "source": [
    "### Columna temporal"
   ]
  },
  {
   "cell_type": "code",
   "execution_count": 26,
   "metadata": {},
   "outputs": [
    {
     "name": "stdout",
     "output_type": "stream",
     "text": [
      "\n",
      "Descripción estadística de variable temporal:\n"
     ]
    },
    {
     "data": {
      "application/vnd.microsoft.datawrangler.viewer.v0+json": {
       "columns": [
        {
         "name": "index",
         "rawType": "object",
         "type": "string"
        },
        {
         "name": "purchase_date",
         "rawType": "object",
         "type": "unknown"
        }
       ],
       "ref": "2edd24fd-be3d-4089-bff2-60a9fabbb7ef",
       "rows": [
        [
         "count",
         "254051"
        ],
        [
         "mean",
         "2024-07-11 08:56:04.955855872"
        ],
        [
         "min",
         "2024-01-01 00:00:00"
        ],
        [
         "25%",
         "2024-03-26 00:00:00"
        ],
        [
         "50%",
         "2024-07-23 00:00:00"
        ],
        [
         "75%",
         "2024-10-23 00:00:00"
        ],
        [
         "max",
         "2024-12-31 00:00:00"
        ]
       ],
       "shape": {
        "columns": 1,
        "rows": 7
       }
      },
      "text/html": [
       "<div>\n",
       "<style scoped>\n",
       "    .dataframe tbody tr th:only-of-type {\n",
       "        vertical-align: middle;\n",
       "    }\n",
       "\n",
       "    .dataframe tbody tr th {\n",
       "        vertical-align: top;\n",
       "    }\n",
       "\n",
       "    .dataframe thead th {\n",
       "        text-align: right;\n",
       "    }\n",
       "</style>\n",
       "<table border=\"1\" class=\"dataframe\">\n",
       "  <thead>\n",
       "    <tr style=\"text-align: right;\">\n",
       "      <th></th>\n",
       "      <th>purchase_date</th>\n",
       "    </tr>\n",
       "  </thead>\n",
       "  <tbody>\n",
       "    <tr>\n",
       "      <th>count</th>\n",
       "      <td>254051</td>\n",
       "    </tr>\n",
       "    <tr>\n",
       "      <th>mean</th>\n",
       "      <td>2024-07-11 08:56:04.955855872</td>\n",
       "    </tr>\n",
       "    <tr>\n",
       "      <th>min</th>\n",
       "      <td>2024-01-01 00:00:00</td>\n",
       "    </tr>\n",
       "    <tr>\n",
       "      <th>25%</th>\n",
       "      <td>2024-03-26 00:00:00</td>\n",
       "    </tr>\n",
       "    <tr>\n",
       "      <th>50%</th>\n",
       "      <td>2024-07-23 00:00:00</td>\n",
       "    </tr>\n",
       "    <tr>\n",
       "      <th>75%</th>\n",
       "      <td>2024-10-23 00:00:00</td>\n",
       "    </tr>\n",
       "    <tr>\n",
       "      <th>max</th>\n",
       "      <td>2024-12-31 00:00:00</td>\n",
       "    </tr>\n",
       "  </tbody>\n",
       "</table>\n",
       "</div>"
      ],
      "text/plain": [
       "                       purchase_date\n",
       "count                         254051\n",
       "mean   2024-07-11 08:56:04.955855872\n",
       "min              2024-01-01 00:00:00\n",
       "25%              2024-03-26 00:00:00\n",
       "50%              2024-07-23 00:00:00\n",
       "75%              2024-10-23 00:00:00\n",
       "max              2024-12-31 00:00:00"
      ]
     },
     "execution_count": 26,
     "metadata": {},
     "output_type": "execute_result"
    }
   ],
   "source": [
    "# Descripción estadística de variable temporal\n",
    "print(\"\\nDescripción estadística de variable temporal:\")\n",
    "temporal_variable.describe()"
   ]
  },
  {
   "cell_type": "code",
   "execution_count": null,
   "metadata": {},
   "outputs": [
    {
     "data": {
      "application/vnd.microsoft.datawrangler.viewer.v0+json": {
       "columns": [
        {
         "name": "index",
         "rawType": "int64",
         "type": "integer"
        },
        {
         "name": "purchase_date",
         "rawType": "datetime64[ns]",
         "type": "datetime"
        }
       ],
       "ref": "f7f3f6e1-face-47eb-9168-313334bf0eb4",
       "rows": [
        [
         "0",
         "2024-04-27 00:00:00"
        ],
        [
         "1",
         "2024-04-27 00:00:00"
        ],
        [
         "2",
         "2024-04-29 00:00:00"
        ],
        [
         "3",
         "2024-04-29 00:00:00"
        ],
        [
         "4",
         "2024-04-26 00:00:00"
        ],
        [
         "5",
         "2024-04-29 00:00:00"
        ],
        [
         "6",
         "2024-04-29 00:00:00"
        ],
        [
         "7",
         "2024-04-29 00:00:00"
        ],
        [
         "8",
         "2024-04-28 00:00:00"
        ],
        [
         "9",
         "2024-04-29 00:00:00"
        ],
        [
         "10",
         "2024-04-27 00:00:00"
        ],
        [
         "11",
         "2024-04-26 00:00:00"
        ],
        [
         "12",
         "2024-04-29 00:00:00"
        ],
        [
         "13",
         "2024-04-29 00:00:00"
        ],
        [
         "14",
         "2024-04-29 00:00:00"
        ],
        [
         "15",
         "2024-04-28 00:00:00"
        ],
        [
         "16",
         "2024-04-29 00:00:00"
        ],
        [
         "17",
         "2024-04-29 00:00:00"
        ],
        [
         "18",
         "2024-04-29 00:00:00"
        ],
        [
         "19",
         "2024-04-29 00:00:00"
        ],
        [
         "20",
         "2024-04-29 00:00:00"
        ],
        [
         "21",
         "2024-04-29 00:00:00"
        ],
        [
         "22",
         "2024-04-29 00:00:00"
        ],
        [
         "23",
         "2024-04-29 00:00:00"
        ],
        [
         "24",
         "2024-04-29 00:00:00"
        ],
        [
         "25",
         "2024-04-29 00:00:00"
        ],
        [
         "26",
         "2024-04-29 00:00:00"
        ],
        [
         "27",
         "2024-04-29 00:00:00"
        ],
        [
         "28",
         "2024-04-29 00:00:00"
        ],
        [
         "29",
         "2024-04-27 00:00:00"
        ],
        [
         "30",
         "2024-04-28 00:00:00"
        ],
        [
         "31",
         "2024-04-28 00:00:00"
        ],
        [
         "32",
         "2024-04-29 00:00:00"
        ],
        [
         "33",
         "2024-04-27 00:00:00"
        ],
        [
         "34",
         "2024-04-29 00:00:00"
        ],
        [
         "35",
         "2024-04-29 00:00:00"
        ],
        [
         "36",
         "2024-04-29 00:00:00"
        ],
        [
         "37",
         "2024-04-29 00:00:00"
        ],
        [
         "38",
         "2024-04-29 00:00:00"
        ],
        [
         "39",
         "2024-04-29 00:00:00"
        ],
        [
         "40",
         "2024-04-29 00:00:00"
        ],
        [
         "41",
         "2024-04-29 00:00:00"
        ],
        [
         "42",
         "2024-04-29 00:00:00"
        ],
        [
         "43",
         "2024-04-28 00:00:00"
        ],
        [
         "44",
         "2024-04-29 00:00:00"
        ],
        [
         "45",
         "2024-04-29 00:00:00"
        ],
        [
         "46",
         "2024-04-29 00:00:00"
        ],
        [
         "47",
         "2024-04-29 00:00:00"
        ],
        [
         "48",
         "2024-04-26 00:00:00"
        ],
        [
         "49",
         "2024-04-29 00:00:00"
        ]
       ],
       "shape": {
        "columns": 1,
        "rows": 254051
       }
      },
      "text/html": [
       "<div>\n",
       "<style scoped>\n",
       "    .dataframe tbody tr th:only-of-type {\n",
       "        vertical-align: middle;\n",
       "    }\n",
       "\n",
       "    .dataframe tbody tr th {\n",
       "        vertical-align: top;\n",
       "    }\n",
       "\n",
       "    .dataframe thead th {\n",
       "        text-align: right;\n",
       "    }\n",
       "</style>\n",
       "<table border=\"1\" class=\"dataframe\">\n",
       "  <thead>\n",
       "    <tr style=\"text-align: right;\">\n",
       "      <th></th>\n",
       "      <th>purchase_date</th>\n",
       "    </tr>\n",
       "  </thead>\n",
       "  <tbody>\n",
       "    <tr>\n",
       "      <th>0</th>\n",
       "      <td>2024-04-27</td>\n",
       "    </tr>\n",
       "    <tr>\n",
       "      <th>1</th>\n",
       "      <td>2024-04-27</td>\n",
       "    </tr>\n",
       "    <tr>\n",
       "      <th>2</th>\n",
       "      <td>2024-04-29</td>\n",
       "    </tr>\n",
       "    <tr>\n",
       "      <th>3</th>\n",
       "      <td>2024-04-29</td>\n",
       "    </tr>\n",
       "    <tr>\n",
       "      <th>4</th>\n",
       "      <td>2024-04-26</td>\n",
       "    </tr>\n",
       "    <tr>\n",
       "      <th>...</th>\n",
       "      <td>...</td>\n",
       "    </tr>\n",
       "    <tr>\n",
       "      <th>254046</th>\n",
       "      <td>2024-05-27</td>\n",
       "    </tr>\n",
       "    <tr>\n",
       "      <th>254047</th>\n",
       "      <td>2024-05-25</td>\n",
       "    </tr>\n",
       "    <tr>\n",
       "      <th>254048</th>\n",
       "      <td>2024-05-27</td>\n",
       "    </tr>\n",
       "    <tr>\n",
       "      <th>254049</th>\n",
       "      <td>2024-05-27</td>\n",
       "    </tr>\n",
       "    <tr>\n",
       "      <th>254050</th>\n",
       "      <td>2024-05-27</td>\n",
       "    </tr>\n",
       "  </tbody>\n",
       "</table>\n",
       "<p>254051 rows × 1 columns</p>\n",
       "</div>"
      ],
      "text/plain": [
       "       purchase_date\n",
       "0         2024-04-27\n",
       "1         2024-04-27\n",
       "2         2024-04-29\n",
       "3         2024-04-29\n",
       "4         2024-04-26\n",
       "...              ...\n",
       "254046    2024-05-27\n",
       "254047    2024-05-25\n",
       "254048    2024-05-27\n",
       "254049    2024-05-27\n",
       "254050    2024-05-27\n",
       "\n",
       "[254051 rows x 1 columns]"
      ]
     },
     "execution_count": 30,
     "metadata": {},
     "output_type": "execute_result"
    }
   ],
   "source": [
    "temporal_variable.head()"
   ]
  },
  {
   "cell_type": "markdown",
   "metadata": {},
   "source": [
    "Fechas del dataframe corresponden a los comienzos del día que se realiza la transacción."
   ]
  },
  {
   "cell_type": "code",
   "execution_count": 27,
   "metadata": {},
   "outputs": [
    {
     "name": "stdout",
     "output_type": "stream",
     "text": [
      "\n",
      "Descripción estadística de variables categóricas:\n"
     ]
    },
    {
     "data": {
      "application/vnd.microsoft.datawrangler.viewer.v0+json": {
       "columns": [
        {
         "name": "index",
         "rawType": "object",
         "type": "string"
        },
        {
         "name": "customer_type",
         "rawType": "object",
         "type": "unknown"
        },
        {
         "name": "brand",
         "rawType": "object",
         "type": "unknown"
        },
        {
         "name": "category",
         "rawType": "object",
         "type": "unknown"
        },
        {
         "name": "sub_category",
         "rawType": "object",
         "type": "unknown"
        },
        {
         "name": "segment",
         "rawType": "object",
         "type": "unknown"
        },
        {
         "name": "package",
         "rawType": "object",
         "type": "unknown"
        }
       ],
       "ref": "69ed7679-34e6-4a61-85e2-6baca9890c57",
       "rows": [
        [
         "count",
         "254051",
         "254051",
         "254051",
         "254051",
         "254051",
         "254051"
        ],
        [
         "unique",
         "7",
         "21",
         "1",
         "2",
         "4",
         "3"
        ],
        [
         "top",
         "ABARROTES",
         "Brand 34",
         "BEBIDAS CARBONATADAS",
         "GASEOSAS",
         "MEDIUM",
         "BOTELLA"
        ],
        [
         "freq",
         "150064",
         "49481",
         "254051",
         "253595",
         "123542",
         "158256"
        ]
       ],
       "shape": {
        "columns": 6,
        "rows": 4
       }
      },
      "text/html": [
       "<div>\n",
       "<style scoped>\n",
       "    .dataframe tbody tr th:only-of-type {\n",
       "        vertical-align: middle;\n",
       "    }\n",
       "\n",
       "    .dataframe tbody tr th {\n",
       "        vertical-align: top;\n",
       "    }\n",
       "\n",
       "    .dataframe thead th {\n",
       "        text-align: right;\n",
       "    }\n",
       "</style>\n",
       "<table border=\"1\" class=\"dataframe\">\n",
       "  <thead>\n",
       "    <tr style=\"text-align: right;\">\n",
       "      <th></th>\n",
       "      <th>customer_type</th>\n",
       "      <th>brand</th>\n",
       "      <th>category</th>\n",
       "      <th>sub_category</th>\n",
       "      <th>segment</th>\n",
       "      <th>package</th>\n",
       "    </tr>\n",
       "  </thead>\n",
       "  <tbody>\n",
       "    <tr>\n",
       "      <th>count</th>\n",
       "      <td>254051</td>\n",
       "      <td>254051</td>\n",
       "      <td>254051</td>\n",
       "      <td>254051</td>\n",
       "      <td>254051</td>\n",
       "      <td>254051</td>\n",
       "    </tr>\n",
       "    <tr>\n",
       "      <th>unique</th>\n",
       "      <td>7</td>\n",
       "      <td>21</td>\n",
       "      <td>1</td>\n",
       "      <td>2</td>\n",
       "      <td>4</td>\n",
       "      <td>3</td>\n",
       "    </tr>\n",
       "    <tr>\n",
       "      <th>top</th>\n",
       "      <td>ABARROTES</td>\n",
       "      <td>Brand 34</td>\n",
       "      <td>BEBIDAS CARBONATADAS</td>\n",
       "      <td>GASEOSAS</td>\n",
       "      <td>MEDIUM</td>\n",
       "      <td>BOTELLA</td>\n",
       "    </tr>\n",
       "    <tr>\n",
       "      <th>freq</th>\n",
       "      <td>150064</td>\n",
       "      <td>49481</td>\n",
       "      <td>254051</td>\n",
       "      <td>253595</td>\n",
       "      <td>123542</td>\n",
       "      <td>158256</td>\n",
       "    </tr>\n",
       "  </tbody>\n",
       "</table>\n",
       "</div>"
      ],
      "text/plain": [
       "       customer_type     brand              category sub_category segment  \\\n",
       "count         254051    254051                254051       254051  254051   \n",
       "unique             7        21                     1            2       4   \n",
       "top        ABARROTES  Brand 34  BEBIDAS CARBONATADAS     GASEOSAS  MEDIUM   \n",
       "freq          150064     49481                254051       253595  123542   \n",
       "\n",
       "        package  \n",
       "count    254051  \n",
       "unique        3  \n",
       "top     BOTELLA  \n",
       "freq     158256  "
      ]
     },
     "execution_count": 27,
     "metadata": {},
     "output_type": "execute_result"
    }
   ],
   "source": [
    "# Descripción estadística de variables categóricas\n",
    "print(\"\\nDescripción estadística de variables categóricas:\")\n",
    "main_df_categorical.describe(include='all')"
   ]
  },
  {
   "cell_type": "markdown",
   "metadata": {},
   "source": [
    "## 📌 Holdout [0.25 puntos]\n",
    "\n",
    "Para evaluar correctamente el modelo y garantizar su capacidad de generalización, se deben dividir los datos en tres conjuntos: \n",
    "- `Entrenamiento` : Para ajustar los parámetros.\n",
    "- `Validación`: Para optimizar hiperparámetros y seleccionar el mejor modelo.\n",
    "- `Prueba` : Para evaluar el rendimiento final en datos no vistos.\n",
    "\n",
    "👀 **Hint**: *Recuerde que los datos tienen una temporalidad que debe considerarse al momento de separarlos, para evitar fugas de información. Es importante justificar la estrategia de partición elegida y visualizar la distribución temporal de los conjuntos generados*"
   ]
  },
  {
   "cell_type": "code",
   "execution_count": 11,
   "metadata": {},
   "outputs": [],
   "source": [
    "# Desarrolle aquí su código"
   ]
  },
  {
   "cell_type": "markdown",
   "metadata": {},
   "source": [
    "## 📌 Feature Engineering [0.5 puntos]\n",
    "\n",
    "<center>\n",
    "<img src=\"https://i.imgur.com/CmXZSSC.gif\" width=\"300\" height=\"200\">"
   ]
  },
  {
   "cell_type": "markdown",
   "metadata": {},
   "source": [
    "En esta sección, se deben construir pipelines para automatizar el preprocesamiento de los datos, lo cual garantizará que el flujo de trabajo sea reproducible y eficiente para esta entrega y las futuras. El objetivo es aplicar una serie de transformaciones en un orden definido para asegurar que los datos estén listos para los modelos a entrenar. El pipeline final debe incluir las técnicas de pre-procesamiento que se deben aplicar a los distintos datos (según lo que consideren necesario para el problema). Por ejemplo:\n",
    "\n",
    "- **Imputación de valores nulos**: Manejo de datos faltantes mediante estrategias adecuadas (media, mediana, moda, interpolación, etc.). \n",
    "\n",
    "- **Transformaciones personalizadas**: Uso de ColumnTransformer para aplicar diferentes transformaciones a columnas específicas.\n",
    "\n",
    "- **Codificación de variables categóricas**: Convertir datos categóricos a un formato numérico adecuado (One-Hot Encoding, Label Encoding, etc.).\n",
    "\n",
    "- **Discretización de variables**: Conversión de variables numéricas continuas en categorías si son relevantes para el desempeño del modelo a entrenar.\n",
    "\n",
    "- **Estandarización o normalización** : Ajustar la escala de los datos para mejorar el rendimiento de los algoritmos sensibles a la magnitud de las variables.\n",
    "\n",
    "- **Eliminación o transformación de valores atípicos**: Identificar y tratar con datos outliers para mejorar la robustez del modelo.\n",
    "\n",
    "- **Nuevas características** : Creación de variables adicionales que puedan aportar información relevante al modelo.\n",
    "\n",
    "Cada una de estas transformaciones debe ser justificada en función de su relevancia para el problema y los datos, y es importante evaluar su impacto en el rendimiento del modelo. Además, el pipeline debe ser flexible y modular para poder probar diferentes configuraciones de preprocesamiento."
   ]
  },
  {
   "cell_type": "code",
   "execution_count": 13,
   "metadata": {},
   "outputs": [],
   "source": [
    "# Desarrolle aquí su código "
   ]
  },
  {
   "cell_type": "markdown",
   "metadata": {},
   "source": [
    "## 📌 Baseline [0.25 puntos]\n",
    "\n",
    "<center>\n",
    "<img src=\"https://media1.giphy.com/media/v1.Y2lkPTc5MGI3NjExN3lzeGFqZmU3NzJrZHllNjRmaHVzczJpZ29rdHdlMzVpZnQwNXo1diZlcD12MV9pbnRlcm5hbF9naWZfYnlfaWQmY3Q9Zw/qAtZM2gvjWhPjmclZE/giphy.gif\" width=\"300\" height=\"200\">"
   ]
  },
  {
   "cell_type": "markdown",
   "metadata": {},
   "source": [
    "En esta sección se debe construir el modelo más sencillo posible que pueda resolver el problema planteado, conocido como **Modelo baseline**. Su propósito es servir como referencia para comparar el rendimiento de los modelos más avanzados desarrollados en etapas posteriores.  \n",
    "\n",
    "Pasos requeridos:  \n",
    "- Implemente, entrene y evalúe un modelo básico utilizando un pipeline.  \n",
    "- Asegúrese de incluir en el pipeline las transformaciones del preprocesamiento realizadas previamente junto con un clasificador básico.  \n",
    "- Evalúe el modelo y presente el informe de métricas utilizando **`classification_report`**.  \n",
    "\n",
    "Documente claramente cómo se creó el modelo, las decisiones tomadas y los resultados obtenidos. Este modelo será la base comparativa en las secciones posteriores."
   ]
  },
  {
   "cell_type": "code",
   "execution_count": 15,
   "metadata": {},
   "outputs": [],
   "source": [
    "# Desarrolle aquí su código "
   ]
  },
  {
   "cell_type": "markdown",
   "metadata": {},
   "source": [
    "## 📌 Elección de modelo [0.75 puntos]\n",
    "\n",
    "En esta sección deben escoger un modelo que se adapte a las necesidades del negocio. Para esto, pruebe al menos 3 modelos y desarrolle los siguientes aspectos para cada uno:\n",
    "\n",
    "- **Estructura y diferencias entre los modelos**: Explicar brevemente cada uno y sus hipérparámetros de mayor importancia.\n",
    "- **Clasificadores recomendados**:\n",
    "  - `LogisticRegression`\n",
    "  - `KNeighborsClassifier`\n",
    "  - `DecisionTreeClassifier`\n",
    "  - `SVC`\n",
    "  - `RandomForestClassifier`\n",
    "  - `LightGBMClassifier` (del paquete `lightgbm`)\n",
    "  - `XGBClassifier` (del paquete `xgboost`)\n",
    "  - Otro (según lo que se estime adecuado)\n",
    "  \n",
    "- **Evaluación de resultados**: Se utilizará el **`classification_report`** para evaluar el rendimiento de cada modelo, destacando métricas clave como precisión, recall y F1-score. **Importante: No optimicen hiperparámetros, la idea es hacer una selección rápida del modelo.**\n",
    "\n",
    "**Nota:** Pueden ocupar mas de 1 **instancia** de modelo para resolver el problema (e.g: (modelo_1, grupo_1), (modelo_2, grupo_2), ...).\n",
    "  \n",
    "A continuación, se deben responder las siguientes preguntas para evaluar el rendimiento de los modelos entrenados:\n",
    "\n",
    "1. ¿Hay algún clasificador que supere al modelo baseline?  \n",
    "2. ¿Cuál es el mejor clasificador entrenado y por qué?  \n",
    "3. ¿Qué factores hacen que el mejor clasificador sea superior a los otros?  \n",
    "4. En términos de `tiempo de entrenamiento`, ¿Qué modelo considera más adecuado para experimentar con grillas de optimización?"
   ]
  },
  {
   "cell_type": "code",
   "execution_count": 17,
   "metadata": {},
   "outputs": [],
   "source": [
    "# Desarrolle aquí su código "
   ]
  },
  {
   "cell_type": "markdown",
   "metadata": {},
   "source": [
    "## 📌 Optimización de Hiperparámetros [1.0 puntos]\n",
    "\n",
    "<center>\n",
    "<img src=\"https://media1.giphy.com/media/v1.Y2lkPTc5MGI3NjExcXJkNzdhYjlneHplaGpsbnVkdzh5dnY3Y2VyaTIzamszdGR1czJ2diZlcD12MV9pbnRlcm5hbF9naWZfYnlfaWQmY3Q9Zw/2rqEdFfkMzXmo/giphy.gif\" width=\"300\" height=\"200\">"
   ]
  },
  {
   "cell_type": "markdown",
   "metadata": {},
   "source": [
    "A partir de su análisis anterior, se debe proceder a optimizar el rendimiento del modelo seleccionado mediante la optimización de sus hiperparámetros. Para ello, se espera que implementen `Optuna` para optimizar no solo los hiperparámetros del modelo, sino también los de los preprocesadores utilizados (por ejemplo, OneHot Encoding, Scalers, etc.).\n",
    "\n",
    "Al desarrollar este proceso, deberán responder las siguientes preguntas clave como mínimo:\n",
    "\n",
    "- ¿Qué métrica decidieron optimizar y por qué?\n",
    "\n",
    "- ¿Qué hiperparámetro tuvo un mayor impacto en el rendimiento de su modelo?\n",
    "\n",
    "- ¿Cuánto mejoró el rendimiento del modelo después de la optimización de hiperparámetros?"
   ]
  },
  {
   "cell_type": "code",
   "execution_count": 20,
   "metadata": {},
   "outputs": [],
   "source": [
    "# Desarrolle aquí su código"
   ]
  },
  {
   "cell_type": "markdown",
   "metadata": {},
   "source": [
    "## 📌 Interpretabilidad [1.0 puntos]\n",
    "\n",
    "En esta sección, deben explicar el funcionamiento de su modelo utilizando las técnicas de interpretabilidad vistas en clase, como `SHAP`. Se espera que sean capaces de descomponer las predicciones y evaluar la importancia de los atributos y las interacciones entre ellos, con el fin de obtener una comprensión más profunda de cómo el modelo toma decisiones. \n",
    "\n",
    "Al desarrollar esta parte, deberán responder las siguientes preguntas clave como mínimo:\n",
    "\n",
    "- ¿Podría explicar el funcionamiento de su modelo para una predicción en particular? Si es así, proporcione al menos tres ejemplos específicos, describiendo cómo el modelo llegó a sus decisiones y qué factores fueron más relevantes en cada caso.\n",
    "\n",
    "- ¿Qué atributo tiene una mayor importancia en la salida de su modelo? Analice si esto tiene sentido con el problema planteado y justifique la relevancia de dicho atributo en el contexto de las predicciones que se realizan.\n",
    "\n",
    "- ¿Existe alguna interacción entre atributos que sea relevante para el modelo? Investigue si la combinación de ciertos atributos tiene un impacto significativo en las predicciones y explíquela en **detalle**.\n",
    "\n",
    "- ¿Podría existir sesgo hacia algún atributo en particular? Reflexione sobre la posibilidad de que el modelo esté favoreciendo ciertos atributos. Si es así, ¿cuál podría ser la causa y qué impacto podría tener esto en la predicción?"
   ]
  },
  {
   "cell_type": "code",
   "execution_count": 21,
   "metadata": {},
   "outputs": [],
   "source": [
    "# Desarrolle aquí su código"
   ]
  },
  {
   "cell_type": "markdown",
   "metadata": {},
   "source": [
    "## 📌 Resultados y Conclusiones [1.0 puntos]\n",
    "\n",
    "Para finalizar, se deben explicar los desarrollos y resultados obtenidos a lo largo de todo el proceso, desde la selección de las variables hasta la optimización de hiperparámetros e interpretación. Se espera una reflexión crítica sobre el desempeño de los modelos entrenados y una comparación entre los diferentes enfoques. Además, deberán abordar los siguientes puntos clave:\n",
    "\n",
    "- **Análisis de métricas**: Comenten sobre las métricas obtenidas en cada etapa del modelo, destacando las más relevantes como precisión, recall, F1-score, etc. ¿Cuáles fueron los modelos más efectivos? ¿Qué diferencias notables encontró entre ellos?\n",
    "\n",
    "- **Impacto de las decisiones tomadas**: Reflexionen sobre cómo las decisiones relacionadas con el preprocesamiento, selección de atributos y optimización de hiperparámetros influyeron en los resultados finales. ¿Hubo alguna decisión que haya tenido un impacto notable en el rendimiento?\n",
    "\n",
    "- **Lecciones aprendidas**: Concluyan sobre las lecciones más importantes que aprendieron durante el proceso y cómo estas pueden influir en futuras iteraciones del modelo. ¿Qué se podría mejorar si se repitiera el proceso? Si tuvieran más recursos y tiempo, ¿qué otras técnicas/herramientas habrían utilizado?"
   ]
  },
  {
   "cell_type": "markdown",
   "metadata": {},
   "source": [
    "> [Escriba aquí sus resultados]"
   ]
  },
  {
   "cell_type": "markdown",
   "metadata": {},
   "source": [
    "Mucho éxito!\n",
    "\n",
    "<center>\n",
    "<img src=\"https://media3.giphy.com/media/v1.Y2lkPTc5MGI3NjExaHpvOTY5Z3hpdHI3aDBpdGRueXRqamZncXp2emFrbjJ5M2s5eTR1dSZlcD12MV9pbnRlcm5hbF9naWZfYnlfaWQmY3Q9Zw/1PMVNNKVIL8Ig/giphy.gif\" width=\"300\" height=\"200\">\n"
   ]
  }
 ],
 "metadata": {
  "kernelspec": {
   "display_name": "Python 3",
   "language": "python",
   "name": "python3"
  },
  "language_info": {
   "codemirror_mode": {
    "name": "ipython",
    "version": 3
   },
   "file_extension": ".py",
   "mimetype": "text/x-python",
   "name": "python",
   "nbconvert_exporter": "python",
   "pygments_lexer": "ipython3",
   "version": "3.11.5"
  }
 },
 "nbformat": 4,
 "nbformat_minor": 2
}
