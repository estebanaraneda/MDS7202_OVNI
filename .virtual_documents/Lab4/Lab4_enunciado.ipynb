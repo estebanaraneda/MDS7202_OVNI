


























import numpy as np
import pandas as pd

from sklearn import datasets

import plotly.express as px
import plotly.graph_objects as go
from plotly.subplots import make_subplots














"""
En la siguiente celda se crean los datos ficticios a usar en la sección 1 del lab.
❗No realice cambios a esta celda a excepción de n_samples❗
"""

# Datos a utilizar

# Configuracion
n_samples = 5000 #Este parámetro si lo pueden modificar

def create_data(n_samples):

    # Lunas
    moons = datasets.make_moons(n_samples=n_samples, noise=0.05, random_state=30)
    # Blobs
    blobs = datasets.make_blobs(n_samples=n_samples, random_state=172)
    # Datos desiguales
    transformation = [[0.6, -0.6], [-0.4, 0.8]]
    mutated = (np.dot(blobs[0], transformation), blobs[1])

    # Generamos Dataset
    dataset = {
        'moons':{
            'x': moons[0], 'classes': moons[1], 'n_cluster': 2
        },
        'blobs':{
            'x': blobs[0], 'classes': blobs[1], 'n_cluster': 3
        },
        'mutated':{
            'x': mutated[0], 'classes': mutated[1], 'n_cluster': 3
        }
    }
    return dataset

data_sets = create_data(n_samples)





from sklearn.cluster import DBSCAN, KMeans, ward_tree
from sklearn.mixture import GaussianMixture
from sklearn.metrics import silhouette_score
from time import time as tiempo


algoritmos = [KMeans, GaussianMixture,ward_tree,DBSCAN]
def plot_scatter(x, y, color, duracion, silho, figura, r,c):
    #Escriba su código aquí
    figura.add_trace(go.Scatter(x,y), color=color, row=r, col=c,)
    pass

def hacer_grilla(set_de_datos):
    fig = make_subplots(rows=3, cols=4)
    for contador, forma in enumerate(set_de_datos.keys()):
        for contador2, alg in enumerate(algoritmos):
            start_time = tiempo()
            y =  alg(set_de_datos[forma]['x'],n_clusters=set_de_datos[forma]['n_cluster'])
            diftime = tiempo()-start_time
            plot_scatter(set_de_datos[forma]['x'],y, "magma", contador, contador2)
            #fig.add_trace(go.Scatter(,    y=[100, 110, 120],), row=2, col=1)



hacer_grilla(data_sets)




















# Carga de datos














# Escriba su código aquí














# Escriba su código aquí














# Escriba su código aquí














# Escriba su código aquí



